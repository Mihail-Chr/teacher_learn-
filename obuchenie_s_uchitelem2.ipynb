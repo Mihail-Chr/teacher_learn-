{
 "cells": [
  {
   "cell_type": "markdown",
   "metadata": {
    "id": "H6cQIZr3ElW1"
   },
   "source": [
    "# Описание проекта: \n",
    "\n",
    "Данные были представленны на основании 3 х фаилов. еобходимо проанализировать данные. Собранная статистика учитывает оценку \"Покупательская активность\". На основе данных нужно построить модель, которая сможет правильно прогнозировать данный признак. Произвести оценку модели. Дать рекомендации на основании произведенных исследований."
   ]
  },
  {
   "cell_type": "code",
   "execution_count": null,
   "metadata": {},
   "outputs": [],
   "source": [
    "# инсталяция библиотек\n",
    "!pip install skimpy\n",
    "\n",
    "!pip install optuna \n",
    "!pip install sketch\n",
    "!pip install mlxtend\n",
    "!pip install optuna-integration\n",
    "!pip install imblearn\n",
    "#!pip install yellowbrick\n",
    "!pip install phik \n",
    "!pip install shap\n",
    "!pip install scikit-learn\n",
    "!!pip install sklearn\n",
    "#df=df.rename(columns=lambda x:x.lower().replace(' ','_'))"
   ]
  },
  {
   "cell_type": "code",
   "execution_count": null,
   "metadata": {
    "scrolled": true
   },
   "outputs": [],
   "source": [
    "# загрузка библиотек\n",
    "\n",
    "import pandas as pd\n",
    "import numpy as np\n",
    "\n",
    "import phik\n",
    "import shap \n",
    "import sklearn.utils\n",
    "import seaborn as sns\n",
    "import matplotlib.pyplot as plt\n",
    "\n",
    "from sklearn.metrics import (confusion_matrix,mean_squared_error,precision_recall_curve,roc_auc_score,\n",
    "                             r2_score,accuracy_score,make_scorer,f1_score,roc_curve,RocCurveDisplay,\n",
    "                             mean_absolute_error,recall_score,precision_score,ConfusionMatrixDisplay)\n",
    "\n",
    "from sklearn.feature_selection import SelectKBest,f_classif, mutual_info_classif  \n",
    "from sklearn.inspection import permutation_importance\n",
    "from sklearn.preprocessing import (StandardScaler,MinMaxScaler,LabelEncoder,RobustScaler,\n",
    "                                   OneHotEncoder,PolynomialFeatures,OrdinalEncoder) \n",
    "\n",
    "from sklearn.model_selection import (train_test_split,GridSearchCV,RandomizedSearchCV)\n",
    "\n",
    "from sklearn.linear_model import LogisticRegression\n",
    "from sklearn.neighbors import KNeighborsClassifier\n",
    "from sklearn.tree import DecisionTreeClassifier,plot_tree ,export_text \n",
    "from sklearn.svm import SVC\n",
    "\n",
    "from sklearn.pipeline import Pipeline\n",
    "from sklearn.compose import ColumnTransformer\n",
    "from sklearn.impute import SimpleImputer \n",
    "\n",
    "from optuna import distributions,visualization \n",
    "from optuna.integration import OptunaSearchCV\n",
    "from phik.report import plot_correlation_matrix\n",
    "from phik import phik_matrix\n",
    "\n",
    "\n",
    "pd.options.mode.chained_assignment = None\n",
    "pd.options.display.float_format = '{:,.2f}'.format\n",
    "RANDOM_STATE = 42\n",
    "TEST_SIZE = 0.25\n",
    "#pd.options.mode.copy_on_write = True"
   ]
  },
  {
   "cell_type": "code",
   "execution_count": null,
   "metadata": {},
   "outputs": [],
   "source": [
    "# функиция преобразования в bool и запоминания значений в словарь\n",
    "def bul(dat,col,tru,nt):\n",
    "    dat[col][dat[col]==tru]=1 \n",
    "    dat[col][dat[col]==nt]=0\n",
    "    dat[col]=dat[col].astype('bool')\n",
    "    #voc_k[col]=(nt,tru)"
   ]
  },
  {
   "cell_type": "markdown",
   "metadata": {},
   "source": [
    "## Загрузка данных"
   ]
  },
  {
   "cell_type": "code",
   "execution_count": null,
   "metadata": {},
   "outputs": [],
   "source": [
    "# m-main, mm- market money, mt - market time, с -cost\n",
    "df_m = pd.read_csv('C:\\Users\\rs_mi\\git_hub\\teacher_learn\\market_file.csv', sep =',', decimal='.')\n",
    "df_mm =pd.read_csv('C:\\Users\\rs_mi\\git_hub\\teacher_learn\\market_money.csv', sep =',',decimal='.')\n",
    "df_mt=pd.read_csv('C:\\Users\\rs_mi\\git_hub\\teacher_learn\\market_time.csv', sep =',',decimal='.')\n",
    "df_c=pd.read_csv('C:\\Users\\rs_mi\\git_hub\\teacher_learn\\money.csv', sep =';',decimal=',')\n",
    "\n",
    "dat_name=[df_m,df_mm,df_mt,df_c]\n",
    "for d in dat_name:\n",
    "    display(d.tail(5))\n",
    "    d.info()\n",
    "    display (d.nunique())\n",
    "    \n",
    "    "
   ]
  },
  {
   "cell_type": "markdown",
   "metadata": {},
   "source": [
    "## Предобработка данных"
   ]
  },
  {
   "cell_type": "code",
   "execution_count": null,
   "metadata": {},
   "outputs": [],
   "source": [
    "#преданализ данных\n",
    "for d in dat_name:\n",
    "    #display(d.columns)\n",
    "    for i in d.columns:\n",
    "        if d[i].nunique()<15 :\n",
    "            display(i,d[i].unique() )\n",
    "\n",
    "#исправление опечатки\n",
    "df_m['Тип сервиса'][df_m['Тип сервиса']=='стандартт']='стандарт'\n",
    "df_mt['Период'][df_mt['Период']=='предыдцщий_месяц']='предыдущий_месяц'"
   ]
  },
  {
   "cell_type": "code",
   "execution_count": null,
   "metadata": {},
   "outputs": [],
   "source": [
    "# преоюразуем и сократим базы по маркетигу и выручке\n",
    "df_mt.info()\n",
    "display(df_mt['Период'].unique() )\n",
    "display(df_m['Тип сервиса'].unique() )\n",
    "\n",
    "m1=df_mm[df_mm['Период']=='текущий_месяц']\n",
    "m1=m1.drop('Период',axis=1).copy()\n",
    "m1=m1.rename(columns={'Выручка': 'Выручка_ТМ'})\n",
    "\n",
    "m2=df_mm[df_mm['Период']=='предыдущий_месяц']\n",
    "m2=m2.rename(columns={'Выручка': 'Выручка_ПМ'})\n",
    "m2=m2.drop('Период',axis=1).copy()\n",
    "\n",
    "m3=df_mm[df_mm['Период']=='препредыдущий_месяц']\n",
    "m3=m3.rename(columns={'Выручка': 'Выручка_ППМ'})\n",
    "m3=m3.drop('Период',axis=1).copy()\n",
    "\n",
    "df_mm_n=m1.merge(m2, on='id', how='left' ) \n",
    "df_mm_n=df_mm_n.merge(m3, on='id', how='left' ) \n",
    "\n",
    "\n",
    "m1=df_mt[df_mt['Период']=='текущий_месяц']\n",
    "m1=m1.drop('Период',axis=1).copy()\n",
    "m1=m1.rename(columns={'минут': 'минут_ТМ'})\n",
    "\n",
    "m2=df_mt[df_mt['Период']=='предыдущий_месяц']\n",
    "m2=m2.drop('Период',axis=1).copy()\n",
    "m2=m2.rename(columns={'минут': 'минут_ПМ'})\n",
    "\n",
    "m2.info()\n",
    "df_mt_n=m1.merge(m2, on='id', how='left' ) \n",
    "\n",
    "\n",
    "df_mm_n['дельта_выр_пред'] =df_mm_n['Выручка_ПМ'] -df_mm_n['Выручка_ППМ']\n",
    "df_mm_n['дельта_выр_тек'] =df_mm_n['Выручка_ТМ'] -df_mm_n['Выручка_ПМ']\n",
    "\n",
    "df_mt_n.info()\n",
    "df_mm_n.info()"
   ]
  },
  {
   "cell_type": "code",
   "execution_count": null,
   "metadata": {},
   "outputs": [],
   "source": [
    "# преобразовываем 2-х категорийные параметры в boolewn\n",
    "bul(df_m,'Покупательская активность','Снизилась','Прежний уровень')\n",
    "bul(df_m,'Разрешить сообщать','да','нет')\n",
    "bul(df_m,'Тип сервиса','премиум','стандарт')\n",
    "\n",
    "df_m.info()"
   ]
  },
  {
   "cell_type": "code",
   "execution_count": null,
   "metadata": {},
   "outputs": [],
   "source": [
    "# преобразуем длительность в днях  в месяцы\n",
    "df_m['Длительность']=round(df_m['Длительность']/30.42,0).astype('int')\n",
    "df_mcc=df_m.copy()\n",
    "# поскольку \"популярная категория\" не поддается ранжированию, то преобразование в числоврй тип предлагается сделать с помощью OHE\n",
    "\n",
    "# !!! при построении модели не забыть про Дамми-ловушку - удалить признак\n",
    "\n",
    "#m_ohe=OneHotEncoder()\n",
    "#d_ohe = m_ohe.fit_transform(df_m[['Популярная_категория']],sparse_output=False)\n",
    "#encoder_col_names = m_ohe.get_feature_names_out()\n",
    "#df_ohe = pd.DataFrame(d_ohe, columns=encoder_col_names )\n",
    "#df_ohe=df_ohe.astype('bool')\n",
    "#df_m= pd.concat([df_m,df_ohe], axis=1)\n",
    "#df_m=df_m.drop(['Популярная_категория'], axis=1)\n",
    "\n",
    "df_m.info()"
   ]
  },
  {
   "cell_type": "markdown",
   "metadata": {},
   "source": [
    "### Промежуточные выводы предобработки :\n",
    "\n",
    "\n",
    "- исправлена опечатка в периоде в базе с выручкой \n",
    "- исправлена опечатка в \"Тип сервиса\" в основной базе\n",
    "- уникальные id клиентов по всем базам совпадаеют полностью, в базе активнось показана активность только за 3 месяча, в базе выручка-за 2 месяца\n",
    "- преобразованны данные в числовые/bool\n",
    "- преобразовали данные по времени по клиентам (выручка, маркетинг)\n",
    "- \"оцифровали\" 'Популярная_категория' OHE - не \"цифровых\" данных больше нет\n",
    "- преобразовали \"Длительность\" в месяцас округлением до целого"
   ]
  },
  {
   "cell_type": "markdown",
   "metadata": {},
   "source": [
    "## Исследовательский анализ данных"
   ]
  },
  {
   "cell_type": "code",
   "execution_count": null,
   "metadata": {},
   "outputs": [],
   "source": [
    "# анализ данных по времени \n",
    "n_k_p=df_mt_n.columns\n",
    "n_k_p=n_k_p.drop('id').copy()\n",
    "\n",
    "for n in n_k_p:\n",
    "    display(n)\n",
    "    plt.hist(df_mt_n[n],bins=50)\n",
    "    plt.show()"
   ]
  },
  {
   "cell_type": "code",
   "execution_count": null,
   "metadata": {},
   "outputs": [],
   "source": [
    "\n",
    "%matplotlib inline\n",
    "%config InlineBackend.figure_format = 'svg'\n",
    "\n",
    "n_k_p=df_m.select_dtypes(include='float').columns.to_list()\n",
    "# создадим два подграфика ax_box и ax_hist\n",
    "# кроме того, укажем, что нам нужны:\n",
    "\n",
    "for n in n_k_p:\n",
    "    fig, (ax_box, ax_hist) = plt.subplots(2, # две строки в сетке подграфиков,\n",
    "                                    sharex = True, # единая шкала по оси x и\n",
    "                                    gridspec_kw = {'height_ratios': (.15, .85)}) # пропорция 15/85 по высоте\n",
    "    \n",
    "    sns.boxplot(x = df_mcc[n], ax = ax_box)\n",
    "    plt.hist(df_mcc[n],bins=50)\n",
    "    \n",
    "    # добавим подписи к каждому из графиков через метод .set()\n",
    "    ax_box.set(xlabel = '') # пустые кавычки удаляют подпись (!)\n",
    "    ax_hist.set(xlabel = n)\n",
    "    ax_hist.set(ylabel = 'count')\n",
    "    # выведем результат\n",
    "    plt.show()\n",
    "\n",
    "    "
   ]
  },
  {
   "cell_type": "code",
   "execution_count": null,
   "metadata": {},
   "outputs": [],
   "source": [
    "for i in df_mcc.columns:\n",
    "    if df_mcc[i].nunique()<15:\n",
    "        sns.countplot(y=i, data=df_mcc)\n",
    "        plt.show()\n",
    "        \n",
    "plt.show()\n",
    "##display(df_m.describe())"
   ]
  },
  {
   "cell_type": "code",
   "execution_count": null,
   "metadata": {},
   "outputs": [],
   "source": [
    "# анализ данных по выручке \n",
    "n_k_p=df_mm_n.columns\n",
    "n_k_p=n_k_p.drop('id').copy()\n",
    "\n",
    "for n in n_k_p:\n",
    "    fig, (ax_box, ax_hist) = plt.subplots(2, # две строки в сетке подграфиков,\n",
    "                                    sharex = True, # единая шкала по оси x и\n",
    "                                    gridspec_kw = {'height_ratios': (.20, .80)}) # пропорция 15/85 по высоте\n",
    "    sns.boxplot(x = df_mm_n[n], ax = ax_box)\n",
    "    plt.hist(df_mm_n[n],bins=50)\n",
    "    # добавим подписи к каждому из графиков через метод .set()\n",
    "    ax_box.set(xlabel = '') # пустые кавычки удаляют подпись (!)\n",
    "    ax_hist.set(xlabel = n)\n",
    "    ax_hist.set(ylabel = 'count')\n",
    "    # выведем результат\n",
    "    plt.show()       \n",
    "   "
   ]
  },
  {
   "cell_type": "code",
   "execution_count": null,
   "metadata": {},
   "outputs": [],
   "source": [
    "#исследуем \"выбросы\" по выручке\n",
    "display('Выручка_ТМ>15000',df_mm_n[df_mm_n['Выручка_ТМ']>15000])\n",
    "display('Выручка_ПМ<2500',df_mm_n[df_mm_n['Выручка_ПМ']<2500])\n",
    "display('Выручка_ППМ<3500',df_mm_n[df_mm_n['Выручка_ППМ']<3500])\n",
    "display('дельта_выр_тек',df_mm_n[df_mm_n['дельта_выр_тек']<-1000])\n",
    "\n",
    "display('клиенты с нулевой выручкой', df_mm[df_mm['Выручка']==0])\n",
    "\n",
    "#предлагается удалить единичные выбросы\n",
    "df_mm_n=df_mm_n[df_mm_n['Выручка_ТМ']<15000]\n",
    "df_mm_n=df_mm_n[df_mm_n['Выручка_ПМ']>2500]\n",
    "                \n",
    "n_k_p=['Выручка_ТМ','Выручка_ПМ','Выручка_ППМ']\n",
    "for n in n_k_p:\n",
    "    display(n)\n",
    "    plt.hist(df_mm_n[n],bins=50)\n",
    "    #sns.distplot(df_mm_n[n].to_numpy())\n",
    "    plt.show()"
   ]
  },
  {
   "cell_type": "code",
   "execution_count": null,
   "metadata": {},
   "outputs": [],
   "source": [
    "n_k_p=[ 'Маркет_актив_6_мес','Акционные_покупки','Длительность','Страниц_за_визит']\n",
    "\n",
    "for n in n_k_p:\n",
    "    fig, (ax_box, ax_hist) = plt.subplots(2, # две строки в сетке подграфиков,\n",
    "                                    sharex = True, # единая шкала по оси x и\n",
    "                                    gridspec_kw = {'height_ratios': (.15, .85)}) # пропорция 15/85 по высоте\n",
    "    \n",
    "    sns.boxplot(x = df_m[n], ax = ax_box)\n",
    "    plt.hist(df_m[n],bins=50)\n",
    "    \n",
    "    # добавим подписи к каждому из графиков через метод .set()\n",
    "    ax_box.set(xlabel = '') # пустые кавычки удаляют подпись (!)\n",
    "    ax_hist.set(xlabel = n)\n",
    "    ax_hist.set(ylabel = 'count')\n",
    "    # выведем результат\n",
    "    plt.show()    \n",
    "    \n",
    "    \n",
    "   "
   ]
  },
  {
   "cell_type": "markdown",
   "metadata": {},
   "source": [
    "dat_name=[df_m,df_mm_n,df_mt_n,df_c]\n",
    "for d in dat_name:\n",
    "    display(d.describe(include='all'))\n",
    "#sns.pairplot(df_mcc, hue='Покупательская активность')"
   ]
  },
  {
   "cell_type": "markdown",
   "metadata": {},
   "source": [
    "### Вывод : \n",
    "- клиенты с id =215359,215357,215348  не совершали покупки в предыдущие  2 месяца, клиент с id=215380 показал выручку более 100 тыс - такое реально, но для постоения модели лучше удалить. Удалим и клиентов с 0 выручкой в предыдущих\tпериодах. После этих преобразований графики значений стали более нормализированы\n",
    "- данные по категориальным признакам не особо равномерно распределенны\n",
    "- \"Акционные покупки\" имеют 2 \"горба\"\n",
    "- \"привлечение\" пользователей на сайт происходит неравномерно, показатель снизился за последне 3 месяца"
   ]
  },
  {
   "cell_type": "markdown",
   "metadata": {},
   "source": [
    "##  Объединение таблиц"
   ]
  },
  {
   "cell_type": "code",
   "execution_count": null,
   "metadata": {},
   "outputs": [],
   "source": [
    "#t - total\n",
    "df_t=pd.merge(df_mm_n,df_mt_n, on='id', how='left' )\n",
    "df_t=pd.merge(df_t,df_m, on='id', how='left' )\n",
    "df_t=pd.merge(df_t,df_c, on='id', how='left' )\n",
    "\n",
    "#display(sorted(df_t['Длительность'].unique()))\n",
    "display(sorted(df_t['минут_ТМ'].unique()))\n",
    "display(sorted(df_t['минут_ПМ'].unique()))\n",
    "display(sorted(df_t['Страниц_за_визит'].unique()))\n",
    "\n",
    "df_t=df_t.drop('id',axis=1).copy()        \n",
    "  \n",
    "df_t.info()\n",
    "display(df_t.head(5))\n",
    "display(df_t.describe(include='all'))"
   ]
  },
  {
   "cell_type": "markdown",
   "metadata": {},
   "source": [
    "### объединение прошло успешно"
   ]
  },
  {
   "cell_type": "markdown",
   "metadata": {},
   "source": [
    "##  Корреляционный анализ"
   ]
  },
  {
   "cell_type": "code",
   "execution_count": null,
   "metadata": {},
   "outputs": [],
   "source": [
    "# оценим линейную зависимость с помощью метода  spearman\n",
    "display (' матрица spearman')\n",
    "df_tk=df_t.drop(['Покупательская активность','Популярная_категория'],axis=1).copy()\n",
    "\n",
    "plt.figure(figsize = (15,10))\n",
    "sns.heatmap(df_tk.corr(method='spearman'), fmt='.2f', annot=True,cmap='coolwarm')\n",
    "\n",
    "plt.show()     \n",
    "\n",
    "display ('spearman')\n",
    "correlations = df_tk.corrwith(df_t['Покупательская активность'],\n",
    "                                           method='spearman').sort_values(ascending=False)\n",
    "plot = sns.barplot(y=correlations.index, x=correlations)\n",
    "plot.figure.set_size_inches(13, 10)\n",
    "\n",
    "\n",
    "# создаём список с наименованиями непрерывных признаков\n",
    "interval_cols = ['Маркет_актив_6_мес', \n",
    "                 'Выручка_ТМ','Выручка_ПМ','Выручка_ППМ',\n",
    "                 'дельта_выр_пред','дельта_выр_тек','Акционные_покупки','Прибыль']\n",
    "\n",
    "# 'PHIK матрица'\n",
    "display ('PHIK матрица df_t')\n",
    "phik_overview = phik_matrix(df_t, interval_cols=interval_cols) \n",
    "plot_correlation_matrix(\n",
    "    phik_overview.values,\n",
    "    x_labels=phik_overview.columns,\n",
    "    y_labels=phik_overview.index,\n",
    "    vmin=0, vmax=1, color_map='Greens',\n",
    "    title=r'correlation $\\phi_K$',\n",
    "    fontsize_factor=1.5,\n",
    "    figsize=(15, 10)\n",
    ") \n",
    "plt.show() "
   ]
  },
  {
   "cell_type": "markdown",
   "metadata": {},
   "source": [
    " ###  Вывод    :\n",
    "- мультиколленираности не наблюдается \n",
    "- целевая переменная не зависит от следующих признкаков в обоих случаях анализа (значения менее 0.2)   : \n",
    "  - 'Разрешить сообщать' \n",
    "  - 'Маркет_актив_тек_мес'\n",
    "  - 'дельта_выр_тек' \n",
    "  - 'Прибыль' \n",
    "  - 'Выручка_ТМ'\n",
    "  - 'Выручка_ПМ'\n",
    "  - 'Длительность'\n",
    "  - 'тип сервиса'\n",
    "  - 'тип сервиса'\n",
    "  "
   ]
  },
  {
   "cell_type": "markdown",
   "metadata": {},
   "source": [
    "##  Использование пайплайнов"
   ]
  },
  {
   "cell_type": "markdown",
   "metadata": {},
   "source": [
    "- построим 4 вида моделей определения целевого параметра по выборочной базе. \n",
    "  - DecisionTree \n",
    "  - KNaighborsClassifier\n",
    "  - LR\n",
    "  - SVC\n",
    "- в качестве оценки модели примменим ROC_AUС - метрики, учитывающей степень уверенности модели в своём прогнозе. Выбор обусловлен в т.ч. \n",
    "  - универсальностью применения для любой из вышеперечисленных моделей\n",
    "  - остается неизменным при изменении соотношения между классами, что делает его удобным для несбалансированных наборов данных, которые у нас наблюдаются\n",
    "  - Интуитивно понятная интерпретация: Площадь под кривой предоставляет легко интерпретируемую метрику качества модели"
   ]
  },
  {
   "cell_type": "markdown",
   "metadata": {},
   "source": [
    "### подготовка общего pipeline"
   ]
  },
  {
   "cell_type": "code",
   "execution_count": null,
   "metadata": {},
   "outputs": [],
   "source": [
    "\n",
    "df_full=df_t.copy()\n",
    "df_full['Популярная_категория']=df_full['Популярная_категория'].astype('string').copy()\n",
    "df_full=df_full.drop(['Разрешить сообщать',\n",
    "                      'Маркет_актив_тек_мес',\n",
    "                      'дельта_выр_тек',\n",
    "                      'Прибыль',\n",
    "                      'Выручка_ТМ',\n",
    "                      'Ошибка_сервиса',\n",
    "                      'Тип сервиса', \n",
    "                      'Длительность',\n",
    "                      'Выручка_ПМ'\n",
    "                     ], axis=1)\n",
    "\n",
    "X_train, X_test, y_train, y_test = train_test_split(\n",
    "    df_full.drop(['Покупательская активность'], axis=1),\n",
    "    df_full['Покупательская активность'],\n",
    "    test_size = TEST_SIZE, \n",
    "    random_state = RANDOM_STATE,\n",
    "    stratify = df_full['Покупательская активность'])\n",
    "\n",
    "# создаём списки с названиями признаков\n",
    "ohe_columns = ['Средний_просмотр_категорий_за_визит',\n",
    "               'Неоплаченные_продукты_штук_квартал',\n",
    "                'Популярная_категория']\n",
    "\n",
    "num_columns = [ 'Маркет_актив_6_мес','Акционные_покупки' ,\n",
    "               'дельта_выр_пред', 'Страниц_за_визит',\n",
    "               'минут_ТМ','минут_ПМ',\n",
    "               'Выручка_ППМ']\n",
    "\n",
    "\n",
    "# создаём пайплайн для подготовки признаков из списка ohe_columns: заполнение пропусков и OHE-кодирование\n",
    "ohe_pipe = Pipeline([('ohe', OneHotEncoder(drop='first',handle_unknown='ignore',sparse_output=False, dtype=np.bool_))])                 \n",
    "\n",
    "# создаём общий пайплайн для подготовки данных\n",
    "data_preprocessor = ColumnTransformer(\n",
    "    [('ohe', ohe_pipe, ohe_columns),\n",
    "     ('num', MinMaxScaler(), num_columns),\n",
    "    ], \n",
    "    remainder='passthrough',verbose_feature_names_out=True\n",
    ")\n",
    "\n",
    "# создаём итоговый пайплайн: подготовка данных и модель\n",
    "pipe_final = Pipeline([\n",
    "    ('preprocessor', data_preprocessor),\n",
    "    ('models', DecisionTreeClassifier(random_state=RANDOM_STATE))])"
   ]
  },
  {
   "cell_type": "markdown",
   "metadata": {},
   "source": [
    "### DecisionTreeClassifier"
   ]
  },
  {
   "cell_type": "code",
   "execution_count": null,
   "metadata": {
    "scrolled": true
   },
   "outputs": [],
   "source": [
    "# словарь для модели DecisionTreeClassifier()\n",
    "param_grid = {'models':distributions.CategoricalDistribution([DecisionTreeClassifier(random_state=RANDOM_STATE)]),\n",
    "              'models__min_samples_leaf': distributions.IntDistribution(3, 5),\n",
    "              'models__max_depth': distributions.IntDistribution(3, 15),\n",
    "              'models__max_features': distributions.IntDistribution(3, 26),\n",
    "              'preprocessor__num':distributions.CategoricalDistribution([StandardScaler(), MinMaxScaler(), 'passthrough'])\n",
    "             }   \n",
    "\n",
    "   \n",
    "# RandomizedSearchCV( param_distributions  GridSearchCV param_grid\n",
    "randomized_search = OptunaSearchCV(\n",
    "    pipe_final, \n",
    "    param_distributions=param_grid, \n",
    "    cv=5,\n",
    "    scoring='roc_auc',\n",
    "    error_score='raise',\n",
    "    n_jobs=-1\n",
    ")\n",
    "\n",
    "\n",
    "randomized_search.fit(X_train, y_train)\n",
    "\n",
    "print ('Лучшая модель и её параметры:\\n\\n', randomized_search.best_estimator_)\n",
    "print ('Метрика лучшей модели ROC_AUC:', randomized_search.best_score_)"
   ]
  },
  {
   "cell_type": "markdown",
   "metadata": {},
   "source": [
    "###  KNeighborsClassifier "
   ]
  },
  {
   "cell_type": "code",
   "execution_count": null,
   "metadata": {},
   "outputs": [],
   "source": [
    "# словарь для модели KNeighborsClassifier() \n",
    "param_grid = {'models': distributions.CategoricalDistribution([KNeighborsClassifier(n_jobs=-1)]),\n",
    "              'models__n_neighbors': distributions.IntDistribution(18, 55),\n",
    "              'preprocessor__num': distributions.CategoricalDistribution([StandardScaler(), MinMaxScaler(), 'passthrough'])}   \n",
    "   \n",
    "# RandomizedSearchCV( param_distributions  GridSearchCV param_grid\n",
    "randomized_search = OptunaSearchCV(\n",
    "    pipe_final, \n",
    "    param_distributions=param_grid, \n",
    "    cv=6,\n",
    "    scoring='roc_auc',\n",
    "    error_score='raise',\n",
    "    n_jobs=-1\n",
    ")\n",
    "randomized_search.fit(X_train, y_train)\n",
    "\n",
    "print ('Лучшая модель и её параметры:\\n\\n', randomized_search.best_estimator_)\n",
    "print ('Метрика лучшей модели ROC_AUC:', randomized_search.best_score_)"
   ]
  },
  {
   "cell_type": "markdown",
   "metadata": {},
   "source": [
    "### LogisticRegression\n",
    " "
   ]
  },
  {
   "cell_type": "code",
   "execution_count": null,
   "metadata": {},
   "outputs": [],
   "source": [
    "# словарь для модели LogisticRegression 'newton-cg','newton-cholesky', 'sag','lbfgs', penalty='l1',\n",
    "param_grid = {'models':distributions.CategoricalDistribution([LogisticRegression(random_state=RANDOM_STATE,\n",
    "                                                                                 max_iter=500,n_jobs=-1)]),\n",
    "              'models__C':distributions.FloatDistribution(0.2, 3, step=0.3),\n",
    "              'models__solver' :distributions.CategoricalDistribution(['newton-cg','newton-cholesky', 'sag','lbfgs',\n",
    "                                                                       'liblinear', 'saga']),\n",
    "              'preprocessor__num': distributions.CategoricalDistribution([StandardScaler(),\n",
    "                                                                          MinMaxScaler(), 'passthrough'])}\n",
    "\n",
    "   \n",
    "# RandomizedSearchCV( param_distributions  GridSearchCV param_grid\n",
    "randomized_search = OptunaSearchCV(\n",
    "    pipe_final, \n",
    "    param_distributions=param_grid, \n",
    "    cv=10,\n",
    "    scoring='roc_auc',\n",
    "    error_score='raise',\n",
    "    n_jobs=-1\n",
    ")\n",
    "randomized_search.fit(X_train, y_train)\n",
    "print ('Лучшая модель и её параметры:\\n\\n', randomized_search.best_estimator_)\n",
    "print ('Метрика лучшей модели ROC_AUC:', randomized_search.best_score_)"
   ]
  },
  {
   "cell_type": "markdown",
   "metadata": {},
   "source": [
    "### SVC\n",
    "               "
   ]
  },
  {
   "cell_type": "code",
   "execution_count": null,
   "metadata": {},
   "outputs": [],
   "source": [
    "# словарь для модели SVC\n",
    "   \n",
    "param_grid ={'models': distributions.CategoricalDistribution([SVC(random_state=RANDOM_STATE,cache_size=8000,gamma='auto')]),\n",
    "             'models__kernel':distributions.CategoricalDistribution(['linear','rbf']),\n",
    "             'models__C':distributions.FloatDistribution(0.5, 3, step=0.5),\n",
    "             'preprocessor__num': distributions.CategoricalDistribution([StandardScaler(), MinMaxScaler(), 'passthrough'])}\n",
    "   \n",
    "#@ RandomizedSearchCV( param_distributions  GridSearchCV param_grid\n",
    "randomized_search = OptunaSearchCV(\n",
    "    pipe_final, \n",
    "    param_distributions=param_grid, \n",
    "    cv=6,\n",
    "    scoring='roc_auc',\n",
    "    error_score='raise',\n",
    "    n_jobs=-1\n",
    ")\n",
    "randomized_search.fit(X_train, y_train)\n",
    "print ('Лучшая модель и её параметры:\\n\\n', randomized_search.best_estimator_)\n",
    "print ('Метрика лучшей модели ROC_AUC:', randomized_search.best_score_)"
   ]
  },
  {
   "cell_type": "markdown",
   "metadata": {},
   "source": [
    "### сбор лучших моделей по Randomized_search\n",
    "(дрянь переборщик - разброс по значениям  при каждом запуске значителен (до сотых))\n",
    "Лучшая модель и её параметры:\n",
    "- DT\n",
    "\n",
    "  Pipeline(steps=[('preprocessor',\n",
    "                 ColumnTransformer(remainder='passthrough',\n",
    "                                   transformers=[('ohe',\n",
    "                                                  Pipeline(steps=[('ohe',\n",
    "                                                                   OneHotEncoder(drop='first',\n",
    "                                                                                 dtype=<class 'numpy.bool_'>,\n",
    "                                                                                 handle_unknown='ignore',\n",
    "                                                                                 sparse_output=False))]),\n",
    "                                                  ['Средний_просмотр_категорий_за_визит',\n",
    "                                                   'Неоплаченные_продукты_штук_квартал',\n",
    "                                                   'Популярная_категория']),\n",
    "                                                 ('num', StandardScaler(),\n",
    "                                                  ['Маркет_актив_6_мес',\n",
    "                                                   'Акционные_покупки',\n",
    "                                                   'дельта_выр_пред',\n",
    "                                                   'Страниц_за_визит',\n",
    "                                                   'минут_ТМ', 'минут_ПМ',\n",
    "                                                   'Выручка_ППМ'])])),\n",
    "                ('models',\n",
    "                 DecisionTreeClassifier(max_depth=11, max_features=6,\n",
    "                                        min_samples_leaf=3, random_state=42))])\n",
    "   Метрика лучшей модели ROC_AUC: 0.8447141898096444\n",
    "\n",
    "Лучшая модель и её параметры:\n",
    "- KNeighborsClassifie\n",
    "\n",
    "  Pipeline(steps=[('preprocessor',\n",
    "                 ColumnTransformer(remainder='passthrough',\n",
    "                                   transformers=[('ohe',\n",
    "                                                  Pipeline(steps=[('ohe',\n",
    "                                                                   OneHotEncoder(drop='first',\n",
    "                                                                                 dtype=<class 'numpy.bool_'>,\n",
    "                                                                                 handle_unknown='ignore',\n",
    "                                                                                 sparse_output=False))]),\n",
    "                                                  ['Средний_просмотр_категорий_за_визит',\n",
    "                                                   'Неоплаченные_продукты_штук_квартал',\n",
    "                                                   'Популярная_категория']),\n",
    "                                                 ('num', StandardScaler(),\n",
    "                                                  ['Маркет_актив_6_мес',\n",
    "                                                   'Акционные_покупки',\n",
    "                                                   'дельта_выр_пред',\n",
    "                                                   'Страниц_за_визит',\n",
    "                                                   'минут_ТМ', 'минут_ПМ',\n",
    "                                                   'Выручка_ППМ'])])),\n",
    "                ('models', KNeighborsClassifier(n_jobs=-1, n_neighbors=20))])\n",
    "    Метрика лучшей модели ROC_AUC: 0.8909760582086763\n",
    " \n",
    " Лучшая модель и её параметры:\n",
    "- SVC\n",
    "\n",
    "  Pipeline(steps=[('preprocessor',\n",
    "                 ColumnTransformer(remainder='passthrough',\n",
    "                                   transformers=[('ohe',\n",
    "                                                  Pipeline(steps=[('ohe',\n",
    "                                                                   OneHotEncoder(drop='first',\n",
    "                                                                                 dtype=<class 'numpy.bool_'>,\n",
    "                                                                                 handle_unknown='ignore',\n",
    "                                                                                 sparse_output=False))]),\n",
    "                                                  ['Средний_просмотр_категорий_за_визит',\n",
    "                                                   'Неоплаченные_продукты_штук_квартал',\n",
    "                                                   'Популярная_категория']),\n",
    "                                                 ('num', MinMaxScaler(),\n",
    "                                                  ['Маркет_актив_6_мес',\n",
    "                                                   'Акционные_покупки',\n",
    "                                                   'дельта_выр_пред',\n",
    "                                                   'Страниц_за_визит',\n",
    "                                                   'минут_ТМ', 'минут_ПМ',\n",
    "                                                   'Выручка_ППМ'])])),\n",
    "                ('models',\n",
    "                 SVC(C=1.5, cache_size=8000, gamma='auto', random_state=42))])\n",
    "  Метрика лучшей модели ROC_AUC: 0.8937356295035329\n",
    "\n",
    "\n",
    "Лучшая модель LogisticRegression и её параметры:\n",
    "- Pipeline(steps=[('preprocessor',\n",
    "                 ColumnTransformer(remainder='passthrough',\n",
    "                                   transformers=[('ohe',\n",
    "                                                  Pipeline(steps=[('ohe',\n",
    "                                                                   OneHotEncoder(drop='first',\n",
    "                                                                                 dtype=<class 'numpy.bool_'>,\n",
    "                                                                                 handle_unknown='ignore',\n",
    "                                                                                 sparse_output=False))]),\n",
    "                                                  ['Средний_просмотр_категорий_за_визит',\n",
    "                                                   'Неоплаченные_продукты_штук_квартал',\n",
    "                                                   'Популярная_категория']),\n",
    "                                                 ('num', MinMaxScaler(),\n",
    "                                                  ['Маркет_актив_6_мес',\n",
    "                                                   'Акционные_покупки',\n",
    "                                                   'дельта_выр_пред',\n",
    "                                                   'Страниц_за_визит',\n",
    "                                                   'минут_ТМ', 'минут_ПМ',\n",
    "                                                   'Выручка_ППМ'])])),\n",
    "                ('models',\n",
    "                 LogisticRegression(C=2.8, max_iter=500, n_jobs=-1,\n",
    "                                    random_state=42, solver='sag'))])\n",
    "  Метрика лучшей модели ROC_AUC: 0.8960907197102193"
   ]
  },
  {
   "cell_type": "code",
   "execution_count": null,
   "metadata": {},
   "outputs": [],
   "source": [
    "# Итоговая  модель-побкдитель\n",
    "pipe_final = Pipeline([\n",
    "    ('preprocessor', data_preprocessor),\n",
    "    ('models', LogisticRegression(C=2.6, penalty='l2', random_state=RANDOM_STATE,solver='sag',n_jobs=-1))])\n",
    "\n",
    "pipe_final.fit(X_train, y_train)\n",
    "#pipe_final.transform(X_train)\n",
    "     \n",
    "\n",
    "#model.fit(X_train,y_train)\n",
    "y_train_pred = pipe_final.predict(X_train)\n",
    "print(f'Метрика ROC-AUC: {roc_auc_score(y_train, y_train_pred)}')\n",
    "\n",
    "\n",
    "y_test_pred = pipe_final.predict_proba(X_test)[:, 1]\n",
    "fpr, tpr, thresholds = roc_curve(y_test, y_test_pred)\n",
    "plt.figure(figsize=(9, 5.5))\n",
    "plt.plot(fpr, tpr)\n",
    "plt.title('ROC-curve')\n",
    "plt.xlabel('False Positive Rate')\n",
    "plt.ylabel('True Positive Rate')\n",
    "plt.show()\n",
    "\n",
    "\n",
    "precision_array, recall_array, thresholds = precision_recall_curve(y_test, y_test_pred)\n",
    "plt.figure(figsize=(9, 5.5))\n",
    "plt.plot(recall_array, precision_array)\n",
    "plt.title('PR-curve')\n",
    "plt.xlabel('recall')\n",
    "plt.ylabel('precision')\n",
    "plt.show()"
   ]
  },
  {
   "cell_type": "markdown",
   "metadata": {},
   "source": [
    "##  Анализ важности признаков"
   ]
  },
  {
   "cell_type": "code",
   "execution_count": null,
   "metadata": {},
   "outputs": [],
   "source": [
    "display ('Значимость признаков')\n",
    "coefficients =pipe_final['models'].coef_[0]\n",
    "\n",
    "X_train_tr =pipe_final['preprocessor'].fit_transform(X_train)  \n",
    "features_names = pipe_final['preprocessor'].get_feature_names_out()\n",
    "\n",
    "feature_importance = pd.DataFrame({'Feature': features_names, 'Importance': np.abs(coefficients)})\n",
    "feature_importance = feature_importance.sort_values('Importance',ascending=True)\n",
    "sns.set_style('white')\n",
    "feature_importance.plot(x='Feature', y='Importance', kind='barh', figsize=(10, 6))\n",
    "plt.show() "
   ]
  },
  {
   "cell_type": "code",
   "execution_count": null,
   "metadata": {},
   "outputs": [],
   "source": [
    "display ('before permutation')\n",
    "# создаём полиномиальные признаки второго порядка\n",
    "scaler = StandardScaler()\n",
    "#scaler =MinMaxScaler()\n",
    "selector = SelectKBest(f_classif, k=15)\n",
    "\n",
    "X_trainp=pipe_final['preprocessor'].fit_transform(X_train)  \n",
    "X_testp=pipe_final['preprocessor'].transform(X_test)\n",
    "f_names = pipe_final['preprocessor'].get_feature_names_out()\n",
    "X_trainp=pd.DataFrame(X_trainp,columns =f_names)\n",
    "X_testp=pd.DataFrame(X_testp,columns =f_names)\n",
    "\n",
    "\n",
    "poly = PolynomialFeatures(2)\n",
    "X_trainp = poly.fit_transform((X_trainp))\n",
    "X_testp = poly.transform((X_testp))\n",
    "\n",
    "\n",
    "# сохранение таблицы X_test с полиномиальными признаками до стандартизации\n",
    "X_test_df = pd.DataFrame(X_testp,columns = poly.get_feature_names_out())\n",
    "\n",
    "X_test_df.info()\n",
    "# стандартизируем признаки\n",
    "X_train_scalled = pd.DataFrame(scaler.fit_transform(X_trainp),columns = poly.get_feature_names_out())\n",
    "X_test_scalled =  pd.DataFrame(scaler.transform(X_testp),columns = poly.get_feature_names_out())\n",
    "\n",
    "\n",
    "# обучаем SelectKBest\n",
    "selector.fit(X_train_scalled ,y_train)\n",
    "#X_trainp\n",
    "# формируем выборки с лучшими признаками\n",
    "features_names = X_train_scalled.columns[selector.get_support(indices=True)]\n",
    "\n",
    "X_train_new = X_train_scalled[list(features_names)]\n",
    "X_test_new = X_test_scalled[list(features_names)]\n",
    "\n",
    "\n",
    "\n",
    "# модель на лучших признаках\n",
    "pipe_final['models'].fit(X_train_new,y_train)\n",
    "\n",
    "y_t_pred = pipe_final['models'].predict(X_train_new)\n",
    "print(f'Метрика ROC-AUC: {roc_auc_score(y_train, y_t_pred)}')\n",
    "\n",
    "\n",
    "coefficients =pipe_final['models'].coef_[0]\n",
    "\n",
    "feature_importance = pd.DataFrame({'Feature': features_names, 'Importance': np.abs(coefficients)})\n",
    "feature_importance = feature_importance.sort_values('Importance',ascending=True)\n",
    "sns.set_style('white')\n",
    "feature_importance.plot(x='Feature', y='Importance', kind='barh', figsize=(10, 6))\n",
    "plt.show() \n",
    "\n",
    "\n",
    "# следующий шаг\n",
    "def custom_f1(model, X, y):\n",
    "    y_pred = pipe_final['models'].predict(X)\n",
    "    score = f1_score(y, y_pred)\n",
    "    return score\n",
    "\n",
    "display ('after permutation')\n",
    "result = permutation_importance(pipe_final['models'], X_test_new, y_test, scoring=custom_f1)\n",
    "\n",
    "\n",
    "\n",
    "feature_importance = pd.DataFrame({'Feature': features_names, 'Importance': result['importances_mean']})\n",
    "feature_importance = feature_importance.sort_values('Importance', ascending=True)\n",
    "sns.set_style('white')\n",
    "feature_importance.plot(x='Feature', y='Importance', kind='barh', figsize=(10, 6)) \n",
    "plt.show() "
   ]
  },
  {
   "cell_type": "code",
   "execution_count": null,
   "metadata": {},
   "outputs": [],
   "source": [
    "scaler = StandardScaler()"
   ]
  },
  {
   "cell_type": "markdown",
   "metadata": {},
   "source": [
    "- Вывод : после \"перемешивания\" ранжирование по значимости не изменилось, количество \"значимых\" уменьшилось\n",
    "- наиболее значимыми для модели оказались \"основные\" признаки, а также полиноминальные признаки :\n",
    "   - Страниц_за визит\n",
    "   - минут_ПМ\n",
    "   - минут_ТМ * страниц за визит \n",
    "   - минут_ТМ * Средний просмотр категорий за визит"
   ]
  },
  {
   "cell_type": "code",
   "execution_count": null,
   "metadata": {},
   "outputs": [],
   "source": [
    "# шаг  3 анализ SHAP-значений Linear\n",
    "explainer = shap.Explainer(pipe_final['models'], X_test_new)\n",
    "shap_values = explainer(X_test_new)\n",
    "plot.figure.set_size_inches(10, 8)\n",
    "shap.plots.beeswarm(shap_values, max_display=20)\n",
    "plt.show() "
   ]
  },
  {
   "cell_type": "markdown",
   "metadata": {},
   "source": [
    "- Страниц_за визит, минут_ПМ - оказывают \"отрицальное влияние\" (ОВ) (принятие целевого значения 0) влияние, однако их совокупный полиноминальный признак оказывет ПВ . Это объясняется свойством произведения отрицательных чисел\n",
    "- время проведенное в ТМ * средний просмотр категогий  - отрицательное влияие.\n",
    "- \"выручка ППМ\" оказывает ПВ (уменьшает признаки,  оказывающие ПВ)\n",
    "- то, что квадрат минут ПМ оказывает ПВ еще раз водчеркивает ОВ основного признака\n",
    "- Факторы влияющие на то, чтобы клиент не понизил \"потребительскую активность\":\n",
    "  - Страниц_за визит\n",
    "  - время в прошлом месяце "
   ]
  },
  {
   "cell_type": "code",
   "execution_count": null,
   "metadata": {},
   "outputs": [],
   "source": [
    "\n",
    "plot.figure.set_size_inches(10, 8)\n",
    "display(df_t.loc[18])\n",
    "shap.plots.waterfall(shap_values[18], max_display=15) \n",
    "plt.show() \n",
    "\n",
    "display(df_t.loc[218])\n",
    "shap.plots.waterfall(shap_values[218], max_display=15) \n",
    "plt.show() "
   ]
  },
  {
   "cell_type": "markdown",
   "metadata": {},
   "source": [
    " - Графики выше наглядно показывают \"вклад\" каждого признака в итоговое решение модели. Сводный график выше"
   ]
  },
  {
   "cell_type": "markdown",
   "metadata": {},
   "source": [
    "### Анализ :\n",
    "- наиболее значимыми для модели оказались \"основные\" признаки, а также полиноминальные признаки :\n",
    "   - Страниц_за визит\n",
    "   - минут_ПМ\n",
    "   - минут_ТМ * страниц за визит \n",
    "   - минут_ТМ * Средний просмотр категорий за визит\n",
    "   \n",
    "- Страниц_за визит, минут_ПМ - оказывают \"отрицальное влияние\" (ОВ) (принятие целевого значения 0) влияние, однако их совокупный полиноминальный признак оказывет ПВ . Это объясняется свойством произведения отрицательных чисел\n",
    "- время проведенное в ТМ * средний просмотр категогий  - отрицательное влияие.\n",
    "- \"выручка ППМ\" оказывает ПВ (уменьшает признаки,  оказывающие ПВ)\n",
    "- то, что квадрат минут ПМ оказывает ПВ еще раз водчеркивает ОВ основного признака\n",
    "- Факторы влияющие на то, чтобы клиент не понизил \"потребительскую активность\":\n",
    "  - Страниц_за визит\n",
    "  - время в прошлом месяце \n",
    "  "
   ]
  },
  {
   "cell_type": "markdown",
   "metadata": {},
   "source": [
    "### shap.plots.bar(shap_values, max_display=16) - не работает см https://github.com/shap/shap/issues/3673\n",
    "\n",
    "plt.clf()\n",
    "plt.cla()\n",
    "plt.close()\n",
    "#display(shap_values.values)\n",
    "plt.setp(ax.get_xticklabels(), fontsize=12)\n",
    "shap.plots.bar(shap_values, max_display=16)\n",
    "\n",
    "#№№№№№               order=shap.Explanation.abs, clustering=None,\n",
    "#№№               clustering_cutoff=0.5, show_data='auto', show=True)\n",
    "\n",
    "\n",
    "#№ shap.plots.bar(shap_values.values, max_display=15)\n",
    "#,x='Feature', y='Importance',)\n",
    "#, max_display=15) \n",
    "\n",
    "plt.show() \n",
    "\n"
   ]
  },
  {
   "cell_type": "markdown",
   "metadata": {},
   "source": [
    "## Сегментация покупателей"
   ]
  },
  {
   "cell_type": "markdown",
   "metadata": {},
   "source": [
    "### сегментация по признаку \"количество страниц\" : \n",
    "\n",
    "- поизведем следующую сегментацию :\n",
    "  - выделим клиентов с прибылостью от 4\n",
    "  - внутри группы поделим их по признаку Активность (снизилась/осталась)\n",
    "   "
   ]
  },
  {
   "cell_type": "code",
   "execution_count": null,
   "metadata": {},
   "outputs": [],
   "source": [
    "plt.hist(df_t['Прибыль'],bins=50)\n",
    "plt.show()\n",
    "\n",
    "#df_tp.info()\n",
    "df_seg=df_t[df_t['Прибыль']>=4].copy()\n",
    "df_seg.info()\n",
    "df_seg1=df_seg[df_seg['Покупательская активность']>0]\n",
    "df_seg2=df_seg[df_seg['Покупательская активность']==0]\n",
    "df_seg1=df_seg1.drop(['Прибыль','Покупательская активность'],axis=1).copy()\n",
    "df_seg2=df_seg2.drop(['Прибыль','Покупательская активность'],axis=1).copy()\n",
    "df_seg1.info()\n",
    "df_seg2.info()\n",
    "display(df_seg1.describe(include='all'))\n",
    "display(df_seg2.describe(include='all'))"
   ]
  },
  {
   "cell_type": "markdown",
   "metadata": {},
   "source": [
    "### анализ сегментов"
   ]
  },
  {
   "cell_type": "code",
   "execution_count": null,
   "metadata": {},
   "outputs": [],
   "source": [
    "\n",
    "for i in df_seg1.columns:\n",
    "    if df_seg1[i].nunique()<15:\n",
    "        display ('Сегмент снизилась ' )\n",
    "        fig, ax = plt.subplots()\n",
    "        labels = df_seg1[i].unique()\n",
    "        sizes = df_seg1[i].value_counts()\n",
    "        ax.pie(sizes, labels=labels, autopct='%1.2f%%')\n",
    "        ax.pie(sizes, labels=labels)\n",
    "        ax.set_title(i)\n",
    "        plt.show()\n",
    "        display ('Сегмент осталась' )\n",
    "        fig, ax = plt.subplots()\n",
    "        labels = df_seg2[i].unique()\n",
    "        sizes = df_seg2[i].value_counts()\n",
    "        ax.pie(sizes, labels=labels, autopct='%1.2f%%')\n",
    "        ax.pie(sizes, labels=labels)\n",
    "        ax.set_title(i)\n",
    "        plt.show()"
   ]
  },
  {
   "cell_type": "markdown",
   "metadata": {},
   "source": [
    "### выводы анализа\n",
    "- согласно анализа по сегментам можно сделать следующие выводы:\n",
    "  - следующие признаки не особо влияют на \"прибыльных клиентов:\n",
    "     - маркетинговая активноть текущего месяца\n",
    "     - средний просмотр категорий\n",
    "     - неоплаченные продукты\n",
    "     - ошибка сервиса\n",
    "     - популяные категории : тут явные лидеры у \"понизилась\" : товары для детей, косметика и посуда, против техники для красоты и бытовой техники . Наверное, недостаточный ассортимент в данных категориях, раз покупатели остались не удоволетрены (в случае определяния популярной, как самой просматриваемой). Кухонная посуда -ок. Ну и косвеный вывод, котрый можно сдлать, что \"прибыльные\" - это женщины, согласно набору популяных признаков\n",
    "  - следующие признаки особо влияют на \"прибыльных\" клиентов:\n",
    "      - тип сервиса\n",
    "      - разрешить сообщать\n",
    "   - из это можно сделать сделующие выводы: \"прибыльным\" не нравится , когда им \"сообщают\" и либо условия и ожидания от смены типа сервиса не оправдались\n",
    "     "
   ]
  },
  {
   "cell_type": "markdown",
   "metadata": {},
   "source": [
    "Согласен. Это один из инстереснейших разделов проекта, имющий явно прикланое и реальное применение. Этот раздел \"возвращает\" из мира цифр в мир реальности :-) . Согласен, что анализ никакой, вместо \"экспериментов\" с моделями и различными видами переборам надо бвло уделить БОЛЬШЕЕ внимание этому разделу - он более творческий.."
   ]
  },
  {
   "cell_type": "markdown",
   "metadata": {},
   "source": [
    "## Выводы"
   ]
  },
  {
   "cell_type": "markdown",
   "metadata": {},
   "source": [
    "`Данные были представленны на основании 3 х фаилов. В процессе подготовки данных были произведены следующие преобразования:`\n",
    "\n",
    "- исправлена опечатка в периоде в базе с выручкой\n",
    "- иправлена опечатка в \"Тип сервиса\" в основной базе\n",
    "- уникальные id клиентов по всем базам совпадаеют полностью, в базе активнось показана активность только за 3 месяча, в базе выручка-за 2 месяца\n",
    "- преобразованны данные в числовые/bool\n",
    "- преобразовали данные по времени по клиентам (выручка, маркетинг)\n",
    "- \"оцифровали\" 'Популярная_категория' OHE\n",
    "- преобразовали \"Длительность\" в месяцас округлением до целого\n",
    "\n",
    "`В ходе предварительного анализа было выявлено следующее:`\n",
    "\n",
    " - клиенты с id =215359,215357,215348 не совершали покупки в предыдущие 2 месяца, клиент с id=215380 показал выручку более 100 тыс - такое реально, постоения модели данные удалены.\n",
    "- данные по категориальным признакам не особо равномерно распределенны\n",
    "- \"Акционные покупки\" имеют 2 \"горба\"\n",
    "- \"привлечение\" ползователей на сайт происходит неравномерно, показатель снизился за последне 3 месяца\n",
    "\n",
    "\n",
    "`Был произведен корреляционный анализ данных. В ходе анализа выяснилось следующее:`\n",
    "\n",
    "- мультиколленираности не наблюдается\n",
    "- целевая переменная 'Покупательская активность' (1- True \"уменьшилась\" 0 - False \"Осталось на прежнем уровне\") не зависит от следующих признкаков в обоих случаях анализа (значения менее 0.1) :\n",
    "  - 'Разрешить сообщать'\n",
    "  - 'Маркет_актив_тек_мес'\n",
    "  - 'дельта_выр_тек'\n",
    "  - 'Прибыль'\n",
    "  - 'Выручка_ТМ'\n",
    "  - 'Популярная_категория_Домашний текстиль' \n",
    "\n",
    "`Были построены модели обучения (анализа) с помощью 4 методов :`\n",
    "- DecisionTreeClassifier\n",
    "- KNeighborsClassifier\n",
    "- SVC\n",
    "- LogisticRegression\n",
    "\n",
    "C  помощью метода randomized_search с перебором по моделям и параметрам моделей был выявлен лучшый метод\n",
    "\n",
    "`- SVC(C=2, degree=1, random_state=42, kernel='linear')`\n",
    "\n",
    "`Проанализировали значимость переменных в модели регресии с помощью метода #`SHAP`# . Получили ледующие выводы:`\n",
    "- наиболее значимыми для модели оказались \"основные\" признаки, а также полиноминальные признаки :\n",
    "   - Страниц_за визит\n",
    "   - минут_ПМ\n",
    "   - минут_ТМ * страниц за визит \n",
    "   - минут_ТМ * Средний просмотр категорий за визит\n",
    "   \n",
    "- Страниц_за визит, минут_ПМ - оказывают \"отрицальное влияние\" (ОВ) (принятие целевого значения 0) влияние, однако их совокупный полиноминальный признак оказывет ПВ . Это объясняется свойством произведения отрицательных чисел\n",
    "- время проведенное в ТМ * средний просмотр категогий  - отрицательное влияие.\n",
    "- \"выручка ППМ\" оказывает ПВ (уменьшает признаки,  оказывающие ПВ)\n",
    "- то, что квадрат минут ПМ оказывает ПВ еще раз водчеркивает ОВ основного признака\n",
    "- Факторы влияющие на то, чтобы клиент не понизил \"потребительскую активность\":\n",
    "  - Страниц_за визит\n",
    "  - время в прошлом месяце \n",
    "  \n",
    "  \n",
    "Былв поизведа следующая сегментация :\n",
    "  - выделим клиентов с прибыльностью от 4\n",
    "  - внутри группы поделим их по признаку Активность (снизилась/осталась)  \n",
    "  \n",
    " выводы анализа\n",
    "- согласно анализа по сегментам можно сделать следующие выводы:\n",
    "  - следующие признаки не особо влияют на \"прибыльных клиентов:\n",
    "     - маркетинговая активноть текущего месяца\n",
    "     - средний просмотр категорий\n",
    "     - неоплаченные продукты\n",
    "     - ошибка сервиса\n",
    "     - популяные категории : тут явные лидеры у \"понизилась\" : товары для детей, косметика и посуда, против техники для красоты и бытовой техники . Наверное, недостаточный ассортимент в данных категориях, раз покупатели остались не удоволетрены (в случае определяния популярной, как самой просматриваемой). Кухонная посуда -ок. Ну и косвеный вывод, котрый можно сдлать, что \"прибыльные\" - это женщины, согласно набору популяных признаков\n",
    "  - следующие признаки особо влияют на \"прибыльных\" клиентов:\n",
    "      - тип сервиса\n",
    "      - разрешить сообщать\n",
    "   - из это можно сделать сделующие выводы: \"прибыльным\" не нравится , когда им \"сообщают\" и либо условия и ожидания от смены типа сервиса не оправдались\n",
    "     "
   ]
  },
  {
   "cell_type": "code",
   "execution_count": null,
   "metadata": {},
   "outputs": [],
   "source": []
  }
 ],
 "metadata": {
  "ExecuteTimeLog": [
   {
    "duration": 49,
    "start_time": "2024-05-28T14:53:10.504Z"
   },
   {
    "duration": 11,
    "start_time": "2024-05-28T14:53:15.158Z"
   },
   {
    "duration": 17089,
    "start_time": "2024-05-28T14:53:49.445Z"
   },
   {
    "duration": 3592,
    "start_time": "2024-05-28T14:58:05.507Z"
   },
   {
    "duration": 11113,
    "start_time": "2024-05-28T14:59:59.805Z"
   },
   {
    "duration": 11356,
    "start_time": "2024-05-28T15:05:13.564Z"
   },
   {
    "duration": 11310,
    "start_time": "2024-05-28T15:12:21.084Z"
   },
   {
    "duration": 19,
    "start_time": "2024-05-28T15:16:18.374Z"
   },
   {
    "duration": 3885,
    "start_time": "2024-05-28T15:17:55.469Z"
   },
   {
    "duration": 32822,
    "start_time": "2024-05-28T15:20:50.368Z"
   },
   {
    "duration": 3518,
    "start_time": "2024-05-28T15:26:11.370Z"
   },
   {
    "duration": 3,
    "start_time": "2024-05-28T15:26:32.362Z"
   },
   {
    "duration": 279,
    "start_time": "2024-05-28T15:26:38.178Z"
   },
   {
    "duration": 19,
    "start_time": "2024-05-28T15:28:03.819Z"
   },
   {
    "duration": 7233,
    "start_time": "2024-05-28T15:32:24.271Z"
   },
   {
    "duration": 6142,
    "start_time": "2024-05-28T16:22:13.111Z"
   },
   {
    "duration": 12,
    "start_time": "2024-05-28T16:26:59.110Z"
   },
   {
    "duration": 7,
    "start_time": "2024-05-28T16:27:05.396Z"
   },
   {
    "duration": 119,
    "start_time": "2024-05-28T16:31:41.585Z"
   },
   {
    "duration": 110,
    "start_time": "2024-05-28T16:35:50.704Z"
   },
   {
    "duration": 14342,
    "start_time": "2024-05-28T16:38:00.984Z"
   },
   {
    "duration": 0,
    "start_time": "2024-05-28T16:38:15.328Z"
   },
   {
    "duration": 0,
    "start_time": "2024-05-28T16:38:15.329Z"
   },
   {
    "duration": 0,
    "start_time": "2024-05-28T16:41:14.154Z"
   },
   {
    "duration": 0,
    "start_time": "2024-05-28T16:41:14.156Z"
   },
   {
    "duration": 0,
    "start_time": "2024-05-28T16:41:14.157Z"
   },
   {
    "duration": 0,
    "start_time": "2024-05-28T16:41:14.158Z"
   },
   {
    "duration": 5762,
    "start_time": "2024-05-28T16:41:16.762Z"
   },
   {
    "duration": 48892,
    "start_time": "2024-05-28T16:42:02.218Z"
   },
   {
    "duration": 3070,
    "start_time": "2024-05-28T16:47:18.256Z"
   },
   {
    "duration": 3048,
    "start_time": "2024-05-28T16:48:37.384Z"
   },
   {
    "duration": 5043,
    "start_time": "2024-05-28T16:53:12.315Z"
   },
   {
    "duration": 3,
    "start_time": "2024-05-28T16:53:17.360Z"
   },
   {
    "duration": 138,
    "start_time": "2024-05-28T16:53:17.364Z"
   },
   {
    "duration": 176,
    "start_time": "2024-05-28T16:58:32.473Z"
   },
   {
    "duration": 3,
    "start_time": "2024-05-28T17:08:14.065Z"
   },
   {
    "duration": 4,
    "start_time": "2024-05-28T17:08:22.825Z"
   },
   {
    "duration": 7,
    "start_time": "2024-05-28T17:11:38.710Z"
   },
   {
    "duration": 9,
    "start_time": "2024-05-28T17:12:14.589Z"
   },
   {
    "duration": 10,
    "start_time": "2024-05-28T17:15:05.152Z"
   },
   {
    "duration": 13,
    "start_time": "2024-05-28T17:15:24.375Z"
   },
   {
    "duration": 14,
    "start_time": "2024-05-28T17:15:40.801Z"
   },
   {
    "duration": 21,
    "start_time": "2024-05-28T17:16:11.545Z"
   },
   {
    "duration": 889,
    "start_time": "2024-05-28T17:21:55.753Z"
   },
   {
    "duration": 11,
    "start_time": "2024-05-28T17:22:39.114Z"
   },
   {
    "duration": 12,
    "start_time": "2024-05-28T17:24:27.448Z"
   },
   {
    "duration": 58,
    "start_time": "2024-05-28T17:28:40.322Z"
   },
   {
    "duration": 68,
    "start_time": "2024-05-28T17:29:04.996Z"
   },
   {
    "duration": 24,
    "start_time": "2024-05-28T17:29:19.099Z"
   },
   {
    "duration": 13,
    "start_time": "2024-05-28T17:29:34.346Z"
   },
   {
    "duration": 1067,
    "start_time": "2024-05-28T17:31:34.723Z"
   },
   {
    "duration": 918,
    "start_time": "2024-05-28T17:33:51.333Z"
   },
   {
    "duration": 33,
    "start_time": "2024-05-28T17:34:34.815Z"
   },
   {
    "duration": 34,
    "start_time": "2024-05-28T17:45:39.804Z"
   },
   {
    "duration": 121,
    "start_time": "2024-05-28T17:47:41.124Z"
   },
   {
    "duration": 124,
    "start_time": "2024-05-28T17:47:53.677Z"
   },
   {
    "duration": 123,
    "start_time": "2024-05-28T17:48:03.781Z"
   },
   {
    "duration": 36,
    "start_time": "2024-05-28T17:49:47.342Z"
   },
   {
    "duration": 35,
    "start_time": "2024-05-28T17:49:53.471Z"
   },
   {
    "duration": 118,
    "start_time": "2024-05-28T17:50:03.951Z"
   },
   {
    "duration": 31,
    "start_time": "2024-05-28T17:51:12.248Z"
   },
   {
    "duration": 6,
    "start_time": "2024-05-28T18:05:44.443Z"
   },
   {
    "duration": 13,
    "start_time": "2024-05-28T18:21:36.240Z"
   },
   {
    "duration": 7,
    "start_time": "2024-05-28T18:22:01.799Z"
   },
   {
    "duration": 10,
    "start_time": "2024-05-28T18:22:32.880Z"
   },
   {
    "duration": 8,
    "start_time": "2024-05-28T18:23:37.960Z"
   },
   {
    "duration": 6,
    "start_time": "2024-05-28T18:24:02.042Z"
   },
   {
    "duration": 9,
    "start_time": "2024-05-28T18:24:52.955Z"
   },
   {
    "duration": 7,
    "start_time": "2024-05-28T18:25:12.642Z"
   },
   {
    "duration": 3,
    "start_time": "2024-05-28T18:26:01.239Z"
   },
   {
    "duration": 4,
    "start_time": "2024-05-28T18:26:19.867Z"
   },
   {
    "duration": 8,
    "start_time": "2024-05-28T18:27:03.699Z"
   },
   {
    "duration": 60,
    "start_time": "2024-05-28T18:31:25.461Z"
   },
   {
    "duration": 601,
    "start_time": "2024-05-28T18:31:35.670Z"
   },
   {
    "duration": 15,
    "start_time": "2024-05-28T22:21:15.582Z"
   },
   {
    "duration": 64,
    "start_time": "2024-05-28T22:22:18.863Z"
   },
   {
    "duration": 9,
    "start_time": "2024-05-28T22:22:35.936Z"
   },
   {
    "duration": 22,
    "start_time": "2024-05-28T22:22:56.607Z"
   },
   {
    "duration": 13,
    "start_time": "2024-05-28T22:23:10.240Z"
   },
   {
    "duration": 74,
    "start_time": "2024-05-29T04:20:56.660Z"
   },
   {
    "duration": 3104,
    "start_time": "2024-05-29T04:21:10.856Z"
   },
   {
    "duration": 0,
    "start_time": "2024-05-29T04:21:13.962Z"
   },
   {
    "duration": 0,
    "start_time": "2024-05-29T04:21:13.963Z"
   },
   {
    "duration": 0,
    "start_time": "2024-05-29T04:21:13.964Z"
   },
   {
    "duration": 0,
    "start_time": "2024-05-29T04:21:13.965Z"
   },
   {
    "duration": 2692,
    "start_time": "2024-05-29T04:21:18.508Z"
   },
   {
    "duration": 0,
    "start_time": "2024-05-29T04:21:21.202Z"
   },
   {
    "duration": 0,
    "start_time": "2024-05-29T04:21:21.203Z"
   },
   {
    "duration": 0,
    "start_time": "2024-05-29T04:21:21.204Z"
   },
   {
    "duration": 0,
    "start_time": "2024-05-29T04:21:21.205Z"
   },
   {
    "duration": 9302,
    "start_time": "2024-05-29T04:21:49.382Z"
   },
   {
    "duration": 63348,
    "start_time": "2024-05-29T04:22:28.867Z"
   },
   {
    "duration": 0,
    "start_time": "2024-05-29T04:23:32.216Z"
   },
   {
    "duration": 0,
    "start_time": "2024-05-29T04:23:32.218Z"
   },
   {
    "duration": 0,
    "start_time": "2024-05-29T04:23:32.219Z"
   },
   {
    "duration": 0,
    "start_time": "2024-05-29T04:23:32.220Z"
   },
   {
    "duration": 2245,
    "start_time": "2024-05-29T04:26:09.811Z"
   },
   {
    "duration": 4,
    "start_time": "2024-05-29T04:26:12.061Z"
   },
   {
    "duration": 160,
    "start_time": "2024-05-29T04:26:12.066Z"
   },
   {
    "duration": 86,
    "start_time": "2024-05-29T04:26:12.232Z"
   },
   {
    "duration": 227,
    "start_time": "2024-05-29T04:26:12.320Z"
   },
   {
    "duration": 39,
    "start_time": "2024-05-29T04:27:54.460Z"
   },
   {
    "duration": 19,
    "start_time": "2024-05-29T04:30:25.759Z"
   },
   {
    "duration": 22,
    "start_time": "2024-05-29T04:30:37.662Z"
   },
   {
    "duration": 33,
    "start_time": "2024-05-29T05:03:58.477Z"
   },
   {
    "duration": 31,
    "start_time": "2024-05-29T05:04:25.279Z"
   },
   {
    "duration": 30,
    "start_time": "2024-05-29T05:04:52.917Z"
   },
   {
    "duration": 31,
    "start_time": "2024-05-29T05:06:28.222Z"
   },
   {
    "duration": 43,
    "start_time": "2024-05-29T05:07:57.217Z"
   },
   {
    "duration": 44,
    "start_time": "2024-05-29T05:08:56.736Z"
   },
   {
    "duration": 25,
    "start_time": "2024-05-29T05:10:15.889Z"
   },
   {
    "duration": 32,
    "start_time": "2024-05-29T05:10:39.466Z"
   },
   {
    "duration": 48,
    "start_time": "2024-05-29T05:17:52.990Z"
   },
   {
    "duration": 49,
    "start_time": "2024-05-29T05:23:06.168Z"
   },
   {
    "duration": 102,
    "start_time": "2024-05-29T05:24:09.303Z"
   },
   {
    "duration": 99,
    "start_time": "2024-05-29T05:25:51.795Z"
   },
   {
    "duration": 52,
    "start_time": "2024-05-29T05:31:00.019Z"
   },
   {
    "duration": 61,
    "start_time": "2024-05-29T05:31:42.616Z"
   },
   {
    "duration": 571,
    "start_time": "2024-05-29T05:33:21.751Z"
   },
   {
    "duration": 64,
    "start_time": "2024-05-29T05:34:08.718Z"
   },
   {
    "duration": 109,
    "start_time": "2024-05-29T05:34:45.481Z"
   },
   {
    "duration": 16,
    "start_time": "2024-05-29T09:25:33.467Z"
   },
   {
    "duration": 31,
    "start_time": "2024-05-29T09:28:49.477Z"
   },
   {
    "duration": 19,
    "start_time": "2024-05-29T09:30:04.918Z"
   },
   {
    "duration": 20,
    "start_time": "2024-05-29T09:36:57.856Z"
   },
   {
    "duration": 2180,
    "start_time": "2024-05-29T09:37:08.000Z"
   },
   {
    "duration": 3,
    "start_time": "2024-05-29T09:37:10.183Z"
   },
   {
    "duration": 154,
    "start_time": "2024-05-29T09:37:10.188Z"
   },
   {
    "duration": 77,
    "start_time": "2024-05-29T09:37:10.344Z"
   },
   {
    "duration": 224,
    "start_time": "2024-05-29T09:37:10.423Z"
   },
   {
    "duration": 0,
    "start_time": "2024-05-29T09:37:10.649Z"
   },
   {
    "duration": 19,
    "start_time": "2024-05-29T09:45:05.807Z"
   },
   {
    "duration": 26,
    "start_time": "2024-05-29T09:45:27.023Z"
   },
   {
    "duration": 19,
    "start_time": "2024-05-29T09:45:53.822Z"
   },
   {
    "duration": 16,
    "start_time": "2024-05-29T09:47:55.609Z"
   },
   {
    "duration": 13,
    "start_time": "2024-05-29T09:48:24.674Z"
   },
   {
    "duration": 13,
    "start_time": "2024-05-29T09:48:46.785Z"
   },
   {
    "duration": 11,
    "start_time": "2024-05-29T09:49:40.628Z"
   },
   {
    "duration": 27,
    "start_time": "2024-05-29T11:17:31.687Z"
   },
   {
    "duration": 22,
    "start_time": "2024-05-29T11:18:54.407Z"
   },
   {
    "duration": 27,
    "start_time": "2024-05-29T11:20:48.281Z"
   },
   {
    "duration": 17,
    "start_time": "2024-05-29T11:23:54.916Z"
   },
   {
    "duration": 24,
    "start_time": "2024-05-29T11:26:30.862Z"
   },
   {
    "duration": 5,
    "start_time": "2024-05-29T11:34:03.322Z"
   },
   {
    "duration": 55,
    "start_time": "2024-05-29T11:34:12.490Z"
   },
   {
    "duration": 18,
    "start_time": "2024-05-29T11:36:31.059Z"
   },
   {
    "duration": 19,
    "start_time": "2024-05-29T11:37:31.843Z"
   },
   {
    "duration": 27,
    "start_time": "2024-05-29T11:48:44.195Z"
   },
   {
    "duration": 18,
    "start_time": "2024-05-29T12:07:04.058Z"
   },
   {
    "duration": 21,
    "start_time": "2024-05-29T12:10:48.517Z"
   },
   {
    "duration": 19,
    "start_time": "2024-05-29T13:14:50.747Z"
   },
   {
    "duration": 22,
    "start_time": "2024-05-29T13:16:54.669Z"
   },
   {
    "duration": 14,
    "start_time": "2024-05-29T13:17:03.021Z"
   },
   {
    "duration": 11,
    "start_time": "2024-05-29T13:18:07.487Z"
   },
   {
    "duration": 14024,
    "start_time": "2024-05-29T13:18:13.798Z"
   },
   {
    "duration": 29,
    "start_time": "2024-05-29T13:22:05.452Z"
   },
   {
    "duration": 35,
    "start_time": "2024-05-29T13:22:19.676Z"
   },
   {
    "duration": 6043,
    "start_time": "2024-05-29T13:22:34.629Z"
   },
   {
    "duration": 2178,
    "start_time": "2024-05-29T20:45:31.336Z"
   },
   {
    "duration": 4,
    "start_time": "2024-05-29T20:45:33.516Z"
   },
   {
    "duration": 157,
    "start_time": "2024-05-29T20:45:33.521Z"
   },
   {
    "duration": 102,
    "start_time": "2024-05-29T20:45:33.681Z"
   },
   {
    "duration": 16,
    "start_time": "2024-05-29T20:45:33.784Z"
   },
   {
    "duration": 36,
    "start_time": "2024-05-29T20:45:33.801Z"
   },
   {
    "duration": 5794,
    "start_time": "2024-05-29T20:45:33.839Z"
   },
   {
    "duration": 91,
    "start_time": "2024-05-29T20:54:50.390Z"
   },
   {
    "duration": 211,
    "start_time": "2024-05-29T20:55:29.923Z"
   },
   {
    "duration": 77,
    "start_time": "2024-05-29T20:56:24.652Z"
   },
   {
    "duration": 2256,
    "start_time": "2024-05-29T20:57:29.695Z"
   },
   {
    "duration": 3,
    "start_time": "2024-05-29T20:57:31.953Z"
   },
   {
    "duration": 235,
    "start_time": "2024-05-29T20:57:31.958Z"
   },
   {
    "duration": 108,
    "start_time": "2024-05-29T20:57:32.197Z"
   },
   {
    "duration": 18,
    "start_time": "2024-05-29T20:57:32.308Z"
   },
   {
    "duration": 74,
    "start_time": "2024-05-29T20:57:32.328Z"
   },
   {
    "duration": 204,
    "start_time": "2024-05-29T20:57:32.404Z"
   },
   {
    "duration": 25,
    "start_time": "2024-05-29T21:03:26.778Z"
   },
   {
    "duration": 24,
    "start_time": "2024-05-29T21:03:39.106Z"
   },
   {
    "duration": 49,
    "start_time": "2024-05-29T21:05:20.058Z"
   },
   {
    "duration": 48,
    "start_time": "2024-05-29T21:06:21.420Z"
   },
   {
    "duration": 55,
    "start_time": "2024-05-31T13:34:50.150Z"
   },
   {
    "duration": 56,
    "start_time": "2024-05-31T13:36:08.608Z"
   },
   {
    "duration": 0,
    "start_time": "2024-05-31T13:36:08.666Z"
   },
   {
    "duration": 0,
    "start_time": "2024-05-31T13:36:08.667Z"
   },
   {
    "duration": 0,
    "start_time": "2024-05-31T13:36:08.668Z"
   },
   {
    "duration": 0,
    "start_time": "2024-05-31T13:36:08.670Z"
   },
   {
    "duration": 0,
    "start_time": "2024-05-31T13:36:08.671Z"
   },
   {
    "duration": 0,
    "start_time": "2024-05-31T13:36:08.673Z"
   },
   {
    "duration": 56,
    "start_time": "2024-05-31T13:36:21.196Z"
   },
   {
    "duration": 0,
    "start_time": "2024-05-31T13:36:21.254Z"
   },
   {
    "duration": 0,
    "start_time": "2024-05-31T13:36:21.255Z"
   },
   {
    "duration": 0,
    "start_time": "2024-05-31T13:36:21.256Z"
   },
   {
    "duration": 0,
    "start_time": "2024-05-31T13:36:21.257Z"
   },
   {
    "duration": 0,
    "start_time": "2024-05-31T13:36:21.258Z"
   },
   {
    "duration": 0,
    "start_time": "2024-05-31T13:36:21.259Z"
   },
   {
    "duration": 69811,
    "start_time": "2024-05-31T13:36:53.221Z"
   },
   {
    "duration": 28,
    "start_time": "2024-05-31T13:40:14.168Z"
   },
   {
    "duration": 23,
    "start_time": "2024-05-31T13:40:30.768Z"
   },
   {
    "duration": 7195,
    "start_time": "2024-05-31T13:40:40.016Z"
   },
   {
    "duration": 24963,
    "start_time": "2024-05-31T16:35:38.964Z"
   },
   {
    "duration": 32,
    "start_time": "2024-05-31T16:36:43.277Z"
   },
   {
    "duration": 4,
    "start_time": "2024-05-31T16:37:14.526Z"
   },
   {
    "duration": 24987,
    "start_time": "2024-05-31T16:38:22.732Z"
   },
   {
    "duration": 2120,
    "start_time": "2024-05-31T16:38:47.721Z"
   },
   {
    "duration": 3,
    "start_time": "2024-05-31T16:38:49.843Z"
   },
   {
    "duration": 416,
    "start_time": "2024-05-31T16:38:49.853Z"
   },
   {
    "duration": 92,
    "start_time": "2024-05-31T16:38:50.270Z"
   },
   {
    "duration": 20,
    "start_time": "2024-05-31T16:38:50.363Z"
   },
   {
    "duration": 77,
    "start_time": "2024-05-31T16:38:50.384Z"
   },
   {
    "duration": 32727,
    "start_time": "2024-05-31T16:38:50.462Z"
   },
   {
    "duration": 225,
    "start_time": "2024-05-31T16:41:00.214Z"
   },
   {
    "duration": 95,
    "start_time": "2024-05-31T16:43:10.959Z"
   },
   {
    "duration": 20,
    "start_time": "2024-05-31T16:43:32.167Z"
   },
   {
    "duration": 53,
    "start_time": "2024-05-31T16:43:55.168Z"
   },
   {
    "duration": 20,
    "start_time": "2024-05-31T16:44:02.032Z"
   },
   {
    "duration": 54,
    "start_time": "2024-05-31T16:46:17.146Z"
   },
   {
    "duration": 64,
    "start_time": "2024-05-31T16:48:46.109Z"
   },
   {
    "duration": 48,
    "start_time": "2024-05-31T16:49:33.854Z"
   },
   {
    "duration": 50,
    "start_time": "2024-05-31T16:51:06.239Z"
   },
   {
    "duration": 22,
    "start_time": "2024-05-31T16:54:04.281Z"
   },
   {
    "duration": 24,
    "start_time": "2024-05-31T16:54:48.017Z"
   },
   {
    "duration": 1964,
    "start_time": "2024-05-31T16:57:41.896Z"
   },
   {
    "duration": 4,
    "start_time": "2024-05-31T16:57:43.862Z"
   },
   {
    "duration": 141,
    "start_time": "2024-05-31T16:57:43.868Z"
   },
   {
    "duration": 97,
    "start_time": "2024-05-31T16:57:44.011Z"
   },
   {
    "duration": 61,
    "start_time": "2024-05-31T16:57:44.111Z"
   },
   {
    "duration": 87,
    "start_time": "2024-05-31T16:57:44.174Z"
   },
   {
    "duration": 6786,
    "start_time": "2024-05-31T16:57:44.262Z"
   },
   {
    "duration": 65,
    "start_time": "2024-05-31T16:59:39.001Z"
   },
   {
    "duration": 166,
    "start_time": "2024-05-31T16:59:55.906Z"
   },
   {
    "duration": 24,
    "start_time": "2024-05-31T17:07:03.736Z"
   },
   {
    "duration": 46,
    "start_time": "2024-05-31T17:07:10.688Z"
   },
   {
    "duration": 5762,
    "start_time": "2024-05-31T17:07:30.400Z"
   },
   {
    "duration": 17,
    "start_time": "2024-05-31T17:25:50.712Z"
   },
   {
    "duration": 14,
    "start_time": "2024-05-31T17:27:23.186Z"
   },
   {
    "duration": 16,
    "start_time": "2024-05-31T17:27:53.626Z"
   },
   {
    "duration": 979,
    "start_time": "2024-05-31T17:28:22.019Z"
   },
   {
    "duration": 998,
    "start_time": "2024-05-31T17:29:48.572Z"
   },
   {
    "duration": 1214,
    "start_time": "2024-05-31T17:30:17.676Z"
   },
   {
    "duration": 1102,
    "start_time": "2024-05-31T17:30:40.413Z"
   },
   {
    "duration": 1091,
    "start_time": "2024-05-31T17:31:44.422Z"
   },
   {
    "duration": 2254,
    "start_time": "2024-05-31T17:32:30.338Z"
   },
   {
    "duration": 4,
    "start_time": "2024-05-31T17:32:32.594Z"
   },
   {
    "duration": 138,
    "start_time": "2024-05-31T17:32:32.599Z"
   },
   {
    "duration": 1175,
    "start_time": "2024-05-31T17:32:32.739Z"
   },
   {
    "duration": 0,
    "start_time": "2024-05-31T17:32:33.916Z"
   },
   {
    "duration": 0,
    "start_time": "2024-05-31T17:32:33.917Z"
   },
   {
    "duration": 0,
    "start_time": "2024-05-31T17:32:33.919Z"
   },
   {
    "duration": 0,
    "start_time": "2024-05-31T17:32:33.920Z"
   },
   {
    "duration": 0,
    "start_time": "2024-05-31T17:32:33.922Z"
   },
   {
    "duration": 2124,
    "start_time": "2024-05-31T17:37:26.507Z"
   },
   {
    "duration": 3,
    "start_time": "2024-05-31T17:37:28.633Z"
   },
   {
    "duration": 174,
    "start_time": "2024-05-31T17:37:28.638Z"
   },
   {
    "duration": 1205,
    "start_time": "2024-05-31T17:37:28.814Z"
   },
   {
    "duration": 0,
    "start_time": "2024-05-31T17:37:30.021Z"
   },
   {
    "duration": 0,
    "start_time": "2024-05-31T17:37:30.022Z"
   },
   {
    "duration": 0,
    "start_time": "2024-05-31T17:37:30.024Z"
   },
   {
    "duration": 0,
    "start_time": "2024-05-31T17:37:30.025Z"
   },
   {
    "duration": 0,
    "start_time": "2024-05-31T17:37:30.026Z"
   },
   {
    "duration": 2162,
    "start_time": "2024-06-01T13:36:33.953Z"
   },
   {
    "duration": 4,
    "start_time": "2024-06-01T13:36:36.117Z"
   },
   {
    "duration": 142,
    "start_time": "2024-06-01T13:36:36.123Z"
   },
   {
    "duration": 119,
    "start_time": "2024-06-01T13:36:36.267Z"
   },
   {
    "duration": 22,
    "start_time": "2024-06-01T13:36:36.388Z"
   },
   {
    "duration": 81,
    "start_time": "2024-06-01T13:36:36.412Z"
   },
   {
    "duration": 6649,
    "start_time": "2024-06-01T13:36:36.495Z"
   },
   {
    "duration": 203,
    "start_time": "2024-06-01T13:36:43.147Z"
   },
   {
    "duration": 46,
    "start_time": "2024-06-02T17:28:00.268Z"
   },
   {
    "duration": 46,
    "start_time": "2024-06-02T17:28:11.013Z"
   },
   {
    "duration": 0,
    "start_time": "2024-06-02T17:28:11.061Z"
   },
   {
    "duration": 0,
    "start_time": "2024-06-02T17:28:11.062Z"
   },
   {
    "duration": 0,
    "start_time": "2024-06-02T17:28:11.063Z"
   },
   {
    "duration": 0,
    "start_time": "2024-06-02T17:28:11.063Z"
   },
   {
    "duration": 0,
    "start_time": "2024-06-02T17:28:11.064Z"
   },
   {
    "duration": 0,
    "start_time": "2024-06-02T17:28:11.065Z"
   },
   {
    "duration": 0,
    "start_time": "2024-06-02T17:28:11.066Z"
   },
   {
    "duration": 1980,
    "start_time": "2024-06-02T17:29:08.653Z"
   },
   {
    "duration": 0,
    "start_time": "2024-06-02T17:29:10.635Z"
   },
   {
    "duration": 0,
    "start_time": "2024-06-02T17:29:10.636Z"
   },
   {
    "duration": 0,
    "start_time": "2024-06-02T17:29:10.637Z"
   },
   {
    "duration": 0,
    "start_time": "2024-06-02T17:29:10.638Z"
   },
   {
    "duration": 0,
    "start_time": "2024-06-02T17:29:10.639Z"
   },
   {
    "duration": 0,
    "start_time": "2024-06-02T17:29:10.640Z"
   },
   {
    "duration": 0,
    "start_time": "2024-06-02T17:29:10.641Z"
   },
   {
    "duration": 43237,
    "start_time": "2024-06-02T17:30:10.960Z"
   },
   {
    "duration": 60,
    "start_time": "2024-06-02T17:31:16.379Z"
   },
   {
    "duration": 1659,
    "start_time": "2024-06-02T17:31:37.237Z"
   },
   {
    "duration": 0,
    "start_time": "2024-06-02T17:31:38.899Z"
   },
   {
    "duration": 0,
    "start_time": "2024-06-02T17:31:38.901Z"
   },
   {
    "duration": 0,
    "start_time": "2024-06-02T17:31:38.902Z"
   },
   {
    "duration": 0,
    "start_time": "2024-06-02T17:31:38.904Z"
   },
   {
    "duration": 0,
    "start_time": "2024-06-02T17:31:38.906Z"
   },
   {
    "duration": 0,
    "start_time": "2024-06-02T17:31:38.907Z"
   },
   {
    "duration": 0,
    "start_time": "2024-06-02T17:31:38.909Z"
   },
   {
    "duration": 1656,
    "start_time": "2024-06-02T17:32:01.451Z"
   },
   {
    "duration": 0,
    "start_time": "2024-06-02T17:32:03.109Z"
   },
   {
    "duration": 0,
    "start_time": "2024-06-02T17:32:03.110Z"
   },
   {
    "duration": 0,
    "start_time": "2024-06-02T17:32:03.111Z"
   },
   {
    "duration": 0,
    "start_time": "2024-06-02T17:32:03.112Z"
   },
   {
    "duration": 0,
    "start_time": "2024-06-02T17:32:03.114Z"
   },
   {
    "duration": 0,
    "start_time": "2024-06-02T17:32:03.114Z"
   },
   {
    "duration": 0,
    "start_time": "2024-06-02T17:32:03.116Z"
   },
   {
    "duration": 25729,
    "start_time": "2024-06-02T17:32:14.653Z"
   },
   {
    "duration": 26,
    "start_time": "2024-06-02T17:32:51.167Z"
   },
   {
    "duration": 19,
    "start_time": "2024-06-02T17:33:00.967Z"
   },
   {
    "duration": 23012,
    "start_time": "2024-06-02T17:33:36.381Z"
   },
   {
    "duration": 1868,
    "start_time": "2024-06-02T17:33:59.395Z"
   },
   {
    "duration": 3,
    "start_time": "2024-06-02T17:34:01.267Z"
   },
   {
    "duration": 580,
    "start_time": "2024-06-02T17:34:01.271Z"
   },
   {
    "duration": 92,
    "start_time": "2024-06-02T17:34:01.854Z"
   },
   {
    "duration": 15,
    "start_time": "2024-06-02T17:34:01.948Z"
   },
   {
    "duration": 42,
    "start_time": "2024-06-02T17:34:02.000Z"
   },
   {
    "duration": 5151,
    "start_time": "2024-06-02T17:34:02.044Z"
   },
   {
    "duration": 159,
    "start_time": "2024-06-02T17:34:07.197Z"
   },
   {
    "duration": 19,
    "start_time": "2024-06-02T17:41:08.018Z"
   },
   {
    "duration": 18,
    "start_time": "2024-06-02T17:43:00.606Z"
   },
   {
    "duration": 993,
    "start_time": "2024-06-02T18:05:08.065Z"
   },
   {
    "duration": 23270,
    "start_time": "2024-06-02T18:05:33.674Z"
   },
   {
    "duration": 1824,
    "start_time": "2024-06-02T18:05:56.946Z"
   },
   {
    "duration": 3,
    "start_time": "2024-06-02T18:05:58.772Z"
   },
   {
    "duration": 134,
    "start_time": "2024-06-02T18:05:58.777Z"
   },
   {
    "duration": 31,
    "start_time": "2024-06-02T18:05:58.912Z"
   },
   {
    "duration": 193,
    "start_time": "2024-06-02T18:05:58.944Z"
   },
   {
    "duration": 0,
    "start_time": "2024-06-02T18:05:59.139Z"
   },
   {
    "duration": 0,
    "start_time": "2024-06-02T18:05:59.141Z"
   },
   {
    "duration": 0,
    "start_time": "2024-06-02T18:05:59.142Z"
   },
   {
    "duration": 25,
    "start_time": "2024-06-02T18:07:36.898Z"
   },
   {
    "duration": 31,
    "start_time": "2024-06-02T18:09:03.636Z"
   },
   {
    "duration": 24478,
    "start_time": "2024-06-02T18:10:37.965Z"
   },
   {
    "duration": 29,
    "start_time": "2024-06-02T18:17:39.747Z"
   },
   {
    "duration": 7,
    "start_time": "2024-06-02T18:18:11.692Z"
   },
   {
    "duration": 29,
    "start_time": "2024-06-02T18:18:19.996Z"
   },
   {
    "duration": 126559,
    "start_time": "2024-06-02T18:22:26.328Z"
   },
   {
    "duration": 25,
    "start_time": "2024-06-02T22:37:23.401Z"
   },
   {
    "duration": 16,
    "start_time": "2024-06-02T22:41:06.076Z"
   },
   {
    "duration": 30,
    "start_time": "2024-06-02T22:41:20.236Z"
   },
   {
    "duration": 17,
    "start_time": "2024-06-02T22:41:25.788Z"
   },
   {
    "duration": 16,
    "start_time": "2024-06-02T22:42:26.461Z"
   },
   {
    "duration": 15,
    "start_time": "2024-06-02T22:43:12.574Z"
   },
   {
    "duration": 15,
    "start_time": "2024-06-02T22:43:54.839Z"
   },
   {
    "duration": 21,
    "start_time": "2024-06-02T22:44:47.775Z"
   },
   {
    "duration": 21,
    "start_time": "2024-06-02T22:45:13.671Z"
   },
   {
    "duration": 1938,
    "start_time": "2024-06-02T22:47:15.187Z"
   },
   {
    "duration": 3,
    "start_time": "2024-06-02T22:47:17.127Z"
   },
   {
    "duration": 155,
    "start_time": "2024-06-02T22:47:17.132Z"
   },
   {
    "duration": 36,
    "start_time": "2024-06-02T22:47:17.288Z"
   },
   {
    "duration": 24,
    "start_time": "2024-06-02T22:47:17.326Z"
   },
   {
    "duration": 64,
    "start_time": "2024-06-02T22:47:17.352Z"
   },
   {
    "duration": 30467,
    "start_time": "2024-06-02T22:47:17.418Z"
   },
   {
    "duration": 0,
    "start_time": "2024-06-02T22:47:47.887Z"
   },
   {
    "duration": 28,
    "start_time": "2024-06-02T22:48:34.740Z"
   },
   {
    "duration": 1883,
    "start_time": "2024-06-02T22:48:44.546Z"
   },
   {
    "duration": 3,
    "start_time": "2024-06-02T22:48:46.432Z"
   },
   {
    "duration": 135,
    "start_time": "2024-06-02T22:48:46.437Z"
   },
   {
    "duration": 52,
    "start_time": "2024-06-02T22:48:46.573Z"
   },
   {
    "duration": 29,
    "start_time": "2024-06-02T22:48:46.627Z"
   },
   {
    "duration": 65,
    "start_time": "2024-06-02T22:48:46.658Z"
   },
   {
    "duration": 191,
    "start_time": "2024-06-02T22:48:46.725Z"
   },
   {
    "duration": 0,
    "start_time": "2024-06-02T22:48:46.918Z"
   },
   {
    "duration": 32580,
    "start_time": "2024-06-02T22:49:40.111Z"
   },
   {
    "duration": 20,
    "start_time": "2024-06-02T22:50:34.495Z"
   },
   {
    "duration": 1917,
    "start_time": "2024-06-02T22:50:45.384Z"
   },
   {
    "duration": 3,
    "start_time": "2024-06-02T22:50:47.303Z"
   },
   {
    "duration": 147,
    "start_time": "2024-06-02T22:50:47.308Z"
   },
   {
    "duration": 73,
    "start_time": "2024-06-02T22:50:47.457Z"
   },
   {
    "duration": 26,
    "start_time": "2024-06-02T22:50:47.532Z"
   },
   {
    "duration": 30,
    "start_time": "2024-06-02T22:50:47.599Z"
   },
   {
    "duration": 5761,
    "start_time": "2024-06-02T22:50:47.630Z"
   },
   {
    "duration": 160,
    "start_time": "2024-06-02T22:50:53.393Z"
   },
   {
    "duration": 61114,
    "start_time": "2024-06-03T09:02:18.369Z"
   },
   {
    "duration": 2085,
    "start_time": "2024-06-03T09:03:19.486Z"
   },
   {
    "duration": 0,
    "start_time": "2024-06-03T09:03:21.573Z"
   },
   {
    "duration": 0,
    "start_time": "2024-06-03T09:03:21.574Z"
   },
   {
    "duration": 0,
    "start_time": "2024-06-03T09:03:21.575Z"
   },
   {
    "duration": 0,
    "start_time": "2024-06-03T09:03:21.582Z"
   },
   {
    "duration": 0,
    "start_time": "2024-06-03T09:03:21.583Z"
   },
   {
    "duration": 0,
    "start_time": "2024-06-03T09:03:21.584Z"
   },
   {
    "duration": 0,
    "start_time": "2024-06-03T09:03:21.585Z"
   },
   {
    "duration": 1959,
    "start_time": "2024-06-03T09:04:00.338Z"
   },
   {
    "duration": 0,
    "start_time": "2024-06-03T09:04:02.300Z"
   },
   {
    "duration": 0,
    "start_time": "2024-06-03T09:04:02.301Z"
   },
   {
    "duration": 1,
    "start_time": "2024-06-03T09:04:02.302Z"
   },
   {
    "duration": 0,
    "start_time": "2024-06-03T09:04:02.304Z"
   },
   {
    "duration": 0,
    "start_time": "2024-06-03T09:04:02.306Z"
   },
   {
    "duration": 0,
    "start_time": "2024-06-03T09:04:02.307Z"
   },
   {
    "duration": 0,
    "start_time": "2024-06-03T09:04:02.309Z"
   },
   {
    "duration": 20,
    "start_time": "2024-06-03T09:04:22.322Z"
   },
   {
    "duration": 30346,
    "start_time": "2024-06-03T09:04:29.720Z"
   },
   {
    "duration": 38,
    "start_time": "2024-06-03T09:05:00.070Z"
   },
   {
    "duration": 21,
    "start_time": "2024-06-03T09:05:17.169Z"
   },
   {
    "duration": 25,
    "start_time": "2024-06-03T11:15:07.316Z"
   },
   {
    "duration": 26244,
    "start_time": "2024-06-03T11:15:15.387Z"
   },
   {
    "duration": 26244,
    "start_time": "2024-06-03T11:39:21.244Z"
   },
   {
    "duration": 32,
    "start_time": "2024-06-03T11:39:47.490Z"
   },
   {
    "duration": 26,
    "start_time": "2024-06-03T11:39:52.788Z"
   },
   {
    "duration": 4,
    "start_time": "2024-06-03T11:39:59.052Z"
   },
   {
    "duration": 322,
    "start_time": "2024-06-03T11:40:01.732Z"
   },
   {
    "duration": 38,
    "start_time": "2024-06-03T11:40:06.788Z"
   },
   {
    "duration": 30,
    "start_time": "2024-06-03T11:40:11.036Z"
   },
   {
    "duration": 41,
    "start_time": "2024-06-03T11:40:15.620Z"
   },
   {
    "duration": 20,
    "start_time": "2024-06-03T11:40:19.372Z"
   },
   {
    "duration": 26801,
    "start_time": "2024-06-03T11:41:00.503Z"
   },
   {
    "duration": 2157,
    "start_time": "2024-06-03T11:41:27.306Z"
   },
   {
    "duration": 3,
    "start_time": "2024-06-03T11:41:29.465Z"
   },
   {
    "duration": 157,
    "start_time": "2024-06-03T11:41:29.470Z"
   },
   {
    "duration": 82,
    "start_time": "2024-06-03T11:41:29.629Z"
   },
   {
    "duration": 75,
    "start_time": "2024-06-03T11:41:29.713Z"
   },
   {
    "duration": 33,
    "start_time": "2024-06-03T11:41:29.789Z"
   },
   {
    "duration": 6741,
    "start_time": "2024-06-03T11:41:29.824Z"
   },
   {
    "duration": 1195,
    "start_time": "2024-06-03T11:41:36.566Z"
   },
   {
    "duration": 6024,
    "start_time": "2024-06-03T11:49:22.702Z"
   },
   {
    "duration": 41,
    "start_time": "2024-06-03T11:49:52.013Z"
   },
   {
    "duration": 411768,
    "start_time": "2024-06-03T11:49:56.125Z"
   },
   {
    "duration": 912,
    "start_time": "2024-06-03T11:59:41.484Z"
   },
   {
    "duration": 29074,
    "start_time": "2024-06-03T12:01:21.669Z"
   },
   {
    "duration": 2279,
    "start_time": "2024-06-03T12:01:50.746Z"
   },
   {
    "duration": 4,
    "start_time": "2024-06-03T12:01:53.026Z"
   },
   {
    "duration": 155,
    "start_time": "2024-06-03T12:01:53.032Z"
   },
   {
    "duration": 44,
    "start_time": "2024-06-03T12:01:53.190Z"
   },
   {
    "duration": 84,
    "start_time": "2024-06-03T12:01:53.235Z"
   },
   {
    "duration": 1097,
    "start_time": "2024-06-03T12:01:53.320Z"
   },
   {
    "duration": 0,
    "start_time": "2024-06-03T12:01:54.419Z"
   },
   {
    "duration": 0,
    "start_time": "2024-06-03T12:01:54.420Z"
   },
   {
    "duration": 957,
    "start_time": "2024-06-03T12:03:13.749Z"
   },
   {
    "duration": 1139,
    "start_time": "2024-06-03T12:04:47.794Z"
   },
   {
    "duration": 47,
    "start_time": "2024-06-03T12:05:19.414Z"
   },
   {
    "duration": 35,
    "start_time": "2024-06-03T12:08:41.867Z"
   },
   {
    "duration": 36,
    "start_time": "2024-06-03T12:09:07.113Z"
   },
   {
    "duration": 94,
    "start_time": "2024-06-03T12:10:12.578Z"
   },
   {
    "duration": 231,
    "start_time": "2024-06-03T12:56:47.834Z"
   },
   {
    "duration": 339,
    "start_time": "2024-06-03T12:58:04.467Z"
   },
   {
    "duration": 57,
    "start_time": "2024-06-03T13:02:44.543Z"
   },
   {
    "duration": 223,
    "start_time": "2024-06-03T13:03:20.008Z"
   },
   {
    "duration": 226,
    "start_time": "2024-06-03T13:06:06.332Z"
   },
   {
    "duration": 5,
    "start_time": "2024-06-03T13:07:18.228Z"
   },
   {
    "duration": 65,
    "start_time": "2024-06-03T13:07:30.364Z"
   },
   {
    "duration": 216,
    "start_time": "2024-06-03T13:08:17.695Z"
   },
   {
    "duration": 187,
    "start_time": "2024-06-03T13:10:10.240Z"
   },
   {
    "duration": 201,
    "start_time": "2024-06-03T13:10:49.609Z"
   },
   {
    "duration": 227,
    "start_time": "2024-06-03T13:11:48.875Z"
   },
   {
    "duration": 50,
    "start_time": "2024-06-03T14:36:24.525Z"
   },
   {
    "duration": 168,
    "start_time": "2024-06-03T14:39:50.438Z"
   },
   {
    "duration": 163,
    "start_time": "2024-06-03T14:40:17.295Z"
   },
   {
    "duration": 46,
    "start_time": "2024-06-03T14:40:47.977Z"
   },
   {
    "duration": 2407,
    "start_time": "2024-06-03T14:41:11.440Z"
   },
   {
    "duration": 4,
    "start_time": "2024-06-03T14:41:13.849Z"
   },
   {
    "duration": 180,
    "start_time": "2024-06-03T14:41:13.855Z"
   },
   {
    "duration": 260,
    "start_time": "2024-06-03T14:41:14.037Z"
   },
   {
    "duration": 133,
    "start_time": "2024-06-03T14:41:14.300Z"
   },
   {
    "duration": 110,
    "start_time": "2024-06-03T14:41:14.435Z"
   },
   {
    "duration": 412346,
    "start_time": "2024-06-03T14:41:14.547Z"
   },
   {
    "duration": 1076,
    "start_time": "2024-06-03T14:48:06.895Z"
   },
   {
    "duration": 1295,
    "start_time": "2024-06-03T15:04:46.311Z"
   },
   {
    "duration": 1328,
    "start_time": "2024-06-03T15:08:19.059Z"
   },
   {
    "duration": 63,
    "start_time": "2024-06-03T15:25:03.302Z"
   },
   {
    "duration": 34,
    "start_time": "2024-06-03T15:25:28.842Z"
   },
   {
    "duration": 106,
    "start_time": "2024-06-03T15:25:55.988Z"
   },
   {
    "duration": 7,
    "start_time": "2024-06-03T15:30:13.272Z"
   },
   {
    "duration": 73,
    "start_time": "2024-06-03T15:30:28.647Z"
   },
   {
    "duration": 68,
    "start_time": "2024-06-03T15:30:48.888Z"
   },
   {
    "duration": 86,
    "start_time": "2024-06-03T17:13:29.996Z"
   },
   {
    "duration": 68,
    "start_time": "2024-06-03T17:13:50.571Z"
   },
   {
    "duration": 61,
    "start_time": "2024-06-03T17:14:52.940Z"
   },
   {
    "duration": 65,
    "start_time": "2024-06-03T17:15:34.716Z"
   },
   {
    "duration": 533,
    "start_time": "2024-06-03T17:16:28.133Z"
   },
   {
    "duration": 464,
    "start_time": "2024-06-03T17:17:31.326Z"
   },
   {
    "duration": 36,
    "start_time": "2024-06-03T17:17:52.654Z"
   },
   {
    "duration": 98,
    "start_time": "2024-06-03T17:18:25.023Z"
   },
   {
    "duration": 89,
    "start_time": "2024-06-03T17:20:06.058Z"
   },
   {
    "duration": 39,
    "start_time": "2024-06-03T17:21:22.491Z"
   },
   {
    "duration": 36,
    "start_time": "2024-06-03T17:21:53.018Z"
   },
   {
    "duration": 77,
    "start_time": "2024-06-03T17:22:25.323Z"
   },
   {
    "duration": 76,
    "start_time": "2024-06-03T17:23:39.621Z"
   },
   {
    "duration": 72,
    "start_time": "2024-06-03T17:34:31.902Z"
   },
   {
    "duration": 67,
    "start_time": "2024-06-03T17:35:21.384Z"
   },
   {
    "duration": 69,
    "start_time": "2024-06-03T17:36:06.880Z"
   },
   {
    "duration": 30,
    "start_time": "2024-06-03T17:36:31.761Z"
   },
   {
    "duration": 70,
    "start_time": "2024-06-03T17:36:39.112Z"
   },
   {
    "duration": 257959,
    "start_time": "2024-06-03T17:38:04.577Z"
   },
   {
    "duration": 71,
    "start_time": "2024-06-03T17:46:10.274Z"
   },
   {
    "duration": 4031,
    "start_time": "2024-06-03T17:46:25.191Z"
   },
   {
    "duration": 71,
    "start_time": "2024-06-03T17:47:59.857Z"
   },
   {
    "duration": 69,
    "start_time": "2024-06-03T17:48:26.329Z"
   },
   {
    "duration": 4311,
    "start_time": "2024-06-03T17:48:42.921Z"
   },
   {
    "duration": 71,
    "start_time": "2024-06-03T18:13:51.559Z"
   },
   {
    "duration": 73,
    "start_time": "2024-06-03T18:18:07.578Z"
   },
   {
    "duration": 1001,
    "start_time": "2024-06-03T18:20:21.043Z"
   },
   {
    "duration": 27,
    "start_time": "2024-06-03T18:21:24.732Z"
   },
   {
    "duration": 2127,
    "start_time": "2024-06-03T18:28:01.523Z"
   },
   {
    "duration": 3,
    "start_time": "2024-06-03T18:28:03.652Z"
   },
   {
    "duration": 135,
    "start_time": "2024-06-03T18:28:03.656Z"
   },
   {
    "duration": 37,
    "start_time": "2024-06-03T18:28:03.793Z"
   },
   {
    "duration": 75,
    "start_time": "2024-06-03T18:28:03.832Z"
   },
   {
    "duration": 1191,
    "start_time": "2024-06-03T18:28:03.909Z"
   },
   {
    "duration": 90,
    "start_time": "2024-06-03T18:28:05.101Z"
   },
   {
    "duration": 4987,
    "start_time": "2024-06-03T18:28:05.193Z"
   },
   {
    "duration": 201,
    "start_time": "2024-06-03T18:28:10.182Z"
   },
   {
    "duration": 25,
    "start_time": "2024-06-03T18:29:18.502Z"
   },
   {
    "duration": 8,
    "start_time": "2024-06-03T18:31:51.823Z"
   },
   {
    "duration": 786,
    "start_time": "2024-06-03T18:32:05.344Z"
   },
   {
    "duration": 664,
    "start_time": "2024-06-03T18:34:36.714Z"
   },
   {
    "duration": 58900,
    "start_time": "2024-06-04T10:55:45.105Z"
   },
   {
    "duration": 2459,
    "start_time": "2024-06-04T10:56:44.007Z"
   },
   {
    "duration": 3,
    "start_time": "2024-06-04T10:56:46.468Z"
   },
   {
    "duration": 316,
    "start_time": "2024-06-04T10:56:46.472Z"
   },
   {
    "duration": 24,
    "start_time": "2024-06-04T10:56:46.790Z"
   },
   {
    "duration": 59,
    "start_time": "2024-06-04T10:56:46.815Z"
   },
   {
    "duration": 917,
    "start_time": "2024-06-04T10:56:46.875Z"
   },
   {
    "duration": 62,
    "start_time": "2024-06-04T10:56:47.794Z"
   },
   {
    "duration": 3229,
    "start_time": "2024-06-04T10:56:47.857Z"
   },
   {
    "duration": 750,
    "start_time": "2024-06-04T10:56:51.087Z"
   },
   {
    "duration": 65,
    "start_time": "2024-06-04T11:04:12.380Z"
   },
   {
    "duration": 53,
    "start_time": "2024-06-04T11:41:31.792Z"
   },
   {
    "duration": 56,
    "start_time": "2024-06-04T12:32:32.587Z"
   },
   {
    "duration": 537,
    "start_time": "2024-06-04T12:36:54.365Z"
   },
   {
    "duration": 514,
    "start_time": "2024-06-04T12:39:28.694Z"
   },
   {
    "duration": 54,
    "start_time": "2024-06-04T16:37:55.575Z"
   },
   {
    "duration": 1504,
    "start_time": "2024-06-04T16:47:17.402Z"
   },
   {
    "duration": 7,
    "start_time": "2024-06-04T16:49:09.010Z"
   },
   {
    "duration": 1506,
    "start_time": "2024-06-04T16:49:22.300Z"
   },
   {
    "duration": 16790,
    "start_time": "2024-06-04T16:49:44.140Z"
   },
   {
    "duration": 0,
    "start_time": "2024-06-04T16:50:00.932Z"
   },
   {
    "duration": 0,
    "start_time": "2024-06-04T16:50:00.933Z"
   },
   {
    "duration": 0,
    "start_time": "2024-06-04T16:50:00.934Z"
   },
   {
    "duration": 0,
    "start_time": "2024-06-04T16:50:00.935Z"
   },
   {
    "duration": 0,
    "start_time": "2024-06-04T16:50:00.936Z"
   },
   {
    "duration": 0,
    "start_time": "2024-06-04T16:50:00.937Z"
   },
   {
    "duration": 0,
    "start_time": "2024-06-04T16:50:00.938Z"
   },
   {
    "duration": 0,
    "start_time": "2024-06-04T16:50:00.938Z"
   },
   {
    "duration": 0,
    "start_time": "2024-06-04T16:50:00.939Z"
   },
   {
    "duration": 1803,
    "start_time": "2024-06-04T16:50:10.791Z"
   },
   {
    "duration": 3,
    "start_time": "2024-06-04T16:50:12.596Z"
   },
   {
    "duration": 125,
    "start_time": "2024-06-04T16:50:12.601Z"
   },
   {
    "duration": 30,
    "start_time": "2024-06-04T16:50:12.728Z"
   },
   {
    "duration": 69,
    "start_time": "2024-06-04T16:50:12.760Z"
   },
   {
    "duration": 947,
    "start_time": "2024-06-04T16:50:12.830Z"
   },
   {
    "duration": 75,
    "start_time": "2024-06-04T16:50:13.778Z"
   },
   {
    "duration": 3166,
    "start_time": "2024-06-04T16:50:13.854Z"
   },
   {
    "duration": 1714,
    "start_time": "2024-06-04T16:50:17.021Z"
   },
   {
    "duration": 4,
    "start_time": "2024-06-04T16:55:57.687Z"
   },
   {
    "duration": 1403,
    "start_time": "2024-06-04T16:57:42.499Z"
   },
   {
    "duration": 1359,
    "start_time": "2024-06-04T19:03:58.846Z"
   },
   {
    "duration": 1564,
    "start_time": "2024-06-04T19:04:39.279Z"
   },
   {
    "duration": 1709,
    "start_time": "2024-06-04T19:06:23.552Z"
   },
   {
    "duration": 11,
    "start_time": "2024-06-04T19:16:29.953Z"
   },
   {
    "duration": 8,
    "start_time": "2024-06-04T19:17:56.259Z"
   },
   {
    "duration": 8,
    "start_time": "2024-06-04T19:22:24.677Z"
   },
   {
    "duration": 62,
    "start_time": "2024-06-04T19:24:32.869Z"
   },
   {
    "duration": 1318,
    "start_time": "2024-06-04T19:28:12.383Z"
   },
   {
    "duration": 19,
    "start_time": "2024-06-04T19:29:04.798Z"
   },
   {
    "duration": 33161,
    "start_time": "2024-06-05T06:24:51.599Z"
   },
   {
    "duration": 1950,
    "start_time": "2024-06-05T06:25:24.762Z"
   },
   {
    "duration": 9,
    "start_time": "2024-06-05T06:25:26.713Z"
   },
   {
    "duration": 15,
    "start_time": "2024-06-05T06:25:26.724Z"
   },
   {
    "duration": 418,
    "start_time": "2024-06-05T06:25:26.741Z"
   },
   {
    "duration": 68,
    "start_time": "2024-06-05T06:25:27.161Z"
   },
   {
    "duration": 23,
    "start_time": "2024-06-05T06:25:27.230Z"
   },
   {
    "duration": 960,
    "start_time": "2024-06-05T06:25:27.255Z"
   },
   {
    "duration": 64,
    "start_time": "2024-06-05T06:25:28.217Z"
   },
   {
    "duration": 3306,
    "start_time": "2024-06-05T06:25:28.282Z"
   },
   {
    "duration": 1366,
    "start_time": "2024-06-05T06:25:31.590Z"
   },
   {
    "duration": 164,
    "start_time": "2024-06-05T06:25:32.957Z"
   },
   {
    "duration": 45,
    "start_time": "2024-06-05T07:58:40.217Z"
   },
   {
    "duration": 239,
    "start_time": "2024-06-05T07:59:09.825Z"
   },
   {
    "duration": 228,
    "start_time": "2024-06-05T08:04:06.150Z"
   },
   {
    "duration": 242,
    "start_time": "2024-06-05T08:05:58.775Z"
   },
   {
    "duration": 234,
    "start_time": "2024-06-05T08:06:15.680Z"
   },
   {
    "duration": 243,
    "start_time": "2024-06-05T08:06:40.184Z"
   },
   {
    "duration": 232,
    "start_time": "2024-06-05T08:07:25.473Z"
   },
   {
    "duration": 231,
    "start_time": "2024-06-05T08:08:39.329Z"
   },
   {
    "duration": 235,
    "start_time": "2024-06-05T08:08:49.450Z"
   },
   {
    "duration": 259,
    "start_time": "2024-06-05T08:09:12.532Z"
   },
   {
    "duration": 7,
    "start_time": "2024-06-05T08:13:11.438Z"
   },
   {
    "duration": 233,
    "start_time": "2024-06-05T08:14:15.184Z"
   },
   {
    "duration": 248,
    "start_time": "2024-06-05T08:14:31.798Z"
   },
   {
    "duration": 235,
    "start_time": "2024-06-05T08:38:20.901Z"
   },
   {
    "duration": 246,
    "start_time": "2024-06-05T08:38:38.236Z"
   },
   {
    "duration": 262,
    "start_time": "2024-06-05T08:38:53.853Z"
   },
   {
    "duration": 239,
    "start_time": "2024-06-05T08:39:50.565Z"
   },
   {
    "duration": 236,
    "start_time": "2024-06-05T08:40:58.126Z"
   },
   {
    "duration": 246,
    "start_time": "2024-06-05T08:48:06.620Z"
   },
   {
    "duration": 234,
    "start_time": "2024-06-05T08:49:00.253Z"
   },
   {
    "duration": 237,
    "start_time": "2024-06-05T08:49:11.270Z"
   },
   {
    "duration": 251,
    "start_time": "2024-06-05T08:49:43.326Z"
   },
   {
    "duration": 253,
    "start_time": "2024-06-05T08:53:36.594Z"
   },
   {
    "duration": 254,
    "start_time": "2024-06-05T08:55:56.387Z"
   },
   {
    "duration": 252,
    "start_time": "2024-06-05T08:57:04.301Z"
   },
   {
    "duration": 244,
    "start_time": "2024-06-05T08:57:18.941Z"
   },
   {
    "duration": 239,
    "start_time": "2024-06-05T08:58:03.943Z"
   },
   {
    "duration": 308,
    "start_time": "2024-06-05T09:00:32.152Z"
   },
   {
    "duration": 279,
    "start_time": "2024-06-05T09:01:49.010Z"
   },
   {
    "duration": 241,
    "start_time": "2024-06-05T09:02:06.443Z"
   },
   {
    "duration": 241,
    "start_time": "2024-06-05T09:05:30.429Z"
   },
   {
    "duration": 286,
    "start_time": "2024-06-05T09:06:52.134Z"
   },
   {
    "duration": 247,
    "start_time": "2024-06-05T09:07:39.879Z"
   },
   {
    "duration": 238,
    "start_time": "2024-06-05T09:09:14.016Z"
   },
   {
    "duration": 4,
    "start_time": "2024-06-05T09:11:52.307Z"
   },
   {
    "duration": 243,
    "start_time": "2024-06-05T09:11:59.907Z"
   },
   {
    "duration": 241,
    "start_time": "2024-06-05T09:14:19.733Z"
   },
   {
    "duration": 231,
    "start_time": "2024-06-05T09:14:41.327Z"
   },
   {
    "duration": 239,
    "start_time": "2024-06-05T09:15:46.565Z"
   },
   {
    "duration": 355,
    "start_time": "2024-06-05T09:16:56.236Z"
   },
   {
    "duration": 248,
    "start_time": "2024-06-05T09:17:14.861Z"
   },
   {
    "duration": 245,
    "start_time": "2024-06-05T09:20:58.575Z"
   },
   {
    "duration": 248,
    "start_time": "2024-06-05T09:21:30.721Z"
   },
   {
    "duration": 240,
    "start_time": "2024-06-05T09:22:10.650Z"
   },
   {
    "duration": 11,
    "start_time": "2024-06-05T09:22:40.608Z"
   },
   {
    "duration": 239,
    "start_time": "2024-06-05T09:23:29.928Z"
   },
   {
    "duration": 244,
    "start_time": "2024-06-05T09:24:13.887Z"
   },
   {
    "duration": 264,
    "start_time": "2024-06-05T09:25:40.416Z"
   },
   {
    "duration": 22,
    "start_time": "2024-06-05T09:43:51.630Z"
   },
   {
    "duration": 278,
    "start_time": "2024-06-05T09:46:25.896Z"
   },
   {
    "duration": 241,
    "start_time": "2024-06-05T09:46:39.744Z"
   },
   {
    "duration": 258,
    "start_time": "2024-06-05T09:49:12.889Z"
   },
   {
    "duration": 244,
    "start_time": "2024-06-05T09:49:32.265Z"
   },
   {
    "duration": 244,
    "start_time": "2024-06-05T09:49:49.425Z"
   },
   {
    "duration": 247,
    "start_time": "2024-06-05T09:50:21.945Z"
   },
   {
    "duration": 242,
    "start_time": "2024-06-05T15:30:31.175Z"
   },
   {
    "duration": 266,
    "start_time": "2024-06-05T15:30:40.511Z"
   },
   {
    "duration": 265,
    "start_time": "2024-06-05T15:31:45.256Z"
   },
   {
    "duration": 248,
    "start_time": "2024-06-05T15:33:04.322Z"
   },
   {
    "duration": 246,
    "start_time": "2024-06-05T15:33:29.482Z"
   },
   {
    "duration": 278,
    "start_time": "2024-06-05T15:33:52.523Z"
   },
   {
    "duration": 257,
    "start_time": "2024-06-05T16:30:56.380Z"
   },
   {
    "duration": 249,
    "start_time": "2024-06-05T16:34:31.089Z"
   },
   {
    "duration": 252,
    "start_time": "2024-06-05T16:36:20.579Z"
   },
   {
    "duration": 53,
    "start_time": "2024-06-05T16:43:25.954Z"
   },
   {
    "duration": 56,
    "start_time": "2024-06-05T16:44:46.595Z"
   },
   {
    "duration": 1876,
    "start_time": "2024-06-05T16:45:05.041Z"
   },
   {
    "duration": 3,
    "start_time": "2024-06-05T16:45:06.918Z"
   },
   {
    "duration": 4,
    "start_time": "2024-06-05T16:45:06.923Z"
   },
   {
    "duration": 139,
    "start_time": "2024-06-05T16:45:06.929Z"
   },
   {
    "duration": 69,
    "start_time": "2024-06-05T16:45:07.070Z"
   },
   {
    "duration": 24,
    "start_time": "2024-06-05T16:45:07.141Z"
   },
   {
    "duration": 982,
    "start_time": "2024-06-05T16:45:07.167Z"
   },
   {
    "duration": 70,
    "start_time": "2024-06-05T16:45:08.151Z"
   },
   {
    "duration": 2989,
    "start_time": "2024-06-05T16:45:08.222Z"
   },
   {
    "duration": 199,
    "start_time": "2024-06-05T16:45:11.213Z"
   },
   {
    "duration": 0,
    "start_time": "2024-06-05T16:45:11.413Z"
   },
   {
    "duration": 39,
    "start_time": "2024-06-05T16:46:19.988Z"
   },
   {
    "duration": 25,
    "start_time": "2024-06-05T16:55:26.837Z"
   },
   {
    "duration": 1845,
    "start_time": "2024-06-05T16:56:48.117Z"
   },
   {
    "duration": 4,
    "start_time": "2024-06-05T16:56:49.965Z"
   },
   {
    "duration": 37,
    "start_time": "2024-06-05T16:56:49.970Z"
   },
   {
    "duration": 147,
    "start_time": "2024-06-05T16:56:50.009Z"
   },
   {
    "duration": 74,
    "start_time": "2024-06-05T16:56:50.158Z"
   },
   {
    "duration": 31,
    "start_time": "2024-06-05T16:56:50.234Z"
   },
   {
    "duration": 1114,
    "start_time": "2024-06-05T16:56:50.266Z"
   },
   {
    "duration": 82,
    "start_time": "2024-06-05T16:56:51.381Z"
   },
   {
    "duration": 3366,
    "start_time": "2024-06-05T16:56:51.465Z"
   },
   {
    "duration": 207,
    "start_time": "2024-06-05T16:56:54.833Z"
   },
   {
    "duration": 0,
    "start_time": "2024-06-05T16:56:55.042Z"
   },
   {
    "duration": 30,
    "start_time": "2024-06-05T16:59:26.681Z"
   },
   {
    "duration": 33,
    "start_time": "2024-06-05T17:00:42.218Z"
   },
   {
    "duration": 27,
    "start_time": "2024-06-05T17:01:36.964Z"
   },
   {
    "duration": 32,
    "start_time": "2024-06-05T17:02:44.388Z"
   },
   {
    "duration": 55,
    "start_time": "2024-06-05T17:21:54.759Z"
   },
   {
    "duration": 13,
    "start_time": "2024-06-05T17:23:02.472Z"
   },
   {
    "duration": 17,
    "start_time": "2024-06-05T17:23:24.289Z"
   },
   {
    "duration": 5,
    "start_time": "2024-06-05T17:23:42.930Z"
   },
   {
    "duration": 43,
    "start_time": "2024-06-05T17:24:03.233Z"
   },
   {
    "duration": 9,
    "start_time": "2024-06-05T17:24:20.889Z"
   },
   {
    "duration": 26,
    "start_time": "2024-06-05T17:35:10.332Z"
   },
   {
    "duration": 8,
    "start_time": "2024-06-05T17:35:16.788Z"
   },
   {
    "duration": 1794,
    "start_time": "2024-06-05T17:36:53.577Z"
   },
   {
    "duration": 3,
    "start_time": "2024-06-05T17:36:55.373Z"
   },
   {
    "duration": 10,
    "start_time": "2024-06-05T17:36:55.378Z"
   },
   {
    "duration": 142,
    "start_time": "2024-06-05T17:36:55.390Z"
   },
   {
    "duration": 34,
    "start_time": "2024-06-05T17:36:55.534Z"
   },
   {
    "duration": 53,
    "start_time": "2024-06-05T17:36:55.570Z"
   },
   {
    "duration": 34,
    "start_time": "2024-06-05T17:36:55.625Z"
   },
   {
    "duration": 1498,
    "start_time": "2024-06-05T17:36:55.661Z"
   },
   {
    "duration": 165,
    "start_time": "2024-06-05T17:36:57.161Z"
   },
   {
    "duration": 3576,
    "start_time": "2024-06-05T17:36:57.328Z"
   },
   {
    "duration": 1389,
    "start_time": "2024-06-05T17:37:00.905Z"
   },
   {
    "duration": 426,
    "start_time": "2024-06-05T17:37:02.295Z"
   },
   {
    "duration": 12,
    "start_time": "2024-06-05T17:45:42.370Z"
   },
   {
    "duration": 22,
    "start_time": "2024-06-05T17:46:31.891Z"
   },
   {
    "duration": 262,
    "start_time": "2024-06-05T17:49:42.268Z"
   },
   {
    "duration": 262,
    "start_time": "2024-06-05T17:50:02.636Z"
   },
   {
    "duration": 256,
    "start_time": "2024-06-05T17:51:10.102Z"
   },
   {
    "duration": 263,
    "start_time": "2024-06-05T17:52:05.958Z"
   },
   {
    "duration": 264,
    "start_time": "2024-06-05T17:56:32.018Z"
   },
   {
    "duration": 259,
    "start_time": "2024-06-05T17:56:46.114Z"
   },
   {
    "duration": 263,
    "start_time": "2024-06-05T17:59:31.061Z"
   },
   {
    "duration": 276,
    "start_time": "2024-06-05T18:00:00.365Z"
   },
   {
    "duration": 269,
    "start_time": "2024-06-05T18:01:56.367Z"
   },
   {
    "duration": 256,
    "start_time": "2024-06-05T18:03:07.816Z"
   },
   {
    "duration": 248,
    "start_time": "2024-06-05T18:07:48.556Z"
   },
   {
    "duration": 246,
    "start_time": "2024-06-05T18:07:57.981Z"
   },
   {
    "duration": 62217,
    "start_time": "2024-06-06T08:40:37.046Z"
   },
   {
    "duration": 2284,
    "start_time": "2024-06-06T08:41:39.265Z"
   },
   {
    "duration": 4,
    "start_time": "2024-06-06T08:41:41.551Z"
   },
   {
    "duration": 16,
    "start_time": "2024-06-06T08:41:41.556Z"
   },
   {
    "duration": 336,
    "start_time": "2024-06-06T08:41:41.574Z"
   },
   {
    "duration": 63,
    "start_time": "2024-06-06T08:41:41.912Z"
   },
   {
    "duration": 8,
    "start_time": "2024-06-06T08:41:41.977Z"
   },
   {
    "duration": 94,
    "start_time": "2024-06-06T08:41:41.987Z"
   },
   {
    "duration": 1166,
    "start_time": "2024-06-06T08:41:42.082Z"
   },
   {
    "duration": 70,
    "start_time": "2024-06-06T08:41:43.250Z"
   },
   {
    "duration": 3881,
    "start_time": "2024-06-06T08:41:43.322Z"
   },
   {
    "duration": 1410,
    "start_time": "2024-06-06T08:41:47.205Z"
   },
   {
    "duration": 353,
    "start_time": "2024-06-06T08:41:48.616Z"
   },
   {
    "duration": 13,
    "start_time": "2024-06-06T08:45:10.444Z"
   },
   {
    "duration": 12,
    "start_time": "2024-06-06T08:46:10.862Z"
   },
   {
    "duration": 18,
    "start_time": "2024-06-06T10:13:53.380Z"
   },
   {
    "duration": 49,
    "start_time": "2024-06-06T16:04:44.287Z"
   },
   {
    "duration": 67263,
    "start_time": "2024-06-09T08:32:09.655Z"
   },
   {
    "duration": 2380,
    "start_time": "2024-06-09T08:33:16.920Z"
   },
   {
    "duration": 5,
    "start_time": "2024-06-09T08:33:19.302Z"
   },
   {
    "duration": 30,
    "start_time": "2024-06-09T08:33:19.309Z"
   },
   {
    "duration": 394,
    "start_time": "2024-06-09T08:33:19.341Z"
   },
   {
    "duration": 76,
    "start_time": "2024-06-09T08:33:19.737Z"
   },
   {
    "duration": 6,
    "start_time": "2024-06-09T08:33:19.815Z"
   },
   {
    "duration": 80,
    "start_time": "2024-06-09T08:33:19.823Z"
   },
   {
    "duration": 1224,
    "start_time": "2024-06-09T08:33:19.905Z"
   },
   {
    "duration": 95,
    "start_time": "2024-06-09T08:33:21.132Z"
   },
   {
    "duration": 4239,
    "start_time": "2024-06-09T08:33:21.229Z"
   },
   {
    "duration": 1572,
    "start_time": "2024-06-09T08:33:25.470Z"
   },
   {
    "duration": 200,
    "start_time": "2024-06-09T08:33:27.044Z"
   },
   {
    "duration": 51,
    "start_time": "2024-06-09T09:13:48.391Z"
   },
   {
    "duration": 6,
    "start_time": "2024-06-09T09:14:01.695Z"
   },
   {
    "duration": 44,
    "start_time": "2024-06-09T09:14:33.448Z"
   },
   {
    "duration": 5,
    "start_time": "2024-06-09T09:15:56.881Z"
   },
   {
    "duration": 49,
    "start_time": "2024-06-09T09:16:01.738Z"
   },
   {
    "duration": 51,
    "start_time": "2024-06-09T09:18:23.412Z"
   },
   {
    "duration": 54,
    "start_time": "2024-06-09T09:19:12.637Z"
   },
   {
    "duration": 36,
    "start_time": "2024-06-09T09:31:19.896Z"
   },
   {
    "duration": 33,
    "start_time": "2024-06-09T09:38:49.470Z"
   },
   {
    "duration": 118,
    "start_time": "2024-06-09T09:39:09.911Z"
   },
   {
    "duration": 105,
    "start_time": "2024-06-09T09:42:18.312Z"
   },
   {
    "duration": 124,
    "start_time": "2024-06-09T09:43:09.346Z"
   },
   {
    "duration": 44,
    "start_time": "2024-06-09T09:44:55.267Z"
   },
   {
    "duration": 71,
    "start_time": "2024-06-09T13:27:31.025Z"
   },
   {
    "duration": 71,
    "start_time": "2024-06-09T13:32:55.094Z"
   },
   {
    "duration": 69,
    "start_time": "2024-06-09T14:05:38.994Z"
   },
   {
    "duration": 5,
    "start_time": "2024-06-09T14:21:14.375Z"
   },
   {
    "duration": 74,
    "start_time": "2024-06-09T14:21:18.919Z"
   },
   {
    "duration": 4,
    "start_time": "2024-06-09T14:22:09.416Z"
   },
   {
    "duration": 103,
    "start_time": "2024-06-09T14:22:13.632Z"
   },
   {
    "duration": 4,
    "start_time": "2024-06-09T14:22:47.376Z"
   },
   {
    "duration": 108,
    "start_time": "2024-06-09T14:22:53.272Z"
   },
   {
    "duration": 56,
    "start_time": "2024-06-09T17:34:49.672Z"
   },
   {
    "duration": 101,
    "start_time": "2024-06-09T17:36:18.665Z"
   },
   {
    "duration": 95,
    "start_time": "2024-06-09T17:37:09.641Z"
   },
   {
    "duration": 32,
    "start_time": "2024-06-09T17:39:30.923Z"
   },
   {
    "duration": 60,
    "start_time": "2024-06-09T17:40:28.541Z"
   },
   {
    "duration": 73,
    "start_time": "2024-06-09T17:40:55.661Z"
   },
   {
    "duration": 71,
    "start_time": "2024-06-09T17:42:46.150Z"
   },
   {
    "duration": 69,
    "start_time": "2024-06-09T17:43:38.857Z"
   },
   {
    "duration": 90,
    "start_time": "2024-06-09T17:44:33.913Z"
   },
   {
    "duration": 92,
    "start_time": "2024-06-09T17:45:51.760Z"
   },
   {
    "duration": 134,
    "start_time": "2024-06-09T17:46:51.074Z"
   },
   {
    "duration": 1348,
    "start_time": "2024-06-09T17:47:11.138Z"
   },
   {
    "duration": 1225,
    "start_time": "2024-06-09T17:51:26.519Z"
   },
   {
    "duration": 2139,
    "start_time": "2024-06-09T17:53:10.568Z"
   },
   {
    "duration": 8017,
    "start_time": "2024-06-09T17:57:08.011Z"
   },
   {
    "duration": 8202,
    "start_time": "2024-06-09T18:05:43.411Z"
   },
   {
    "duration": 4454,
    "start_time": "2024-06-09T18:06:46.227Z"
   },
   {
    "duration": 4609,
    "start_time": "2024-06-09T21:23:47.200Z"
   },
   {
    "duration": 67,
    "start_time": "2024-06-10T17:26:14.816Z"
   },
   {
    "duration": 7,
    "start_time": "2024-06-10T17:26:30.701Z"
   },
   {
    "duration": 17,
    "start_time": "2024-06-10T17:26:36.334Z"
   },
   {
    "duration": 61317,
    "start_time": "2024-06-10T17:27:13.813Z"
   },
   {
    "duration": 2032,
    "start_time": "2024-06-10T17:28:15.133Z"
   },
   {
    "duration": 3,
    "start_time": "2024-06-10T17:28:17.167Z"
   },
   {
    "duration": 27,
    "start_time": "2024-06-10T17:28:17.172Z"
   },
   {
    "duration": 7,
    "start_time": "2024-06-10T17:28:17.201Z"
   },
   {
    "duration": 326,
    "start_time": "2024-06-10T17:28:17.210Z"
   },
   {
    "duration": 46,
    "start_time": "2024-06-10T17:28:17.537Z"
   },
   {
    "duration": 10,
    "start_time": "2024-06-10T17:28:17.585Z"
   },
   {
    "duration": 80,
    "start_time": "2024-06-10T17:28:17.599Z"
   },
   {
    "duration": 1128,
    "start_time": "2024-06-10T17:28:17.682Z"
   },
   {
    "duration": 83,
    "start_time": "2024-06-10T17:28:18.812Z"
   },
   {
    "duration": 3796,
    "start_time": "2024-06-10T17:28:18.896Z"
   },
   {
    "duration": 159,
    "start_time": "2024-06-10T17:28:22.693Z"
   },
   {
    "duration": 0,
    "start_time": "2024-06-10T17:28:22.854Z"
   },
   {
    "duration": 0,
    "start_time": "2024-06-10T17:28:22.855Z"
   },
   {
    "duration": 0,
    "start_time": "2024-06-10T17:28:22.856Z"
   },
   {
    "duration": 4,
    "start_time": "2024-06-10T22:08:27.693Z"
   },
   {
    "duration": 1385,
    "start_time": "2024-06-10T22:08:38.942Z"
   },
   {
    "duration": 17,
    "start_time": "2024-06-10T22:08:46.701Z"
   },
   {
    "duration": 3536,
    "start_time": "2024-06-10T22:08:59.718Z"
   },
   {
    "duration": 3562,
    "start_time": "2024-06-10T22:10:01.871Z"
   },
   {
    "duration": 3454,
    "start_time": "2024-06-10T22:10:45.071Z"
   },
   {
    "duration": 3998,
    "start_time": "2024-06-10T22:14:15.875Z"
   },
   {
    "duration": 3560,
    "start_time": "2024-06-10T22:14:32.355Z"
   },
   {
    "duration": 3518,
    "start_time": "2024-06-10T22:15:53.412Z"
   },
   {
    "duration": 3599,
    "start_time": "2024-06-10T22:16:45.652Z"
   },
   {
    "duration": 3418,
    "start_time": "2024-06-10T22:17:15.309Z"
   },
   {
    "duration": 3659,
    "start_time": "2024-06-10T22:17:52.253Z"
   },
   {
    "duration": 3447,
    "start_time": "2024-06-10T22:18:31.822Z"
   },
   {
    "duration": 3517,
    "start_time": "2024-06-10T22:18:42.038Z"
   },
   {
    "duration": 3668,
    "start_time": "2024-06-10T22:19:47.527Z"
   },
   {
    "duration": 3628,
    "start_time": "2024-06-10T22:20:14.592Z"
   },
   {
    "duration": 3640,
    "start_time": "2024-06-10T22:20:45.849Z"
   },
   {
    "duration": 3631,
    "start_time": "2024-06-10T22:21:11.642Z"
   },
   {
    "duration": 65,
    "start_time": "2024-06-10T22:21:55.908Z"
   },
   {
    "duration": 3406,
    "start_time": "2024-06-10T22:22:03.498Z"
   },
   {
    "duration": 3594,
    "start_time": "2024-06-10T22:22:24.705Z"
   },
   {
    "duration": 3669,
    "start_time": "2024-06-10T22:22:54.698Z"
   },
   {
    "duration": 3583,
    "start_time": "2024-06-10T22:29:24.688Z"
   },
   {
    "duration": 1779,
    "start_time": "2024-06-10T22:31:05.961Z"
   },
   {
    "duration": 1574,
    "start_time": "2024-06-10T22:31:58.393Z"
   },
   {
    "duration": 1718,
    "start_time": "2024-06-10T22:32:33.979Z"
   },
   {
    "duration": 1749,
    "start_time": "2024-06-10T22:33:53.788Z"
   },
   {
    "duration": 1915,
    "start_time": "2024-06-10T22:37:25.839Z"
   },
   {
    "duration": 1588,
    "start_time": "2024-06-10T22:40:09.457Z"
   },
   {
    "duration": 1547,
    "start_time": "2024-06-10T22:41:24.587Z"
   },
   {
    "duration": 60893,
    "start_time": "2024-06-11T06:36:44.992Z"
   },
   {
    "duration": 1978,
    "start_time": "2024-06-11T06:37:45.887Z"
   },
   {
    "duration": 3,
    "start_time": "2024-06-11T06:37:47.867Z"
   },
   {
    "duration": 33,
    "start_time": "2024-06-11T06:37:47.871Z"
   },
   {
    "duration": 4,
    "start_time": "2024-06-11T06:37:47.905Z"
   },
   {
    "duration": 379,
    "start_time": "2024-06-11T06:37:47.911Z"
   },
   {
    "duration": 25,
    "start_time": "2024-06-11T06:37:48.291Z"
   },
   {
    "duration": 9,
    "start_time": "2024-06-11T06:37:48.318Z"
   },
   {
    "duration": 62,
    "start_time": "2024-06-11T06:37:48.329Z"
   },
   {
    "duration": 940,
    "start_time": "2024-06-11T06:37:48.394Z"
   },
   {
    "duration": 75,
    "start_time": "2024-06-11T06:37:49.336Z"
   },
   {
    "duration": 3277,
    "start_time": "2024-06-11T06:37:49.413Z"
   },
   {
    "duration": 1311,
    "start_time": "2024-06-11T06:37:52.692Z"
   },
   {
    "duration": 14,
    "start_time": "2024-06-11T06:37:54.005Z"
   },
   {
    "duration": 3306,
    "start_time": "2024-06-11T06:37:54.020Z"
   },
   {
    "duration": 1625,
    "start_time": "2024-06-11T06:37:57.327Z"
   },
   {
    "duration": 22557,
    "start_time": "2024-06-12T12:07:51.103Z"
   },
   {
    "duration": 1687,
    "start_time": "2024-06-12T12:08:13.661Z"
   },
   {
    "duration": 3,
    "start_time": "2024-06-12T12:08:15.350Z"
   },
   {
    "duration": 36,
    "start_time": "2024-06-12T12:08:15.355Z"
   },
   {
    "duration": 26,
    "start_time": "2024-06-12T12:08:15.392Z"
   },
   {
    "duration": 130,
    "start_time": "2024-06-12T12:08:15.419Z"
   },
   {
    "duration": 23,
    "start_time": "2024-06-12T12:08:15.550Z"
   },
   {
    "duration": 5,
    "start_time": "2024-06-12T12:08:15.589Z"
   },
   {
    "duration": 27,
    "start_time": "2024-06-12T12:08:15.595Z"
   },
   {
    "duration": 835,
    "start_time": "2024-06-12T12:08:15.623Z"
   },
   {
    "duration": 60,
    "start_time": "2024-06-12T12:08:16.460Z"
   },
   {
    "duration": 3025,
    "start_time": "2024-06-12T12:08:16.521Z"
   },
   {
    "duration": 1144,
    "start_time": "2024-06-12T12:08:19.547Z"
   },
   {
    "duration": 13,
    "start_time": "2024-06-12T12:08:20.692Z"
   },
   {
    "duration": 3052,
    "start_time": "2024-06-12T12:08:20.706Z"
   },
   {
    "duration": 1506,
    "start_time": "2024-06-12T12:08:23.760Z"
   },
   {
    "duration": 1259,
    "start_time": "2024-06-12T12:13:06.997Z"
   },
   {
    "duration": 1437,
    "start_time": "2024-06-12T12:20:27.972Z"
   },
   {
    "duration": 2463,
    "start_time": "2024-06-12T12:29:58.803Z"
   },
   {
    "duration": 1485,
    "start_time": "2024-06-12T12:36:40.048Z"
   },
   {
    "duration": 1887,
    "start_time": "2024-06-12T12:36:56.128Z"
   },
   {
    "duration": 1858,
    "start_time": "2024-06-12T12:39:35.835Z"
   },
   {
    "duration": 1357,
    "start_time": "2024-06-12T12:42:33.102Z"
   },
   {
    "duration": 1824,
    "start_time": "2024-06-12T12:42:58.007Z"
   },
   {
    "duration": 1477,
    "start_time": "2024-06-12T12:46:28.362Z"
   },
   {
    "duration": 1422,
    "start_time": "2024-06-12T12:46:46.825Z"
   },
   {
    "duration": 2109,
    "start_time": "2024-06-12T12:53:32.808Z"
   },
   {
    "duration": 2592,
    "start_time": "2024-06-12T12:54:19.240Z"
   },
   {
    "duration": 72833,
    "start_time": "2024-06-13T10:00:14.229Z"
   },
   {
    "duration": 2368,
    "start_time": "2024-06-13T10:01:27.066Z"
   },
   {
    "duration": 4,
    "start_time": "2024-06-13T10:01:29.436Z"
   },
   {
    "duration": 82,
    "start_time": "2024-06-13T10:01:29.441Z"
   },
   {
    "duration": 17,
    "start_time": "2024-06-13T10:01:29.525Z"
   },
   {
    "duration": 346,
    "start_time": "2024-06-13T10:01:29.544Z"
   },
   {
    "duration": 86,
    "start_time": "2024-06-13T10:01:29.891Z"
   },
   {
    "duration": 8,
    "start_time": "2024-06-13T10:01:29.980Z"
   },
   {
    "duration": 91,
    "start_time": "2024-06-13T10:01:29.991Z"
   },
   {
    "duration": 1271,
    "start_time": "2024-06-13T10:01:30.084Z"
   },
   {
    "duration": 79,
    "start_time": "2024-06-13T10:01:31.356Z"
   },
   {
    "duration": 4614,
    "start_time": "2024-06-13T10:01:31.460Z"
   },
   {
    "duration": 2257,
    "start_time": "2024-06-13T10:01:36.076Z"
   },
   {
    "duration": 29,
    "start_time": "2024-06-13T10:01:38.336Z"
   },
   {
    "duration": 4159,
    "start_time": "2024-06-13T10:01:38.367Z"
   },
   {
    "duration": 3601,
    "start_time": "2024-06-13T10:01:42.528Z"
   },
   {
    "duration": 2537,
    "start_time": "2024-06-13T10:01:46.131Z"
   },
   {
    "duration": 2304,
    "start_time": "2024-06-13T10:03:30.309Z"
   },
   {
    "duration": 184,
    "start_time": "2024-06-13T10:08:54.346Z"
   },
   {
    "duration": 37,
    "start_time": "2024-06-13T10:25:03.530Z"
   },
   {
    "duration": 99,
    "start_time": "2024-06-13T10:31:27.342Z"
   },
   {
    "duration": 1774,
    "start_time": "2024-06-13T10:34:29.602Z"
   },
   {
    "duration": 24,
    "start_time": "2024-06-13T12:42:05.863Z"
   },
   {
    "duration": 84,
    "start_time": "2024-06-13T12:42:12.415Z"
   },
   {
    "duration": 1881,
    "start_time": "2024-06-13T12:47:33.460Z"
   },
   {
    "duration": 31,
    "start_time": "2024-06-13T12:48:54.405Z"
   },
   {
    "duration": 1691,
    "start_time": "2024-06-13T12:49:37.806Z"
   },
   {
    "duration": 1921,
    "start_time": "2024-06-13T12:50:43.343Z"
   },
   {
    "duration": 1703,
    "start_time": "2024-06-13T12:51:07.088Z"
   },
   {
    "duration": 2171,
    "start_time": "2024-06-13T13:02:51.002Z"
   },
   {
    "duration": 1746,
    "start_time": "2024-06-13T13:04:06.179Z"
   },
   {
    "duration": 2248,
    "start_time": "2024-06-13T13:05:18.523Z"
   },
   {
    "duration": 4,
    "start_time": "2024-06-13T13:05:20.773Z"
   },
   {
    "duration": 22,
    "start_time": "2024-06-13T13:05:20.779Z"
   },
   {
    "duration": 17,
    "start_time": "2024-06-13T13:05:20.803Z"
   },
   {
    "duration": 170,
    "start_time": "2024-06-13T13:05:20.822Z"
   },
   {
    "duration": 78,
    "start_time": "2024-06-13T13:05:20.993Z"
   },
   {
    "duration": 7,
    "start_time": "2024-06-13T13:05:21.073Z"
   },
   {
    "duration": 55,
    "start_time": "2024-06-13T13:05:21.082Z"
   },
   {
    "duration": 1265,
    "start_time": "2024-06-13T13:05:21.138Z"
   },
   {
    "duration": 103,
    "start_time": "2024-06-13T13:05:22.404Z"
   },
   {
    "duration": 4289,
    "start_time": "2024-06-13T13:05:22.509Z"
   },
   {
    "duration": 1605,
    "start_time": "2024-06-13T13:05:26.800Z"
   },
   {
    "duration": 13,
    "start_time": "2024-06-13T13:05:28.406Z"
   },
   {
    "duration": 18,
    "start_time": "2024-06-13T13:05:28.422Z"
   },
   {
    "duration": 4301,
    "start_time": "2024-06-13T13:05:28.441Z"
   },
   {
    "duration": 348,
    "start_time": "2024-06-13T13:05:32.744Z"
   },
   {
    "duration": 0,
    "start_time": "2024-06-13T13:05:33.095Z"
   },
   {
    "duration": 2237,
    "start_time": "2024-06-13T13:05:49.412Z"
   },
   {
    "duration": 12,
    "start_time": "2024-06-13T13:16:26.765Z"
   },
   {
    "duration": 73,
    "start_time": "2024-06-13T13:16:44.949Z"
   },
   {
    "duration": 73,
    "start_time": "2024-06-13T13:17:26.446Z"
   },
   {
    "duration": 95,
    "start_time": "2024-06-13T13:18:56.463Z"
   },
   {
    "duration": 260,
    "start_time": "2024-06-13T13:20:33.377Z"
   },
   {
    "duration": 5299,
    "start_time": "2024-06-13T13:20:51.337Z"
   },
   {
    "duration": 38,
    "start_time": "2024-06-13T13:39:46.753Z"
   },
   {
    "duration": 29,
    "start_time": "2024-06-13T13:41:18.546Z"
   },
   {
    "duration": 1628663,
    "start_time": "2024-06-13T13:42:10.059Z"
   },
   {
    "duration": 82,
    "start_time": "2024-06-13T14:30:07.270Z"
   },
   {
    "duration": 37,
    "start_time": "2024-06-13T14:31:26.935Z"
   },
   {
    "duration": 62114,
    "start_time": "2024-06-13T14:33:12.920Z"
   },
   {
    "duration": 6043543,
    "start_time": "2024-06-13T15:16:14.415Z"
   },
   {
    "duration": 81,
    "start_time": "2024-06-13T17:41:01.673Z"
   },
   {
    "duration": 51,
    "start_time": "2024-06-13T17:41:08.625Z"
   },
   {
    "duration": 67,
    "start_time": "2024-06-13T17:42:28.586Z"
   },
   {
    "duration": 24,
    "start_time": "2024-06-13T17:42:30.362Z"
   },
   {
    "duration": 34,
    "start_time": "2024-06-13T17:42:31.787Z"
   },
   {
    "duration": 35,
    "start_time": "2024-06-13T18:55:03.582Z"
   },
   {
    "duration": 4601,
    "start_time": "2024-06-13T18:55:11.971Z"
   },
   {
    "duration": 114,
    "start_time": "2024-06-13T18:55:28.484Z"
   },
   {
    "duration": 77,
    "start_time": "2024-06-13T19:01:26.537Z"
   },
   {
    "duration": 19,
    "start_time": "2024-06-13T19:01:44.863Z"
   },
   {
    "duration": 150,
    "start_time": "2024-06-13T19:02:04.666Z"
   },
   {
    "duration": 170,
    "start_time": "2024-06-13T19:04:48.436Z"
   },
   {
    "duration": 65,
    "start_time": "2024-06-14T08:48:49.984Z"
   },
   {
    "duration": 64603,
    "start_time": "2024-06-14T08:49:15.510Z"
   },
   {
    "duration": 2290,
    "start_time": "2024-06-14T08:50:20.115Z"
   },
   {
    "duration": 4,
    "start_time": "2024-06-14T08:50:22.406Z"
   },
   {
    "duration": 31,
    "start_time": "2024-06-14T08:50:22.412Z"
   },
   {
    "duration": 4,
    "start_time": "2024-06-14T08:50:22.445Z"
   },
   {
    "duration": 404,
    "start_time": "2024-06-14T08:50:22.451Z"
   },
   {
    "duration": 57,
    "start_time": "2024-06-14T08:50:22.856Z"
   },
   {
    "duration": 7,
    "start_time": "2024-06-14T08:50:22.914Z"
   },
   {
    "duration": 85,
    "start_time": "2024-06-14T08:50:22.922Z"
   },
   {
    "duration": 1186,
    "start_time": "2024-06-14T08:50:23.011Z"
   },
   {
    "duration": 77,
    "start_time": "2024-06-14T08:50:24.199Z"
   },
   {
    "duration": 4078,
    "start_time": "2024-06-14T08:50:24.277Z"
   },
   {
    "duration": 4966871,
    "start_time": "2024-06-14T08:50:28.357Z"
   },
   {
    "duration": 21,
    "start_time": "2024-06-14T10:13:15.230Z"
   },
   {
    "duration": 18,
    "start_time": "2024-06-14T10:13:15.253Z"
   },
   {
    "duration": 4322,
    "start_time": "2024-06-14T10:13:15.273Z"
   },
   {
    "duration": 327,
    "start_time": "2024-06-14T10:13:19.599Z"
   },
   {
    "duration": 0,
    "start_time": "2024-06-14T10:13:19.928Z"
   },
   {
    "duration": 49,
    "start_time": "2024-06-14T10:47:49.701Z"
   },
   {
    "duration": 43,
    "start_time": "2024-06-14T11:01:03.917Z"
   },
   {
    "duration": 150,
    "start_time": "2024-06-14T11:01:36.088Z"
   },
   {
    "duration": 41,
    "start_time": "2024-06-14T11:01:41.605Z"
   },
   {
    "duration": 32,
    "start_time": "2024-06-14T11:01:50.857Z"
   },
   {
    "duration": 42,
    "start_time": "2024-06-14T11:02:18.709Z"
   },
   {
    "duration": 42,
    "start_time": "2024-06-14T11:04:25.636Z"
   },
   {
    "duration": 48,
    "start_time": "2024-06-14T11:07:34.589Z"
   },
   {
    "duration": 1082,
    "start_time": "2024-06-14T11:08:03.950Z"
   },
   {
    "duration": 1140,
    "start_time": "2024-06-14T11:09:03.190Z"
   },
   {
    "duration": 51,
    "start_time": "2024-06-14T11:15:53.357Z"
   },
   {
    "duration": 92,
    "start_time": "2024-06-14T11:17:04.966Z"
   },
   {
    "duration": 92,
    "start_time": "2024-06-14T11:18:35.529Z"
   },
   {
    "duration": 38,
    "start_time": "2024-06-14T11:25:55.303Z"
   },
   {
    "duration": 1229,
    "start_time": "2024-06-14T11:26:30.877Z"
   },
   {
    "duration": 98,
    "start_time": "2024-06-14T11:45:18.342Z"
   },
   {
    "duration": 1376,
    "start_time": "2024-06-14T11:46:27.656Z"
   },
   {
    "duration": 104,
    "start_time": "2024-06-14T11:48:54.363Z"
   },
   {
    "duration": 108,
    "start_time": "2024-06-14T11:49:17.322Z"
   },
   {
    "duration": 1219,
    "start_time": "2024-06-14T12:23:29.669Z"
   },
   {
    "duration": 1169,
    "start_time": "2024-06-14T12:23:52.123Z"
   },
   {
    "duration": 62,
    "start_time": "2024-06-14T12:24:21.554Z"
   },
   {
    "duration": 1425,
    "start_time": "2024-06-14T12:24:46.612Z"
   },
   {
    "duration": 2484,
    "start_time": "2024-06-14T12:35:03.217Z"
   },
   {
    "duration": 209568,
    "start_time": "2024-06-14T17:26:20.024Z"
   },
   {
    "duration": 46,
    "start_time": "2024-06-15T06:30:08.135Z"
   },
   {
    "duration": 9,
    "start_time": "2024-06-15T06:30:16.205Z"
   },
   {
    "duration": 63228,
    "start_time": "2024-06-15T06:32:46.663Z"
   },
   {
    "duration": 2011,
    "start_time": "2024-06-15T06:33:49.894Z"
   },
   {
    "duration": 3,
    "start_time": "2024-06-15T06:33:51.907Z"
   },
   {
    "duration": 36,
    "start_time": "2024-06-15T06:33:51.911Z"
   },
   {
    "duration": 4,
    "start_time": "2024-06-15T06:33:51.948Z"
   },
   {
    "duration": 416,
    "start_time": "2024-06-15T06:33:51.954Z"
   },
   {
    "duration": 56,
    "start_time": "2024-06-15T06:33:52.371Z"
   },
   {
    "duration": 62,
    "start_time": "2024-06-15T06:33:52.429Z"
   },
   {
    "duration": 618,
    "start_time": "2024-06-15T06:33:52.493Z"
   },
   {
    "duration": 0,
    "start_time": "2024-06-15T06:33:53.112Z"
   },
   {
    "duration": 0,
    "start_time": "2024-06-15T06:33:53.114Z"
   },
   {
    "duration": 0,
    "start_time": "2024-06-15T06:33:53.120Z"
   },
   {
    "duration": 0,
    "start_time": "2024-06-15T06:33:53.121Z"
   },
   {
    "duration": 0,
    "start_time": "2024-06-15T06:33:53.122Z"
   },
   {
    "duration": 0,
    "start_time": "2024-06-15T06:33:53.123Z"
   },
   {
    "duration": 0,
    "start_time": "2024-06-15T06:33:53.124Z"
   },
   {
    "duration": 0,
    "start_time": "2024-06-15T06:33:53.125Z"
   },
   {
    "duration": 7,
    "start_time": "2024-06-15T06:34:38.089Z"
   },
   {
    "duration": 4,
    "start_time": "2024-06-15T06:34:48.424Z"
   },
   {
    "duration": 3,
    "start_time": "2024-06-15T06:34:49.312Z"
   },
   {
    "duration": 4,
    "start_time": "2024-06-15T06:34:51.001Z"
   },
   {
    "duration": 121,
    "start_time": "2024-06-15T06:34:54.377Z"
   },
   {
    "duration": 26,
    "start_time": "2024-06-15T06:36:01.186Z"
   },
   {
    "duration": 61,
    "start_time": "2024-06-15T06:36:09.697Z"
   },
   {
    "duration": 60,
    "start_time": "2024-06-15T07:08:39.440Z"
   },
   {
    "duration": 10,
    "start_time": "2024-06-15T07:08:57.879Z"
   },
   {
    "duration": 10,
    "start_time": "2024-06-15T07:22:06.756Z"
   },
   {
    "duration": 17,
    "start_time": "2024-06-15T07:23:07.869Z"
   },
   {
    "duration": 11,
    "start_time": "2024-06-15T07:23:22.774Z"
   },
   {
    "duration": 13,
    "start_time": "2024-06-15T07:24:13.198Z"
   },
   {
    "duration": 14,
    "start_time": "2024-06-15T07:24:32.110Z"
   },
   {
    "duration": 40,
    "start_time": "2024-06-15T07:27:50.530Z"
   },
   {
    "duration": 15,
    "start_time": "2024-06-15T07:30:19.244Z"
   },
   {
    "duration": 13,
    "start_time": "2024-06-15T07:31:21.685Z"
   },
   {
    "duration": 43,
    "start_time": "2024-06-15T07:32:23.606Z"
   },
   {
    "duration": 10,
    "start_time": "2024-06-15T07:32:30.261Z"
   },
   {
    "duration": 12,
    "start_time": "2024-06-15T07:33:07.670Z"
   },
   {
    "duration": 12,
    "start_time": "2024-06-15T07:35:27.161Z"
   },
   {
    "duration": 68,
    "start_time": "2024-06-15T07:36:15.338Z"
   },
   {
    "duration": 12,
    "start_time": "2024-06-15T07:36:18.401Z"
   },
   {
    "duration": 116,
    "start_time": "2024-06-15T07:36:44.570Z"
   },
   {
    "duration": 25,
    "start_time": "2024-06-15T07:36:46.137Z"
   },
   {
    "duration": 63,
    "start_time": "2024-06-15T07:36:46.722Z"
   },
   {
    "duration": 7,
    "start_time": "2024-06-15T07:36:47.497Z"
   },
   {
    "duration": 39,
    "start_time": "2024-06-15T07:36:49.377Z"
   },
   {
    "duration": 13,
    "start_time": "2024-06-15T07:39:55.996Z"
   },
   {
    "duration": 122,
    "start_time": "2024-06-15T07:40:25.773Z"
   },
   {
    "duration": 34,
    "start_time": "2024-06-15T07:40:29.069Z"
   },
   {
    "duration": 65,
    "start_time": "2024-06-15T07:40:30.005Z"
   },
   {
    "duration": 6,
    "start_time": "2024-06-15T07:40:32.381Z"
   },
   {
    "duration": 119,
    "start_time": "2024-06-15T07:42:46.944Z"
   },
   {
    "duration": 26,
    "start_time": "2024-06-15T07:42:48.351Z"
   },
   {
    "duration": 70,
    "start_time": "2024-06-15T07:42:49.008Z"
   },
   {
    "duration": 14,
    "start_time": "2024-06-15T07:42:50.623Z"
   },
   {
    "duration": 30,
    "start_time": "2024-06-15T07:42:52.016Z"
   },
   {
    "duration": 3,
    "start_time": "2024-06-15T13:02:29.502Z"
   },
   {
    "duration": 3,
    "start_time": "2024-06-15T13:02:31.839Z"
   },
   {
    "duration": 118,
    "start_time": "2024-06-15T13:02:37.295Z"
   },
   {
    "duration": 29,
    "start_time": "2024-06-15T13:02:43.094Z"
   },
   {
    "duration": 60,
    "start_time": "2024-06-15T13:02:53.247Z"
   },
   {
    "duration": 15,
    "start_time": "2024-06-15T13:03:01.631Z"
   },
   {
    "duration": 20,
    "start_time": "2024-06-15T13:04:12.734Z"
   },
   {
    "duration": 22,
    "start_time": "2024-06-15T13:04:27.505Z"
   },
   {
    "duration": 15,
    "start_time": "2024-06-15T13:05:17.986Z"
   },
   {
    "duration": 25,
    "start_time": "2024-06-15T13:06:42.147Z"
   },
   {
    "duration": 38,
    "start_time": "2024-06-15T13:07:37.804Z"
   },
   {
    "duration": 62,
    "start_time": "2024-06-15T13:08:00.286Z"
   },
   {
    "duration": 126,
    "start_time": "2024-06-15T13:08:26.830Z"
   },
   {
    "duration": 27,
    "start_time": "2024-06-15T13:08:29.052Z"
   },
   {
    "duration": 65,
    "start_time": "2024-06-15T13:08:32.437Z"
   },
   {
    "duration": 35,
    "start_time": "2024-06-15T13:08:34.654Z"
   },
   {
    "duration": 38,
    "start_time": "2024-06-15T13:10:08.167Z"
   },
   {
    "duration": 66,
    "start_time": "2024-06-15T13:14:02.563Z"
   },
   {
    "duration": 338,
    "start_time": "2024-06-15T13:15:39.567Z"
   },
   {
    "duration": 321,
    "start_time": "2024-06-15T13:20:39.515Z"
   },
   {
    "duration": 361,
    "start_time": "2024-06-15T13:21:41.379Z"
   },
   {
    "duration": 327,
    "start_time": "2024-06-15T13:22:09.972Z"
   },
   {
    "duration": 13,
    "start_time": "2024-06-15T13:25:23.536Z"
   },
   {
    "duration": 120,
    "start_time": "2024-06-15T13:25:39.576Z"
   },
   {
    "duration": 29,
    "start_time": "2024-06-15T13:25:42.119Z"
   },
   {
    "duration": 66,
    "start_time": "2024-06-15T13:25:54.648Z"
   },
   {
    "duration": 38,
    "start_time": "2024-06-15T13:26:17.184Z"
   },
   {
    "duration": 121,
    "start_time": "2024-06-15T13:27:11.443Z"
   },
   {
    "duration": 33,
    "start_time": "2024-06-15T13:27:20.754Z"
   },
   {
    "duration": 62,
    "start_time": "2024-06-15T13:27:24.435Z"
   },
   {
    "duration": 32,
    "start_time": "2024-06-15T13:27:27.186Z"
   },
   {
    "duration": 31,
    "start_time": "2024-06-15T13:29:03.646Z"
   },
   {
    "duration": 330,
    "start_time": "2024-06-15T13:30:04.792Z"
   },
   {
    "duration": 339,
    "start_time": "2024-06-15T13:30:57.081Z"
   },
   {
    "duration": 334,
    "start_time": "2024-06-15T13:31:27.170Z"
   },
   {
    "duration": 412,
    "start_time": "2024-06-15T13:32:19.195Z"
   },
   {
    "duration": 45,
    "start_time": "2024-06-15T13:32:53.844Z"
   },
   {
    "duration": 326,
    "start_time": "2024-06-15T13:33:12.395Z"
   },
   {
    "duration": 360,
    "start_time": "2024-06-15T13:35:03.551Z"
   },
   {
    "duration": 315,
    "start_time": "2024-06-15T13:35:52.599Z"
   },
   {
    "duration": 46,
    "start_time": "2024-06-15T13:36:21.232Z"
   },
   {
    "duration": 364,
    "start_time": "2024-06-15T13:37:23.745Z"
   },
   {
    "duration": 45,
    "start_time": "2024-06-15T13:38:03.650Z"
   },
   {
    "duration": 49,
    "start_time": "2024-06-15T13:38:31.251Z"
   },
   {
    "duration": 344,
    "start_time": "2024-06-15T13:38:58.955Z"
   },
   {
    "duration": 1543,
    "start_time": "2024-06-15T13:40:17.030Z"
   },
   {
    "duration": 47,
    "start_time": "2024-06-15T13:42:12.935Z"
   },
   {
    "duration": 335,
    "start_time": "2024-06-15T13:42:41.072Z"
   },
   {
    "duration": 310,
    "start_time": "2024-06-15T13:43:25.706Z"
   },
   {
    "duration": 160,
    "start_time": "2024-06-15T13:45:42.326Z"
   },
   {
    "duration": 65849,
    "start_time": "2024-06-16T09:45:11.408Z"
   },
   {
    "duration": 2047,
    "start_time": "2024-06-16T09:46:17.259Z"
   },
   {
    "duration": 0,
    "start_time": "2024-06-16T09:46:19.308Z"
   },
   {
    "duration": 0,
    "start_time": "2024-06-16T09:46:19.321Z"
   },
   {
    "duration": 0,
    "start_time": "2024-06-16T09:46:19.322Z"
   },
   {
    "duration": 0,
    "start_time": "2024-06-16T09:46:19.322Z"
   },
   {
    "duration": 0,
    "start_time": "2024-06-16T09:46:19.324Z"
   },
   {
    "duration": 0,
    "start_time": "2024-06-16T09:46:19.325Z"
   },
   {
    "duration": 0,
    "start_time": "2024-06-16T09:46:19.326Z"
   },
   {
    "duration": 0,
    "start_time": "2024-06-16T09:46:19.333Z"
   },
   {
    "duration": 0,
    "start_time": "2024-06-16T09:46:19.334Z"
   },
   {
    "duration": 0,
    "start_time": "2024-06-16T09:46:19.334Z"
   },
   {
    "duration": 0,
    "start_time": "2024-06-16T09:46:19.335Z"
   },
   {
    "duration": 0,
    "start_time": "2024-06-16T09:46:19.335Z"
   },
   {
    "duration": 0,
    "start_time": "2024-06-16T09:46:19.336Z"
   },
   {
    "duration": 0,
    "start_time": "2024-06-16T09:46:19.336Z"
   },
   {
    "duration": 0,
    "start_time": "2024-06-16T09:46:19.344Z"
   },
   {
    "duration": 0,
    "start_time": "2024-06-16T09:46:19.345Z"
   },
   {
    "duration": 0,
    "start_time": "2024-06-16T09:46:19.346Z"
   },
   {
    "duration": 4,
    "start_time": "2024-06-16T10:43:54.250Z"
   },
   {
    "duration": 3,
    "start_time": "2024-06-16T10:43:55.938Z"
   },
   {
    "duration": 4,
    "start_time": "2024-06-16T10:43:57.202Z"
   },
   {
    "duration": 300,
    "start_time": "2024-06-16T10:43:59.234Z"
   },
   {
    "duration": 33,
    "start_time": "2024-06-16T10:44:19.610Z"
   },
   {
    "duration": 76,
    "start_time": "2024-06-16T10:44:35.435Z"
   },
   {
    "duration": 11,
    "start_time": "2024-06-16T10:44:39.386Z"
   },
   {
    "duration": 19,
    "start_time": "2024-06-16T10:45:01.723Z"
   },
   {
    "duration": 31401,
    "start_time": "2024-06-16T10:45:18.403Z"
   },
   {
    "duration": 29,
    "start_time": "2024-06-16T10:45:49.806Z"
   },
   {
    "duration": 38016,
    "start_time": "2024-06-16T10:54:00.970Z"
   },
   {
    "duration": 6483,
    "start_time": "2024-06-16T10:55:12.981Z"
   },
   {
    "duration": 40455,
    "start_time": "2024-06-16T11:01:12.586Z"
   },
   {
    "duration": 4874,
    "start_time": "2024-06-16T11:01:59.106Z"
   },
   {
    "duration": 7123,
    "start_time": "2024-06-16T11:02:16.507Z"
   },
   {
    "duration": 3057,
    "start_time": "2024-06-16T11:04:13.236Z"
   },
   {
    "duration": 6548,
    "start_time": "2024-06-16T11:04:37.307Z"
   },
   {
    "duration": 6138,
    "start_time": "2024-06-16T11:42:55.117Z"
   },
   {
    "duration": 13433,
    "start_time": "2024-06-16T11:43:21.042Z"
   },
   {
    "duration": 13721,
    "start_time": "2024-06-16T11:44:13.939Z"
   },
   {
    "duration": 19296,
    "start_time": "2024-06-16T11:44:51.108Z"
   },
   {
    "duration": 19083,
    "start_time": "2024-06-16T11:46:04.989Z"
   },
   {
    "duration": 20134,
    "start_time": "2024-06-16T11:47:11.294Z"
   },
   {
    "duration": 20879,
    "start_time": "2024-06-16T11:48:11.127Z"
   },
   {
    "duration": 4,
    "start_time": "2024-06-16T11:48:43.382Z"
   },
   {
    "duration": 3,
    "start_time": "2024-06-16T11:48:43.846Z"
   },
   {
    "duration": 5,
    "start_time": "2024-06-16T11:48:46.814Z"
   },
   {
    "duration": 144,
    "start_time": "2024-06-16T11:48:47.973Z"
   },
   {
    "duration": 40,
    "start_time": "2024-06-16T11:48:50.101Z"
   },
   {
    "duration": 76,
    "start_time": "2024-06-16T11:48:50.974Z"
   },
   {
    "duration": 10,
    "start_time": "2024-06-16T11:48:52.374Z"
   },
   {
    "duration": 27353,
    "start_time": "2024-06-16T11:49:49.832Z"
   },
   {
    "duration": 3111,
    "start_time": "2024-06-16T11:51:14.681Z"
   },
   {
    "duration": 4,
    "start_time": "2024-06-16T11:51:38.864Z"
   },
   {
    "duration": 3,
    "start_time": "2024-06-16T11:51:46.392Z"
   },
   {
    "duration": 4,
    "start_time": "2024-06-16T11:51:47.104Z"
   },
   {
    "duration": 133,
    "start_time": "2024-06-16T11:51:48.177Z"
   },
   {
    "duration": 40536,
    "start_time": "2024-06-16T11:52:29.008Z"
   },
   {
    "duration": 5106,
    "start_time": "2024-06-16T11:53:09.547Z"
   },
   {
    "duration": 3,
    "start_time": "2024-06-16T11:53:14.658Z"
   },
   {
    "duration": 9,
    "start_time": "2024-06-16T11:53:14.663Z"
   },
   {
    "duration": 7,
    "start_time": "2024-06-16T11:53:14.674Z"
   },
   {
    "duration": 167,
    "start_time": "2024-06-16T11:53:14.683Z"
   },
   {
    "duration": 84,
    "start_time": "2024-06-16T11:53:14.852Z"
   },
   {
    "duration": 118,
    "start_time": "2024-06-16T11:53:14.938Z"
   },
   {
    "duration": 12,
    "start_time": "2024-06-16T11:53:15.059Z"
   },
   {
    "duration": 71,
    "start_time": "2024-06-16T11:53:15.073Z"
   },
   {
    "duration": 295,
    "start_time": "2024-06-16T11:53:15.145Z"
   },
   {
    "duration": 0,
    "start_time": "2024-06-16T11:53:15.442Z"
   },
   {
    "duration": 0,
    "start_time": "2024-06-16T11:53:15.443Z"
   },
   {
    "duration": 0,
    "start_time": "2024-06-16T11:53:15.444Z"
   },
   {
    "duration": 0,
    "start_time": "2024-06-16T11:53:15.446Z"
   },
   {
    "duration": 0,
    "start_time": "2024-06-16T11:53:15.447Z"
   },
   {
    "duration": 0,
    "start_time": "2024-06-16T11:53:15.449Z"
   },
   {
    "duration": 0,
    "start_time": "2024-06-16T11:53:15.450Z"
   },
   {
    "duration": 0,
    "start_time": "2024-06-16T11:53:15.452Z"
   },
   {
    "duration": 414,
    "start_time": "2024-06-16T11:59:23.855Z"
   },
   {
    "duration": 457,
    "start_time": "2024-06-16T12:07:51.150Z"
   },
   {
    "duration": 357,
    "start_time": "2024-06-16T12:10:12.289Z"
   },
   {
    "duration": 363,
    "start_time": "2024-06-16T12:10:32.065Z"
   },
   {
    "duration": 165,
    "start_time": "2024-06-16T12:12:03.971Z"
   },
   {
    "duration": 221,
    "start_time": "2024-06-16T12:20:00.659Z"
   },
   {
    "duration": 210,
    "start_time": "2024-06-16T12:22:17.404Z"
   },
   {
    "duration": 286,
    "start_time": "2024-06-16T12:22:33.676Z"
   },
   {
    "duration": 49,
    "start_time": "2024-06-16T12:23:17.230Z"
   },
   {
    "duration": 311,
    "start_time": "2024-06-16T12:25:04.327Z"
   },
   {
    "duration": 343,
    "start_time": "2024-06-16T12:25:21.207Z"
   },
   {
    "duration": 51,
    "start_time": "2024-06-16T12:27:13.233Z"
   },
   {
    "duration": 246,
    "start_time": "2024-06-16T12:27:49.322Z"
   },
   {
    "duration": 351,
    "start_time": "2024-06-16T12:28:31.403Z"
   },
   {
    "duration": 31768,
    "start_time": "2024-06-16T15:16:16.858Z"
   },
   {
    "duration": 2079,
    "start_time": "2024-06-16T15:16:48.629Z"
   },
   {
    "duration": 4,
    "start_time": "2024-06-16T15:16:56.427Z"
   },
   {
    "duration": 3,
    "start_time": "2024-06-16T15:16:58.170Z"
   },
   {
    "duration": 5,
    "start_time": "2024-06-16T15:16:59.731Z"
   },
   {
    "duration": 130,
    "start_time": "2024-06-16T15:17:04.074Z"
   },
   {
    "duration": 32,
    "start_time": "2024-06-16T15:21:32.576Z"
   },
   {
    "duration": 70,
    "start_time": "2024-06-16T15:22:41.835Z"
   },
   {
    "duration": 29,
    "start_time": "2024-06-16T15:23:03.210Z"
   },
   {
    "duration": 12,
    "start_time": "2024-06-16T15:24:37.765Z"
   },
   {
    "duration": 14,
    "start_time": "2024-06-16T15:28:29.047Z"
   },
   {
    "duration": 88,
    "start_time": "2024-06-16T15:44:30.685Z"
   },
   {
    "duration": 176,
    "start_time": "2024-06-16T15:46:42.624Z"
   },
   {
    "duration": 122,
    "start_time": "2024-06-16T15:46:58.585Z"
   },
   {
    "duration": 31,
    "start_time": "2024-06-16T15:47:01.368Z"
   },
   {
    "duration": 32,
    "start_time": "2024-06-16T15:47:02.584Z"
   },
   {
    "duration": 16,
    "start_time": "2024-06-16T15:47:10.279Z"
   },
   {
    "duration": 16,
    "start_time": "2024-06-16T15:47:11.377Z"
   },
   {
    "duration": 14,
    "start_time": "2024-06-16T15:47:29.410Z"
   },
   {
    "duration": 127,
    "start_time": "2024-06-16T15:47:41.760Z"
   },
   {
    "duration": 28,
    "start_time": "2024-06-16T15:47:43.160Z"
   },
   {
    "duration": 31,
    "start_time": "2024-06-16T15:47:43.760Z"
   },
   {
    "duration": 16,
    "start_time": "2024-06-16T15:47:44.888Z"
   },
   {
    "duration": 15,
    "start_time": "2024-06-16T15:47:46.088Z"
   },
   {
    "duration": 78,
    "start_time": "2024-06-16T15:49:35.259Z"
   },
   {
    "duration": 73,
    "start_time": "2024-06-16T15:51:00.205Z"
   },
   {
    "duration": 110,
    "start_time": "2024-06-16T15:52:50.606Z"
   },
   {
    "duration": 513,
    "start_time": "2024-06-16T15:52:58.077Z"
   },
   {
    "duration": 166,
    "start_time": "2024-06-16T15:55:37.231Z"
   },
   {
    "duration": 464,
    "start_time": "2024-06-16T15:55:54.199Z"
   },
   {
    "duration": 931,
    "start_time": "2024-06-16T16:02:05.813Z"
   },
   {
    "duration": 76,
    "start_time": "2024-06-16T16:13:00.710Z"
   },
   {
    "duration": 5017,
    "start_time": "2024-06-16T16:20:03.795Z"
   },
   {
    "duration": 8567,
    "start_time": "2024-06-16T16:21:32.563Z"
   },
   {
    "duration": 8480,
    "start_time": "2024-06-16T16:22:02.804Z"
   },
   {
    "duration": 8058,
    "start_time": "2024-06-16T16:28:37.729Z"
   },
   {
    "duration": 8468,
    "start_time": "2024-06-16T16:30:33.099Z"
   },
   {
    "duration": 174,
    "start_time": "2024-06-16T16:45:24.510Z"
   },
   {
    "duration": 8215,
    "start_time": "2024-06-16T16:45:54.743Z"
   },
   {
    "duration": 121670,
    "start_time": "2024-06-16T16:59:56.382Z"
   },
   {
    "duration": 20,
    "start_time": "2024-06-16T17:07:54.115Z"
   },
   {
    "duration": 3,
    "start_time": "2024-06-16T17:09:15.773Z"
   },
   {
    "duration": 3572,
    "start_time": "2024-06-16T17:11:03.237Z"
   },
   {
    "duration": 170,
    "start_time": "2024-06-16T17:12:03.038Z"
   },
   {
    "duration": 16,
    "start_time": "2024-06-16T17:14:27.881Z"
   },
   {
    "duration": 1706,
    "start_time": "2024-06-16T17:15:35.473Z"
   },
   {
    "duration": 5,
    "start_time": "2024-06-16T17:21:39.031Z"
   },
   {
    "duration": 156,
    "start_time": "2024-06-16T17:21:40.223Z"
   },
   {
    "duration": 5,
    "start_time": "2024-06-16T17:23:06.426Z"
   },
   {
    "duration": 153,
    "start_time": "2024-06-16T17:23:10.350Z"
   },
   {
    "duration": 1461,
    "start_time": "2024-06-16T17:25:18.263Z"
   },
   {
    "duration": 3384,
    "start_time": "2024-06-16T17:25:44.751Z"
   },
   {
    "duration": 2300,
    "start_time": "2024-06-16T17:26:46.872Z"
   },
   {
    "duration": 33,
    "start_time": "2024-06-16T17:40:51.354Z"
   },
   {
    "duration": 13392687,
    "start_time": "2024-06-16T17:41:18.546Z"
   },
   {
    "duration": 0,
    "start_time": "2024-06-16T21:24:31.238Z"
   },
   {
    "duration": 3,
    "start_time": "2024-06-16T21:24:52.636Z"
   },
   {
    "duration": 3843,
    "start_time": "2024-06-16T21:24:54.748Z"
   },
   {
    "duration": 3436,
    "start_time": "2024-06-16T21:35:36.144Z"
   },
   {
    "duration": 44809,
    "start_time": "2024-06-16T21:36:03.226Z"
   },
   {
    "duration": 21667930,
    "start_time": "2024-06-16T21:36:59.904Z"
   },
   {
    "duration": 238399,
    "start_time": "2024-06-17T03:38:07.836Z"
   },
   {
    "duration": 901,
    "start_time": "2024-06-17T03:42:06.237Z"
   },
   {
    "duration": 5697,
    "start_time": "2024-06-17T04:20:23.554Z"
   },
   {
    "duration": 9945,
    "start_time": "2024-06-17T04:21:25.819Z"
   },
   {
    "duration": 857,
    "start_time": "2024-06-17T04:24:21.408Z"
   },
   {
    "duration": 866,
    "start_time": "2024-06-17T04:24:39.816Z"
   },
   {
    "duration": 10,
    "start_time": "2024-06-17T04:26:52.721Z"
   },
   {
    "duration": 81,
    "start_time": "2024-06-17T04:27:35.762Z"
   },
   {
    "duration": 9,
    "start_time": "2024-06-17T04:27:47.832Z"
   },
   {
    "duration": 16,
    "start_time": "2024-06-17T04:29:53.139Z"
   },
   {
    "duration": 15,
    "start_time": "2024-06-17T04:30:19.738Z"
   },
   {
    "duration": 15,
    "start_time": "2024-06-17T04:30:22.244Z"
   },
   {
    "duration": 118,
    "start_time": "2024-06-17T04:30:53.948Z"
   },
   {
    "duration": 31,
    "start_time": "2024-06-17T04:30:59.180Z"
   },
   {
    "duration": 33,
    "start_time": "2024-06-17T04:31:00.179Z"
   },
   {
    "duration": 15,
    "start_time": "2024-06-17T04:31:01.844Z"
   },
   {
    "duration": 16,
    "start_time": "2024-06-17T04:31:03.140Z"
   },
   {
    "duration": 77,
    "start_time": "2024-06-17T04:31:11.349Z"
   },
   {
    "duration": 534,
    "start_time": "2024-06-17T04:31:15.092Z"
   },
   {
    "duration": 1026,
    "start_time": "2024-06-17T04:31:20.693Z"
   },
   {
    "duration": 78,
    "start_time": "2024-06-17T04:31:31.245Z"
   },
   {
    "duration": 4018,
    "start_time": "2024-06-17T04:34:07.815Z"
   },
   {
    "duration": 8,
    "start_time": "2024-06-17T04:34:21.863Z"
   },
   {
    "duration": 18,
    "start_time": "2024-06-17T04:41:38.927Z"
   },
   {
    "duration": 207,
    "start_time": "2024-06-17T04:42:21.151Z"
   },
   {
    "duration": 19,
    "start_time": "2024-06-17T04:42:52.416Z"
   },
   {
    "duration": 20,
    "start_time": "2024-06-17T04:43:41.288Z"
   },
   {
    "duration": 19,
    "start_time": "2024-06-17T04:44:30.799Z"
   },
   {
    "duration": 4178,
    "start_time": "2024-06-17T04:45:04.991Z"
   },
   {
    "duration": 204,
    "start_time": "2024-06-17T04:45:59.689Z"
   },
   {
    "duration": 315,
    "start_time": "2024-06-17T04:50:45.771Z"
   },
   {
    "duration": 35,
    "start_time": "2024-06-17T06:10:08.333Z"
   },
   {
    "duration": 4088,
    "start_time": "2024-06-17T06:13:00.321Z"
   },
   {
    "duration": 37150,
    "start_time": "2024-06-17T06:14:23.386Z"
   },
   {
    "duration": 5149832,
    "start_time": "2024-06-17T06:30:11.240Z"
   },
   {
    "duration": 0,
    "start_time": "2024-06-17T07:56:01.074Z"
   },
   {
    "duration": 4112800,
    "start_time": "2024-06-17T07:56:21.745Z"
   },
   {
    "duration": 92,
    "start_time": "2024-06-17T09:04:54.547Z"
   },
   {
    "duration": 33,
    "start_time": "2024-06-17T09:15:48.955Z"
   },
   {
    "duration": 133120,
    "start_time": "2024-06-17T09:16:37.949Z"
   },
   {
    "duration": 18961,
    "start_time": "2024-06-17T09:35:09.166Z"
   },
   {
    "duration": 228,
    "start_time": "2024-06-17T09:49:46.785Z"
   },
   {
    "duration": 412207,
    "start_time": "2024-06-17T10:53:56.379Z"
   },
   {
    "duration": 6,
    "start_time": "2024-06-17T12:43:09.087Z"
   },
   {
    "duration": 38,
    "start_time": "2024-06-17T12:43:21.840Z"
   },
   {
    "duration": 32,
    "start_time": "2024-06-17T12:44:20.455Z"
   },
   {
    "duration": 4113,
    "start_time": "2024-06-17T12:49:24.605Z"
   },
   {
    "duration": 18735,
    "start_time": "2024-06-17T12:53:49.088Z"
   },
   {
    "duration": 412459,
    "start_time": "2024-06-17T12:54:07.825Z"
   },
   {
    "duration": 44,
    "start_time": "2024-06-17T13:01:00.285Z"
   },
   {
    "duration": 34,
    "start_time": "2024-06-17T14:26:24.254Z"
   },
   {
    "duration": 36,
    "start_time": "2024-06-17T14:26:40.078Z"
   },
   {
    "duration": 4176,
    "start_time": "2024-06-17T14:27:01.086Z"
   },
   {
    "duration": 62875,
    "start_time": "2024-06-17T14:27:12.823Z"
   },
   {
    "duration": 1953728,
    "start_time": "2024-06-17T14:30:55.202Z"
   },
   {
    "duration": 298,
    "start_time": "2024-06-17T17:30:58.359Z"
   },
   {
    "duration": 4,
    "start_time": "2024-06-17T17:32:30.967Z"
   },
   {
    "duration": 150,
    "start_time": "2024-06-17T17:32:41.246Z"
   },
   {
    "duration": 3,
    "start_time": "2024-06-17T17:33:44.485Z"
   },
   {
    "duration": 58,
    "start_time": "2024-06-17T17:33:50.286Z"
   },
   {
    "duration": 4,
    "start_time": "2024-06-17T17:34:48.606Z"
   },
   {
    "duration": 59,
    "start_time": "2024-06-17T17:34:55.695Z"
   },
   {
    "duration": 60,
    "start_time": "2024-06-17T17:35:00.455Z"
   },
   {
    "duration": 4,
    "start_time": "2024-06-17T17:35:30.920Z"
   },
   {
    "duration": 3955,
    "start_time": "2024-06-17T17:35:32.128Z"
   },
   {
    "duration": 4161,
    "start_time": "2024-06-17T17:38:27.065Z"
   },
   {
    "duration": 1892,
    "start_time": "2024-06-17T17:39:10.994Z"
   },
   {
    "duration": 4,
    "start_time": "2024-06-17T19:49:38.735Z"
   },
   {
    "duration": 3435,
    "start_time": "2024-06-17T19:49:44.372Z"
   },
   {
    "duration": 3,
    "start_time": "2024-06-17T19:54:43.826Z"
   },
   {
    "duration": 1750,
    "start_time": "2024-06-17T19:54:45.554Z"
   },
   {
    "duration": 1790,
    "start_time": "2024-06-17T20:03:29.721Z"
   },
   {
    "duration": 3,
    "start_time": "2024-06-17T20:03:54.570Z"
   },
   {
    "duration": 1692,
    "start_time": "2024-06-17T20:03:55.594Z"
   },
   {
    "duration": 4,
    "start_time": "2024-06-17T21:18:26.435Z"
   },
   {
    "duration": 397,
    "start_time": "2024-06-17T21:18:40.731Z"
   },
   {
    "duration": 519,
    "start_time": "2024-06-17T21:20:51.997Z"
   },
   {
    "duration": 364,
    "start_time": "2024-06-17T21:21:54.566Z"
   },
   {
    "duration": 447,
    "start_time": "2024-06-17T21:22:10.279Z"
   },
   {
    "duration": 542,
    "start_time": "2024-06-17T21:51:50.583Z"
   },
   {
    "duration": 420,
    "start_time": "2024-06-17T21:55:00.307Z"
   },
   {
    "duration": 526,
    "start_time": "2024-06-17T21:58:24.887Z"
   },
   {
    "duration": 529,
    "start_time": "2024-06-17T21:59:41.791Z"
   },
   {
    "duration": 61846,
    "start_time": "2024-06-18T11:57:28.641Z"
   },
   {
    "duration": 2309,
    "start_time": "2024-06-18T11:58:30.491Z"
   },
   {
    "duration": 4,
    "start_time": "2024-06-18T11:58:32.802Z"
   },
   {
    "duration": 21,
    "start_time": "2024-06-18T11:58:32.809Z"
   },
   {
    "duration": 6,
    "start_time": "2024-06-18T11:58:32.832Z"
   },
   {
    "duration": 331,
    "start_time": "2024-06-18T11:58:32.840Z"
   },
   {
    "duration": 31,
    "start_time": "2024-06-18T11:58:33.172Z"
   },
   {
    "duration": 70,
    "start_time": "2024-06-18T11:58:33.204Z"
   },
   {
    "duration": 14,
    "start_time": "2024-06-18T11:58:33.276Z"
   },
   {
    "duration": 14,
    "start_time": "2024-06-18T11:58:33.292Z"
   },
   {
    "duration": 96,
    "start_time": "2024-06-18T11:58:33.307Z"
   },
   {
    "duration": 602,
    "start_time": "2024-06-18T11:58:33.405Z"
   },
   {
    "duration": 925,
    "start_time": "2024-06-18T11:58:34.008Z"
   },
   {
    "duration": 91,
    "start_time": "2024-06-18T11:58:34.935Z"
   },
   {
    "duration": 9233,
    "start_time": "2024-06-18T11:58:35.028Z"
   },
   {
    "duration": 166,
    "start_time": "2024-06-18T11:58:44.262Z"
   },
   {
    "duration": 0,
    "start_time": "2024-06-18T11:58:44.429Z"
   },
   {
    "duration": 0,
    "start_time": "2024-06-18T11:58:44.430Z"
   },
   {
    "duration": 1,
    "start_time": "2024-06-18T11:58:44.431Z"
   },
   {
    "duration": 0,
    "start_time": "2024-06-18T11:58:44.433Z"
   },
   {
    "duration": 0,
    "start_time": "2024-06-18T11:58:44.434Z"
   },
   {
    "duration": 0,
    "start_time": "2024-06-18T11:58:44.435Z"
   },
   {
    "duration": 0,
    "start_time": "2024-06-18T11:58:44.436Z"
   },
   {
    "duration": 401101,
    "start_time": "2024-06-18T12:05:48.883Z"
   },
   {
    "duration": 4366,
    "start_time": "2024-06-18T12:12:29.986Z"
   },
   {
    "duration": 18052,
    "start_time": "2024-06-18T12:36:09.271Z"
   },
   {
    "duration": 6,
    "start_time": "2024-06-18T12:40:54.539Z"
   },
   {
    "duration": 67,
    "start_time": "2024-06-18T12:42:47.388Z"
   },
   {
    "duration": 108,
    "start_time": "2024-06-18T12:43:33.790Z"
   },
   {
    "duration": 289724,
    "start_time": "2024-06-18T12:43:49.046Z"
   },
   {
    "duration": 484883,
    "start_time": "2024-06-18T12:55:07.185Z"
   },
   {
    "duration": 303071,
    "start_time": "2024-06-18T13:03:54.199Z"
   },
   {
    "duration": 5,
    "start_time": "2024-06-18T13:12:46.528Z"
   },
   {
    "duration": 5,
    "start_time": "2024-06-18T13:13:13.504Z"
   },
   {
    "duration": 20,
    "start_time": "2024-06-18T13:13:27.443Z"
   },
   {
    "duration": 18,
    "start_time": "2024-06-18T13:13:41.000Z"
   },
   {
    "duration": 41,
    "start_time": "2024-06-18T13:15:05.754Z"
   },
   {
    "duration": 33,
    "start_time": "2024-06-18T13:15:32.426Z"
   },
   {
    "duration": 372019,
    "start_time": "2024-06-18T13:15:57.252Z"
   },
   {
    "duration": 68,
    "start_time": "2024-06-18T13:52:28.283Z"
   },
   {
    "duration": 20583,
    "start_time": "2024-06-18T13:55:31.878Z"
   },
   {
    "duration": 5613,
    "start_time": "2024-06-19T10:17:14.164Z"
   },
   {
    "duration": 4,
    "start_time": "2024-06-19T10:17:19.780Z"
   },
   {
    "duration": 79,
    "start_time": "2024-06-19T10:17:19.786Z"
   },
   {
    "duration": 6,
    "start_time": "2024-06-19T10:17:19.867Z"
   },
   {
    "duration": 471,
    "start_time": "2024-06-19T10:17:20.308Z"
   },
   {
    "duration": 99,
    "start_time": "2024-06-19T10:17:28.684Z"
   },
   {
    "duration": 100,
    "start_time": "2024-06-19T10:17:32.566Z"
   },
   {
    "duration": 17,
    "start_time": "2024-06-19T10:17:35.966Z"
   },
   {
    "duration": 72,
    "start_time": "2024-06-19T10:17:39.604Z"
   },
   {
    "duration": 374,
    "start_time": "2024-06-19T10:17:57.493Z"
   },
   {
    "duration": 15117,
    "start_time": "2024-06-19T10:18:18.366Z"
   },
   {
    "duration": 908,
    "start_time": "2024-06-19T10:18:51.765Z"
   },
   {
    "duration": 4,
    "start_time": "2024-06-19T10:19:20.302Z"
   },
   {
    "duration": 3,
    "start_time": "2024-06-19T10:20:35.066Z"
   },
   {
    "duration": 1408,
    "start_time": "2024-06-19T10:20:43.879Z"
   },
   {
    "duration": 1208,
    "start_time": "2024-06-19T13:48:28.066Z"
   },
   {
    "duration": 1174,
    "start_time": "2024-06-19T13:49:06.400Z"
   },
   {
    "duration": 4,
    "start_time": "2024-06-19T14:09:14.696Z"
   },
   {
    "duration": 1326,
    "start_time": "2024-06-19T14:09:17.265Z"
   },
   {
    "duration": 37578,
    "start_time": "2024-06-19T14:10:28.696Z"
   },
   {
    "duration": 999,
    "start_time": "2024-06-19T14:55:56.172Z"
   },
   {
    "duration": 12,
    "start_time": "2024-06-19T14:57:28.966Z"
   },
   {
    "duration": 130,
    "start_time": "2024-06-19T14:57:30.565Z"
   },
   {
    "duration": 4,
    "start_time": "2024-06-19T14:57:57.885Z"
   },
   {
    "duration": 195,
    "start_time": "2024-06-19T14:58:04.477Z"
   },
   {
    "duration": 131,
    "start_time": "2024-06-19T14:59:20.669Z"
   },
   {
    "duration": 5,
    "start_time": "2024-06-19T14:59:38.066Z"
   },
   {
    "duration": 7301,
    "start_time": "2024-06-19T14:59:41.466Z"
   },
   {
    "duration": 8124,
    "start_time": "2024-06-19T15:03:12.571Z"
   },
   {
    "duration": 9118,
    "start_time": "2024-06-19T15:05:40.668Z"
   },
   {
    "duration": 56,
    "start_time": "2024-06-20T05:15:02.944Z"
   },
   {
    "duration": 17,
    "start_time": "2024-06-20T05:15:10.710Z"
   },
   {
    "duration": 139,
    "start_time": "2024-06-20T05:15:31.865Z"
   },
   {
    "duration": 56,
    "start_time": "2024-06-20T05:18:52.210Z"
   },
   {
    "duration": 14,
    "start_time": "2024-06-20T05:19:01.722Z"
   },
   {
    "duration": 35,
    "start_time": "2024-06-20T05:19:16.233Z"
   },
   {
    "duration": 38,
    "start_time": "2024-06-20T05:19:51.843Z"
   },
   {
    "duration": 3472,
    "start_time": "2024-06-20T05:20:18.395Z"
   },
   {
    "duration": 84,
    "start_time": "2024-06-20T05:20:42.787Z"
   },
   {
    "duration": 3676,
    "start_time": "2024-06-20T05:25:27.713Z"
   },
   {
    "duration": 4,
    "start_time": "2024-06-20T05:25:31.390Z"
   },
   {
    "duration": 19,
    "start_time": "2024-06-20T05:25:31.395Z"
   },
   {
    "duration": 5,
    "start_time": "2024-06-20T05:25:31.465Z"
   },
   {
    "duration": 324,
    "start_time": "2024-06-20T05:25:31.472Z"
   },
   {
    "duration": 93,
    "start_time": "2024-06-20T05:25:31.798Z"
   },
   {
    "duration": 102,
    "start_time": "2024-06-20T05:25:31.892Z"
   },
   {
    "duration": 77,
    "start_time": "2024-06-20T05:25:31.995Z"
   },
   {
    "duration": 16,
    "start_time": "2024-06-20T05:25:32.073Z"
   },
   {
    "duration": 193,
    "start_time": "2024-06-20T05:25:32.090Z"
   },
   {
    "duration": 1185,
    "start_time": "2024-06-20T05:25:32.284Z"
   },
   {
    "duration": 1908,
    "start_time": "2024-06-20T05:25:33.471Z"
   },
   {
    "duration": 220,
    "start_time": "2024-06-20T05:25:35.381Z"
   },
   {
    "duration": 19972,
    "start_time": "2024-06-20T05:25:35.604Z"
   },
   {
    "duration": 3409,
    "start_time": "2024-06-20T05:25:55.578Z"
   },
   {
    "duration": 2399,
    "start_time": "2024-06-20T05:25:58.988Z"
   },
   {
    "duration": 301,
    "start_time": "2024-06-20T05:26:01.389Z"
   },
   {
    "duration": 0,
    "start_time": "2024-06-20T05:26:01.691Z"
   },
   {
    "duration": 0,
    "start_time": "2024-06-20T05:26:01.693Z"
   },
   {
    "duration": 0,
    "start_time": "2024-06-20T05:26:01.694Z"
   },
   {
    "duration": 0,
    "start_time": "2024-06-20T05:26:01.695Z"
   },
   {
    "duration": 0,
    "start_time": "2024-06-20T05:26:01.696Z"
   },
   {
    "duration": 3652,
    "start_time": "2024-06-20T05:27:02.617Z"
   },
   {
    "duration": 3,
    "start_time": "2024-06-20T05:27:06.271Z"
   },
   {
    "duration": 18,
    "start_time": "2024-06-20T05:27:06.276Z"
   },
   {
    "duration": 5,
    "start_time": "2024-06-20T05:27:06.295Z"
   },
   {
    "duration": 201,
    "start_time": "2024-06-20T05:27:06.301Z"
   },
   {
    "duration": 103,
    "start_time": "2024-06-20T05:27:06.566Z"
   },
   {
    "duration": 105,
    "start_time": "2024-06-20T05:27:06.670Z"
   },
   {
    "duration": 21,
    "start_time": "2024-06-20T05:27:06.777Z"
   },
   {
    "duration": 78,
    "start_time": "2024-06-20T05:27:06.800Z"
   },
   {
    "duration": 198,
    "start_time": "2024-06-20T05:27:06.880Z"
   },
   {
    "duration": 1202,
    "start_time": "2024-06-20T05:27:07.080Z"
   },
   {
    "duration": 2003,
    "start_time": "2024-06-20T05:27:08.284Z"
   },
   {
    "duration": 201,
    "start_time": "2024-06-20T05:27:10.289Z"
   },
   {
    "duration": 19208,
    "start_time": "2024-06-20T05:27:10.494Z"
   },
   {
    "duration": 3596,
    "start_time": "2024-06-20T05:27:29.704Z"
   },
   {
    "duration": 2409,
    "start_time": "2024-06-20T05:27:33.301Z"
   },
   {
    "duration": 168484,
    "start_time": "2024-06-20T05:27:35.712Z"
   },
   {
    "duration": 5,
    "start_time": "2024-06-20T05:30:24.197Z"
   },
   {
    "duration": 0,
    "start_time": "2024-06-20T05:30:24.204Z"
   },
   {
    "duration": 0,
    "start_time": "2024-06-20T05:30:24.205Z"
   },
   {
    "duration": 0,
    "start_time": "2024-06-20T05:30:24.206Z"
   },
   {
    "duration": 0,
    "start_time": "2024-06-20T05:30:24.265Z"
   },
   {
    "duration": 47168,
    "start_time": "2024-06-20T05:51:38.198Z"
   },
   {
    "duration": 4731,
    "start_time": "2024-06-20T07:16:07.953Z"
   },
   {
    "duration": 403,
    "start_time": "2024-06-20T07:16:17.783Z"
   },
   {
    "duration": 2928,
    "start_time": "2024-06-20T07:19:35.042Z"
   },
   {
    "duration": 131,
    "start_time": "2024-06-20T07:22:38.446Z"
   },
   {
    "duration": 243,
    "start_time": "2024-06-20T07:23:01.422Z"
   },
   {
    "duration": 89,
    "start_time": "2024-06-20T07:23:05.292Z"
   },
   {
    "duration": 39,
    "start_time": "2024-06-20T07:23:09.036Z"
   },
   {
    "duration": 24,
    "start_time": "2024-06-20T07:23:12.341Z"
   },
   {
    "duration": 163,
    "start_time": "2024-06-20T07:24:09.535Z"
   },
   {
    "duration": 19349,
    "start_time": "2024-06-20T07:24:21.246Z"
   },
   {
    "duration": 1272,
    "start_time": "2024-06-20T07:24:40.597Z"
   },
   {
    "duration": 4131,
    "start_time": "2024-06-20T07:25:52.240Z"
   },
   {
    "duration": 2863,
    "start_time": "2024-06-20T07:26:22.321Z"
   },
   {
    "duration": 405392,
    "start_time": "2024-06-20T07:28:11.577Z"
   },
   {
    "duration": 0,
    "start_time": "2024-06-20T07:34:56.971Z"
   },
   {
    "duration": 0,
    "start_time": "2024-06-20T07:34:56.972Z"
   },
   {
    "duration": 2918,
    "start_time": "2024-06-20T07:35:16.248Z"
   },
   {
    "duration": 92377,
    "start_time": "2024-06-20T07:36:14.792Z"
   },
   {
    "duration": 36132,
    "start_time": "2024-06-20T07:40:34.637Z"
   },
   {
    "duration": 235697,
    "start_time": "2024-06-20T08:05:46.308Z"
   },
   {
    "duration": 26105,
    "start_time": "2024-06-20T10:00:43.505Z"
   },
   {
    "duration": 594,
    "start_time": "2024-06-20T17:09:01.882Z"
   },
   {
    "duration": 63,
    "start_time": "2024-06-20T17:12:00.922Z"
   },
   {
    "duration": 4,
    "start_time": "2024-06-20T17:12:15.562Z"
   },
   {
    "duration": 119,
    "start_time": "2024-06-20T17:12:16.779Z"
   },
   {
    "duration": 3562,
    "start_time": "2024-06-20T17:13:37.436Z"
   },
   {
    "duration": 4075,
    "start_time": "2024-06-20T17:15:04.797Z"
   },
   {
    "duration": 3578,
    "start_time": "2024-06-20T17:23:21.214Z"
   },
   {
    "duration": 6215,
    "start_time": "2024-06-20T17:26:38.883Z"
   },
   {
    "duration": 5442,
    "start_time": "2024-06-20T17:34:14.247Z"
   },
   {
    "duration": 5663,
    "start_time": "2024-06-20T17:42:48.438Z"
   },
   {
    "duration": 5655,
    "start_time": "2024-06-20T17:43:09.526Z"
   },
   {
    "duration": 5524,
    "start_time": "2024-06-20T17:44:01.359Z"
   },
   {
    "duration": 423,
    "start_time": "2024-06-20T17:44:38.883Z"
   },
   {
    "duration": 428,
    "start_time": "2024-06-20T17:51:36.141Z"
   },
   {
    "duration": 417,
    "start_time": "2024-06-20T17:53:19.064Z"
   },
   {
    "duration": 78,
    "start_time": "2024-06-20T17:53:29.126Z"
   },
   {
    "duration": 367,
    "start_time": "2024-06-20T18:01:16.604Z"
   },
   {
    "duration": 66,
    "start_time": "2024-06-20T18:27:05.061Z"
   },
   {
    "duration": 460,
    "start_time": "2024-06-20T18:28:07.421Z"
   },
   {
    "duration": 7223,
    "start_time": "2024-06-20T19:00:20.882Z"
   },
   {
    "duration": 5513,
    "start_time": "2024-06-20T19:00:58.682Z"
   },
   {
    "duration": 488,
    "start_time": "2024-06-20T19:01:04.196Z"
   },
   {
    "duration": 386,
    "start_time": "2024-06-20T19:01:54.723Z"
   },
   {
    "duration": 468,
    "start_time": "2024-06-20T19:07:20.632Z"
   },
   {
    "duration": 62,
    "start_time": "2024-06-20T19:10:02.043Z"
   },
   {
    "duration": 85,
    "start_time": "2024-06-20T19:11:28.619Z"
   },
   {
    "duration": 725,
    "start_time": "2024-06-20T19:14:14.864Z"
   },
   {
    "duration": 5290,
    "start_time": "2024-06-20T21:19:14.477Z"
   },
   {
    "duration": 10453,
    "start_time": "2024-06-20T22:01:25.525Z"
   },
   {
    "duration": 3,
    "start_time": "2024-06-20T22:02:09.381Z"
   },
   {
    "duration": 3,
    "start_time": "2024-06-20T22:02:09.901Z"
   },
   {
    "duration": 6,
    "start_time": "2024-06-20T22:02:10.453Z"
   },
   {
    "duration": 234,
    "start_time": "2024-06-20T22:02:12.540Z"
   },
   {
    "duration": 55,
    "start_time": "2024-06-20T22:02:19.828Z"
   },
   {
    "duration": 87,
    "start_time": "2024-06-20T22:02:24.685Z"
   },
   {
    "duration": 31,
    "start_time": "2024-06-20T22:02:29.848Z"
   },
   {
    "duration": 18,
    "start_time": "2024-06-20T22:02:34.909Z"
   },
   {
    "duration": 1678,
    "start_time": "2024-06-20T22:02:43.420Z"
   },
   {
    "duration": 1993,
    "start_time": "2024-06-20T22:02:52.100Z"
   },
   {
    "duration": 2784,
    "start_time": "2024-06-20T22:05:02.199Z"
   },
   {
    "duration": 1322,
    "start_time": "2024-06-20T22:05:13.647Z"
   },
   {
    "duration": 697,
    "start_time": "2024-06-20T22:08:56.882Z"
   },
   {
    "duration": 151,
    "start_time": "2024-06-20T22:10:17.324Z"
   },
   {
    "duration": 3660,
    "start_time": "2024-06-20T22:14:26.641Z"
   },
   {
    "duration": 2562,
    "start_time": "2024-06-20T22:16:27.114Z"
   },
   {
    "duration": 1399,
    "start_time": "2024-06-20T22:17:23.803Z"
   },
   {
    "duration": 402,
    "start_time": "2024-06-20T22:26:12.465Z"
   },
   {
    "duration": 140,
    "start_time": "2024-06-20T22:26:24.369Z"
   },
   {
    "duration": 18768,
    "start_time": "2024-06-20T22:26:56.315Z"
   },
   {
    "duration": 25995,
    "start_time": "2024-06-20T22:28:28.572Z"
   },
   {
    "duration": 22,
    "start_time": "2024-06-20T22:41:36.791Z"
   },
   {
    "duration": 402,
    "start_time": "2024-06-20T22:45:54.074Z"
   },
   {
    "duration": 4493,
    "start_time": "2024-06-20T22:46:06.187Z"
   },
   {
    "duration": 200,
    "start_time": "2024-06-20T22:50:36.975Z"
   },
   {
    "duration": 194,
    "start_time": "2024-06-20T22:50:54.775Z"
   },
   {
    "duration": 4602,
    "start_time": "2024-06-20T23:03:25.178Z"
   },
   {
    "duration": 10,
    "start_time": "2024-06-20T23:05:30.860Z"
   },
   {
    "duration": 48,
    "start_time": "2024-06-21T14:07:22.156Z"
   },
   {
    "duration": 61582,
    "start_time": "2024-06-21T14:08:23.262Z"
   },
   {
    "duration": 2130,
    "start_time": "2024-06-21T14:09:24.846Z"
   },
   {
    "duration": 4,
    "start_time": "2024-06-21T14:09:26.977Z"
   },
   {
    "duration": 4,
    "start_time": "2024-06-21T14:09:26.982Z"
   },
   {
    "duration": 4,
    "start_time": "2024-06-21T14:09:26.988Z"
   },
   {
    "duration": 398,
    "start_time": "2024-06-21T14:09:26.999Z"
   },
   {
    "duration": 30,
    "start_time": "2024-06-21T14:09:27.399Z"
   },
   {
    "duration": 75,
    "start_time": "2024-06-21T14:09:27.431Z"
   },
   {
    "duration": 15,
    "start_time": "2024-06-21T14:09:27.508Z"
   },
   {
    "duration": 17,
    "start_time": "2024-06-21T14:09:27.525Z"
   },
   {
    "duration": 468,
    "start_time": "2024-06-21T14:09:27.544Z"
   },
   {
    "duration": 862,
    "start_time": "2024-06-21T14:09:28.014Z"
   },
   {
    "duration": 898,
    "start_time": "2024-06-21T14:09:28.878Z"
   },
   {
    "duration": 1114,
    "start_time": "2024-06-21T14:09:29.777Z"
   },
   {
    "duration": 669,
    "start_time": "2024-06-21T14:09:30.893Z"
   },
   {
    "duration": 83,
    "start_time": "2024-06-21T14:09:31.564Z"
   },
   {
    "duration": 114,
    "start_time": "2024-06-21T14:09:31.649Z"
   },
   {
    "duration": 13348,
    "start_time": "2024-06-21T14:09:31.765Z"
   },
   {
    "duration": 2013,
    "start_time": "2024-06-21T14:09:45.115Z"
   },
   {
    "duration": 1533,
    "start_time": "2024-06-21T14:09:47.130Z"
   },
   {
    "duration": 233804,
    "start_time": "2024-06-21T14:09:48.665Z"
   },
   {
    "duration": 10170,
    "start_time": "2024-06-21T14:13:42.471Z"
   },
   {
    "duration": 272,
    "start_time": "2024-06-21T14:13:52.643Z"
   },
   {
    "duration": 4,
    "start_time": "2024-06-21T14:13:52.916Z"
   },
   {
    "duration": 3207,
    "start_time": "2024-06-21T14:13:52.921Z"
   },
   {
    "duration": 368,
    "start_time": "2024-06-21T14:13:56.130Z"
   },
   {
    "duration": 0,
    "start_time": "2024-06-21T14:13:56.499Z"
   },
   {
    "duration": 0,
    "start_time": "2024-06-21T14:13:56.501Z"
   },
   {
    "duration": 0,
    "start_time": "2024-06-21T14:13:56.502Z"
   },
   {
    "duration": 95,
    "start_time": "2024-06-21T15:23:13.690Z"
   },
   {
    "duration": 2327,
    "start_time": "2024-06-21T15:23:20.931Z"
   },
   {
    "duration": 93,
    "start_time": "2024-06-21T16:28:20.542Z"
   },
   {
    "duration": 91,
    "start_time": "2024-06-21T16:28:37.854Z"
   },
   {
    "duration": 90,
    "start_time": "2024-06-21T16:28:59.823Z"
   },
   {
    "duration": 90,
    "start_time": "2024-06-21T16:29:13.184Z"
   },
   {
    "duration": 222,
    "start_time": "2024-06-21T16:29:47.391Z"
   },
   {
    "duration": 92,
    "start_time": "2024-06-21T16:30:50.184Z"
   },
   {
    "duration": 102,
    "start_time": "2024-06-21T16:31:03.969Z"
   },
   {
    "duration": 100,
    "start_time": "2024-06-21T16:31:24.657Z"
   },
   {
    "duration": 91,
    "start_time": "2024-06-21T16:32:07.370Z"
   },
   {
    "duration": 89,
    "start_time": "2024-06-21T16:32:57.138Z"
   },
   {
    "duration": 101,
    "start_time": "2024-06-21T16:33:15.914Z"
   },
   {
    "duration": 90,
    "start_time": "2024-06-21T16:33:20.235Z"
   },
   {
    "duration": 97,
    "start_time": "2024-06-21T16:33:48.891Z"
   },
   {
    "duration": 96,
    "start_time": "2024-06-21T16:34:02.148Z"
   },
   {
    "duration": 91,
    "start_time": "2024-06-21T16:34:43.988Z"
   },
   {
    "duration": 94,
    "start_time": "2024-06-21T16:35:00.380Z"
   },
   {
    "duration": 91,
    "start_time": "2024-06-21T16:35:14.020Z"
   },
   {
    "duration": 92,
    "start_time": "2024-06-21T17:57:41.986Z"
   },
   {
    "duration": 91,
    "start_time": "2024-06-21T17:57:47.727Z"
   },
   {
    "duration": 3365,
    "start_time": "2024-06-21T17:57:59.295Z"
   },
   {
    "duration": 110,
    "start_time": "2024-06-21T18:07:25.841Z"
   },
   {
    "duration": 104,
    "start_time": "2024-06-21T18:09:11.897Z"
   },
   {
    "duration": 97,
    "start_time": "2024-06-21T18:09:46.122Z"
   },
   {
    "duration": 109,
    "start_time": "2024-06-21T18:10:27.130Z"
   },
   {
    "duration": 107,
    "start_time": "2024-06-21T18:10:44.819Z"
   },
   {
    "duration": 46,
    "start_time": "2024-06-21T18:11:20.508Z"
   },
   {
    "duration": 112,
    "start_time": "2024-06-21T18:11:39.778Z"
   },
   {
    "duration": 107,
    "start_time": "2024-06-21T18:12:50.556Z"
   },
   {
    "duration": 106,
    "start_time": "2024-06-21T18:13:26.484Z"
   },
   {
    "duration": 103,
    "start_time": "2024-06-21T18:13:59.285Z"
   },
   {
    "duration": 137,
    "start_time": "2024-06-21T18:14:28.974Z"
   },
   {
    "duration": 106,
    "start_time": "2024-06-21T18:15:58.008Z"
   },
   {
    "duration": 108,
    "start_time": "2024-06-21T18:16:16.279Z"
   },
   {
    "duration": 117,
    "start_time": "2024-06-21T18:16:47.440Z"
   },
   {
    "duration": 109,
    "start_time": "2024-06-21T18:17:19.936Z"
   },
   {
    "duration": 108,
    "start_time": "2024-06-21T18:17:51.561Z"
   },
   {
    "duration": 103,
    "start_time": "2024-06-21T18:18:19.465Z"
   },
   {
    "duration": 110,
    "start_time": "2024-06-21T18:18:56.817Z"
   },
   {
    "duration": 64337,
    "start_time": "2024-06-22T04:34:29.415Z"
   },
   {
    "duration": 2293,
    "start_time": "2024-06-22T04:35:33.756Z"
   },
   {
    "duration": 3,
    "start_time": "2024-06-22T04:35:36.051Z"
   },
   {
    "duration": 17,
    "start_time": "2024-06-22T04:35:36.056Z"
   },
   {
    "duration": 92,
    "start_time": "2024-06-22T04:35:36.075Z"
   },
   {
    "duration": 319,
    "start_time": "2024-06-22T04:35:36.169Z"
   },
   {
    "duration": 87,
    "start_time": "2024-06-22T04:35:36.489Z"
   },
   {
    "duration": 59,
    "start_time": "2024-06-22T04:35:36.578Z"
   },
   {
    "duration": 46,
    "start_time": "2024-06-22T04:35:36.639Z"
   },
   {
    "duration": 53,
    "start_time": "2024-06-22T04:35:36.689Z"
   },
   {
    "duration": 443,
    "start_time": "2024-06-22T04:35:36.744Z"
   },
   {
    "duration": 814,
    "start_time": "2024-06-22T04:35:37.189Z"
   },
   {
    "duration": 908,
    "start_time": "2024-06-22T04:35:38.005Z"
   },
   {
    "duration": 1106,
    "start_time": "2024-06-22T04:35:38.915Z"
   },
   {
    "duration": 634,
    "start_time": "2024-06-22T04:35:40.023Z"
   },
   {
    "duration": 66,
    "start_time": "2024-06-22T04:35:40.659Z"
   },
   {
    "duration": 105,
    "start_time": "2024-06-22T04:35:40.727Z"
   },
   {
    "duration": 13090,
    "start_time": "2024-06-22T04:35:40.833Z"
   },
   {
    "duration": 2014,
    "start_time": "2024-06-22T04:35:53.925Z"
   },
   {
    "duration": 1478,
    "start_time": "2024-06-22T04:35:55.940Z"
   },
   {
    "duration": 1987,
    "start_time": "2024-06-22T07:20:36.433Z"
   },
   {
    "duration": 3,
    "start_time": "2024-06-22T07:20:38.422Z"
   },
   {
    "duration": 3,
    "start_time": "2024-06-22T07:20:39.200Z"
   },
   {
    "duration": 5,
    "start_time": "2024-06-22T07:20:40.664Z"
   },
   {
    "duration": 134,
    "start_time": "2024-06-22T07:20:42.392Z"
   },
   {
    "duration": 29,
    "start_time": "2024-06-22T07:20:49.617Z"
   },
   {
    "duration": 51,
    "start_time": "2024-06-22T07:20:53.793Z"
   },
   {
    "duration": 16,
    "start_time": "2024-06-22T07:20:59.536Z"
   },
   {
    "duration": 21,
    "start_time": "2024-06-22T07:21:01.512Z"
   },
   {
    "duration": 429,
    "start_time": "2024-06-22T07:21:06.976Z"
   },
   {
    "duration": 831,
    "start_time": "2024-06-22T07:21:12.440Z"
   },
   {
    "duration": 848,
    "start_time": "2024-06-22T07:21:15.321Z"
   },
   {
    "duration": 1123,
    "start_time": "2024-06-22T07:21:18.833Z"
   },
   {
    "duration": 632,
    "start_time": "2024-06-22T07:21:20.914Z"
   },
   {
    "duration": 66,
    "start_time": "2024-06-22T07:21:22.808Z"
   },
   {
    "duration": 93,
    "start_time": "2024-06-22T07:21:43.273Z"
   },
   {
    "duration": 13570,
    "start_time": "2024-06-22T07:21:53.802Z"
   },
   {
    "duration": 92,
    "start_time": "2024-06-22T07:37:18.183Z"
   },
   {
    "duration": 146,
    "start_time": "2024-06-22T07:37:49.592Z"
   },
   {
    "duration": 2106,
    "start_time": "2024-06-22T07:38:25.592Z"
   },
   {
    "duration": 1465,
    "start_time": "2024-06-22T07:38:31.737Z"
   },
   {
    "duration": 11,
    "start_time": "2024-06-22T07:38:39.576Z"
   },
   {
    "duration": 14,
    "start_time": "2024-06-22T07:38:53.745Z"
   },
   {
    "duration": 54,
    "start_time": "2024-06-22T07:59:46.547Z"
   },
   {
    "duration": 2074,
    "start_time": "2024-06-22T08:00:01.956Z"
   },
   {
    "duration": 4,
    "start_time": "2024-06-22T08:00:04.032Z"
   },
   {
    "duration": 22,
    "start_time": "2024-06-22T08:00:04.037Z"
   },
   {
    "duration": 4,
    "start_time": "2024-06-22T08:00:04.459Z"
   },
   {
    "duration": 129,
    "start_time": "2024-06-22T08:00:05.348Z"
   },
   {
    "duration": 34,
    "start_time": "2024-06-22T08:00:06.131Z"
   },
   {
    "duration": 40,
    "start_time": "2024-06-22T08:00:06.635Z"
   },
   {
    "duration": 24,
    "start_time": "2024-06-22T08:00:07.123Z"
   },
   {
    "duration": 15,
    "start_time": "2024-06-22T08:00:07.923Z"
   },
   {
    "duration": 440,
    "start_time": "2024-06-22T08:00:09.058Z"
   },
   {
    "duration": 832,
    "start_time": "2024-06-22T08:00:09.499Z"
   },
   {
    "duration": 905,
    "start_time": "2024-06-22T08:00:10.333Z"
   },
   {
    "duration": 1081,
    "start_time": "2024-06-22T08:00:11.240Z"
   },
   {
    "duration": 657,
    "start_time": "2024-06-22T08:00:12.324Z"
   },
   {
    "duration": 84,
    "start_time": "2024-06-22T08:00:12.982Z"
   },
   {
    "duration": 104,
    "start_time": "2024-06-22T08:00:13.067Z"
   },
   {
    "duration": 13126,
    "start_time": "2024-06-22T08:00:13.172Z"
   },
   {
    "duration": 2051,
    "start_time": "2024-06-22T08:00:26.300Z"
   },
   {
    "duration": 1506,
    "start_time": "2024-06-22T08:00:46.060Z"
   },
   {
    "duration": 355,
    "start_time": "2024-06-22T08:00:57.295Z"
   },
   {
    "duration": 85392,
    "start_time": "2024-06-22T08:01:13.333Z"
   },
   {
    "duration": 28,
    "start_time": "2024-06-22T08:02:38.727Z"
   },
   {
    "duration": 109,
    "start_time": "2024-06-22T08:03:20.199Z"
   },
   {
    "duration": 2375,
    "start_time": "2024-06-22T08:04:39.255Z"
   },
   {
    "duration": 2490,
    "start_time": "2024-06-22T08:06:24.089Z"
   },
   {
    "duration": 71239,
    "start_time": "2024-06-22T19:50:36.532Z"
   },
   {
    "duration": 6831,
    "start_time": "2024-06-22T19:51:47.774Z"
   },
   {
    "duration": 4,
    "start_time": "2024-06-22T19:51:54.607Z"
   },
   {
    "duration": 22,
    "start_time": "2024-06-22T19:51:54.614Z"
   },
   {
    "duration": 7,
    "start_time": "2024-06-22T19:51:54.637Z"
   },
   {
    "duration": 318,
    "start_time": "2024-06-22T19:51:54.645Z"
   },
   {
    "duration": 29,
    "start_time": "2024-06-22T19:51:54.965Z"
   },
   {
    "duration": 80,
    "start_time": "2024-06-22T19:51:54.996Z"
   },
   {
    "duration": 42,
    "start_time": "2024-06-22T19:51:55.077Z"
   },
   {
    "duration": 16,
    "start_time": "2024-06-22T19:51:55.121Z"
   },
   {
    "duration": 475,
    "start_time": "2024-06-22T19:51:55.139Z"
   },
   {
    "duration": 965,
    "start_time": "2024-06-22T19:51:55.616Z"
   },
   {
    "duration": 932,
    "start_time": "2024-06-22T19:51:56.583Z"
   },
   {
    "duration": 1180,
    "start_time": "2024-06-22T19:51:57.517Z"
   },
   {
    "duration": 702,
    "start_time": "2024-06-22T19:51:58.699Z"
   },
   {
    "duration": 88,
    "start_time": "2024-06-22T19:51:59.402Z"
   },
   {
    "duration": 117,
    "start_time": "2024-06-22T19:51:59.492Z"
   },
   {
    "duration": 14791,
    "start_time": "2024-06-22T19:51:59.611Z"
   },
   {
    "duration": 29076,
    "start_time": "2024-06-22T20:01:34.144Z"
   },
   {
    "duration": 10,
    "start_time": "2024-06-22T20:02:03.223Z"
   },
   {
    "duration": 23,
    "start_time": "2024-06-22T20:02:03.235Z"
   },
   {
    "duration": 14,
    "start_time": "2024-06-22T20:02:03.261Z"
   },
   {
    "duration": 9,
    "start_time": "2024-06-22T20:02:03.277Z"
   },
   {
    "duration": 161,
    "start_time": "2024-06-22T20:02:03.288Z"
   },
   {
    "duration": 42,
    "start_time": "2024-06-22T20:02:03.451Z"
   },
   {
    "duration": 88,
    "start_time": "2024-06-22T20:02:03.495Z"
   },
   {
    "duration": 27,
    "start_time": "2024-06-22T20:02:03.585Z"
   },
   {
    "duration": 32,
    "start_time": "2024-06-22T20:02:03.616Z"
   },
   {
    "duration": 411,
    "start_time": "2024-06-22T20:02:03.650Z"
   },
   {
    "duration": 956,
    "start_time": "2024-06-22T20:02:04.063Z"
   },
   {
    "duration": 1225,
    "start_time": "2024-06-22T20:02:05.021Z"
   },
   {
    "duration": 1075,
    "start_time": "2024-06-22T20:02:06.247Z"
   },
   {
    "duration": 730,
    "start_time": "2024-06-22T20:02:07.324Z"
   },
   {
    "duration": 230,
    "start_time": "2024-06-22T20:02:08.055Z"
   },
   {
    "duration": 128,
    "start_time": "2024-06-22T20:02:08.286Z"
   },
   {
    "duration": 14868,
    "start_time": "2024-06-22T20:02:08.415Z"
   },
   {
    "duration": 2198,
    "start_time": "2024-06-22T20:02:23.286Z"
   },
   {
    "duration": 1627,
    "start_time": "2024-06-22T20:02:25.486Z"
   },
   {
    "duration": 52,
    "start_time": "2024-06-23T11:39:09.399Z"
   },
   {
    "duration": 9,
    "start_time": "2024-06-23T11:39:23.899Z"
   },
   {
    "duration": 61728,
    "start_time": "2024-06-23T11:39:30.547Z"
   },
   {
    "duration": 2262,
    "start_time": "2024-06-23T11:40:32.277Z"
   },
   {
    "duration": 3,
    "start_time": "2024-06-23T11:40:34.541Z"
   },
   {
    "duration": 339,
    "start_time": "2024-06-23T11:40:34.546Z"
   },
   {
    "duration": 28,
    "start_time": "2024-06-23T11:40:34.887Z"
   },
   {
    "duration": 28,
    "start_time": "2024-06-23T11:40:47.804Z"
   },
   {
    "duration": 36,
    "start_time": "2024-06-23T11:40:51.468Z"
   },
   {
    "duration": 15,
    "start_time": "2024-06-23T11:40:57.555Z"
   },
   {
    "duration": 451,
    "start_time": "2024-06-23T11:41:02.420Z"
   },
   {
    "duration": 876,
    "start_time": "2024-06-23T11:41:50.389Z"
   },
   {
    "duration": 889,
    "start_time": "2024-06-23T11:41:59.462Z"
   },
   {
    "duration": 120,
    "start_time": "2024-06-23T11:42:05.357Z"
   },
   {
    "duration": 1114,
    "start_time": "2024-06-23T11:43:53.423Z"
   },
   {
    "duration": 20,
    "start_time": "2024-06-23T13:00:00.213Z"
   },
   {
    "duration": 116,
    "start_time": "2024-06-23T13:00:21.662Z"
   },
   {
    "duration": 210,
    "start_time": "2024-06-23T13:10:04.273Z"
   },
   {
    "duration": 1074,
    "start_time": "2024-06-23T13:10:31.892Z"
   },
   {
    "duration": 210,
    "start_time": "2024-06-23T14:15:33.898Z"
   },
   {
    "duration": 171,
    "start_time": "2024-06-23T14:20:00.179Z"
   },
   {
    "duration": 168,
    "start_time": "2024-06-23T14:21:26.018Z"
   },
   {
    "duration": 1075,
    "start_time": "2024-06-23T14:21:48.859Z"
   },
   {
    "duration": 115,
    "start_time": "2024-06-23T15:30:02.888Z"
   },
   {
    "duration": 113,
    "start_time": "2024-06-23T15:30:37.624Z"
   },
   {
    "duration": 110,
    "start_time": "2024-06-23T15:33:14.514Z"
   },
   {
    "duration": 29,
    "start_time": "2024-06-23T15:33:37.794Z"
   },
   {
    "duration": 14,
    "start_time": "2024-06-23T15:34:01.934Z"
   },
   {
    "duration": 168,
    "start_time": "2024-06-23T15:37:50.654Z"
   },
   {
    "duration": 147,
    "start_time": "2024-06-23T15:38:25.270Z"
   },
   {
    "duration": 20,
    "start_time": "2024-06-23T15:40:25.088Z"
   },
   {
    "duration": 158,
    "start_time": "2024-06-23T15:40:34.016Z"
   },
   {
    "duration": 280,
    "start_time": "2024-06-23T15:46:52.791Z"
   },
   {
    "duration": 271,
    "start_time": "2024-06-23T15:47:13.742Z"
   },
   {
    "duration": 224,
    "start_time": "2024-06-23T15:47:31.335Z"
   },
   {
    "duration": 246,
    "start_time": "2024-06-23T15:48:00.822Z"
   },
   {
    "duration": 1067,
    "start_time": "2024-06-23T15:50:10.120Z"
   },
   {
    "duration": 6441,
    "start_time": "2024-06-23T15:50:43.570Z"
   },
   {
    "duration": 6145,
    "start_time": "2024-06-23T15:51:28.634Z"
   },
   {
    "duration": 800,
    "start_time": "2024-06-23T15:54:58.293Z"
   },
   {
    "duration": 971,
    "start_time": "2024-06-23T15:55:07.220Z"
   },
   {
    "duration": 1555,
    "start_time": "2024-06-23T15:55:50.701Z"
   },
   {
    "duration": 213,
    "start_time": "2024-06-23T15:59:15.305Z"
   },
   {
    "duration": 31,
    "start_time": "2024-06-23T18:45:44.726Z"
   },
   {
    "duration": 44471,
    "start_time": "2024-06-23T18:52:04.152Z"
   },
   {
    "duration": 834,
    "start_time": "2024-06-23T18:52:54.210Z"
   },
   {
    "duration": 152,
    "start_time": "2024-06-23T19:40:38.917Z"
   },
   {
    "duration": 24,
    "start_time": "2024-06-23T19:41:02.020Z"
   },
   {
    "duration": 91312,
    "start_time": "2024-06-24T11:19:54.239Z"
   },
   {
    "duration": 2720,
    "start_time": "2024-06-24T11:21:35.180Z"
   },
   {
    "duration": 4,
    "start_time": "2024-06-24T11:21:43.264Z"
   },
   {
    "duration": 316,
    "start_time": "2024-06-24T11:21:51.473Z"
   },
   {
    "duration": 36,
    "start_time": "2024-06-24T11:21:58.377Z"
   },
   {
    "duration": 36,
    "start_time": "2024-06-24T11:22:02.345Z"
   },
   {
    "duration": 15,
    "start_time": "2024-06-24T11:22:05.985Z"
   },
   {
    "duration": 14,
    "start_time": "2024-06-24T11:22:12.313Z"
   },
   {
    "duration": 323,
    "start_time": "2024-06-24T11:26:11.598Z"
   },
   {
    "duration": 859,
    "start_time": "2024-06-24T11:26:19.436Z"
   },
   {
    "duration": 2644,
    "start_time": "2024-06-24T11:27:51.958Z"
   },
   {
    "duration": 162,
    "start_time": "2024-06-24T11:29:05.487Z"
   },
   {
    "duration": 162,
    "start_time": "2024-06-24T11:29:17.329Z"
   },
   {
    "duration": 76702,
    "start_time": "2024-06-24T11:32:24.971Z"
   },
   {
    "duration": 16,
    "start_time": "2024-06-24T14:03:28.164Z"
   },
   {
    "duration": 32254,
    "start_time": "2024-06-24T14:22:02.682Z"
   },
   {
    "duration": 2422,
    "start_time": "2024-06-24T14:22:34.939Z"
   },
   {
    "duration": 4,
    "start_time": "2024-06-24T14:22:37.363Z"
   },
   {
    "duration": 143,
    "start_time": "2024-06-24T14:22:37.369Z"
   },
   {
    "duration": 34,
    "start_time": "2024-06-24T14:22:37.516Z"
   },
   {
    "duration": 76,
    "start_time": "2024-06-24T14:22:37.551Z"
   },
   {
    "duration": 14,
    "start_time": "2024-06-24T14:22:37.630Z"
   },
   {
    "duration": 29,
    "start_time": "2024-06-24T14:22:37.646Z"
   },
   {
    "duration": 346,
    "start_time": "2024-06-24T14:22:37.677Z"
   },
   {
    "duration": 895,
    "start_time": "2024-06-24T14:22:38.025Z"
   },
   {
    "duration": 391,
    "start_time": "2024-06-24T14:22:38.922Z"
   },
   {
    "duration": 0,
    "start_time": "2024-06-24T14:22:39.316Z"
   },
   {
    "duration": 0,
    "start_time": "2024-06-24T14:22:39.317Z"
   },
   {
    "duration": 0,
    "start_time": "2024-06-24T14:22:39.318Z"
   },
   {
    "duration": 0,
    "start_time": "2024-06-24T14:22:39.319Z"
   },
   {
    "duration": 0,
    "start_time": "2024-06-24T14:22:39.320Z"
   },
   {
    "duration": 0,
    "start_time": "2024-06-24T14:22:39.321Z"
   },
   {
    "duration": 0,
    "start_time": "2024-06-24T14:22:39.323Z"
   },
   {
    "duration": 0,
    "start_time": "2024-06-24T14:22:39.324Z"
   },
   {
    "duration": 0,
    "start_time": "2024-06-24T14:22:39.325Z"
   },
   {
    "duration": 0,
    "start_time": "2024-06-24T14:22:39.326Z"
   },
   {
    "duration": 0,
    "start_time": "2024-06-24T14:22:39.327Z"
   },
   {
    "duration": 0,
    "start_time": "2024-06-24T14:22:39.328Z"
   },
   {
    "duration": 0,
    "start_time": "2024-06-24T14:22:39.329Z"
   },
   {
    "duration": 611,
    "start_time": "2024-06-24T14:24:41.094Z"
   },
   {
    "duration": 65,
    "start_time": "2024-06-24T14:24:46.974Z"
   },
   {
    "duration": 86,
    "start_time": "2024-06-24T14:24:52.766Z"
   },
   {
    "duration": 13246,
    "start_time": "2024-06-24T14:25:00.118Z"
   },
   {
    "duration": 2120,
    "start_time": "2024-06-24T14:25:13.366Z"
   },
   {
    "duration": 1472,
    "start_time": "2024-06-24T14:25:15.487Z"
   },
   {
    "duration": 60957,
    "start_time": "2024-06-24T14:25:21.959Z"
   },
   {
    "duration": 276,
    "start_time": "2024-06-24T14:26:22.918Z"
   },
   {
    "duration": 4,
    "start_time": "2024-06-24T14:26:23.196Z"
   },
   {
    "duration": 3217,
    "start_time": "2024-06-24T14:26:23.213Z"
   },
   {
    "duration": 94291,
    "start_time": "2024-06-25T16:40:28.651Z"
   },
   {
    "duration": 3094,
    "start_time": "2024-06-25T16:42:02.945Z"
   },
   {
    "duration": 5,
    "start_time": "2024-06-25T16:42:06.041Z"
   },
   {
    "duration": 390,
    "start_time": "2024-06-25T16:42:06.060Z"
   },
   {
    "duration": 38,
    "start_time": "2024-06-25T16:42:06.451Z"
   },
   {
    "duration": 96,
    "start_time": "2024-06-25T16:42:06.491Z"
   },
   {
    "duration": 17,
    "start_time": "2024-06-25T16:42:06.589Z"
   },
   {
    "duration": 34,
    "start_time": "2024-06-25T16:42:06.608Z"
   },
   {
    "duration": 443,
    "start_time": "2024-06-25T16:42:06.643Z"
   },
   {
    "duration": 965,
    "start_time": "2024-06-25T16:42:07.090Z"
   },
   {
    "duration": 227,
    "start_time": "2024-06-25T16:42:08.057Z"
   },
   {
    "duration": 794,
    "start_time": "2024-06-25T16:42:08.286Z"
   },
   {
    "duration": 91,
    "start_time": "2024-06-25T16:42:09.082Z"
   },
   {
    "duration": 127,
    "start_time": "2024-06-25T16:42:09.175Z"
   },
   {
    "duration": 15861,
    "start_time": "2024-06-25T16:42:09.303Z"
   },
   {
    "duration": 0,
    "start_time": "2024-06-25T16:42:25.166Z"
   },
   {
    "duration": 0,
    "start_time": "2024-06-25T16:42:25.167Z"
   },
   {
    "duration": 0,
    "start_time": "2024-06-25T16:42:25.168Z"
   },
   {
    "duration": 0,
    "start_time": "2024-06-25T16:42:25.169Z"
   },
   {
    "duration": 0,
    "start_time": "2024-06-25T16:42:25.170Z"
   },
   {
    "duration": 0,
    "start_time": "2024-06-25T16:42:25.171Z"
   },
   {
    "duration": 0,
    "start_time": "2024-06-25T16:42:25.172Z"
   },
   {
    "duration": 0,
    "start_time": "2024-06-25T16:42:25.173Z"
   },
   {
    "duration": 0,
    "start_time": "2024-06-25T16:42:25.174Z"
   },
   {
    "duration": 0,
    "start_time": "2024-06-25T16:42:25.175Z"
   },
   {
    "duration": 0,
    "start_time": "2024-06-25T16:42:25.176Z"
   },
   {
    "duration": 15995,
    "start_time": "2024-06-25T17:17:25.563Z"
   },
   {
    "duration": 2549,
    "start_time": "2024-06-25T17:17:41.560Z"
   },
   {
    "duration": 1883,
    "start_time": "2024-06-25T17:17:44.111Z"
   },
   {
    "duration": 92066,
    "start_time": "2024-06-25T17:17:45.996Z"
   },
   {
    "duration": 16,
    "start_time": "2024-06-25T17:21:25.979Z"
   },
   {
    "duration": 18,
    "start_time": "2024-06-25T17:22:39.309Z"
   },
   {
    "duration": 78,
    "start_time": "2024-06-25T17:30:15.841Z"
   },
   {
    "duration": 16,
    "start_time": "2024-06-25T17:30:50.435Z"
   },
   {
    "duration": 80,
    "start_time": "2024-06-25T17:33:09.195Z"
   },
   {
    "duration": 19,
    "start_time": "2024-06-25T17:33:18.716Z"
   },
   {
    "duration": 11376,
    "start_time": "2024-06-25T17:33:29.950Z"
   },
   {
    "duration": 16,
    "start_time": "2024-06-25T17:37:03.206Z"
   },
   {
    "duration": 2571,
    "start_time": "2024-06-25T17:37:29.686Z"
   },
   {
    "duration": 14,
    "start_time": "2024-06-25T17:40:03.041Z"
   },
   {
    "duration": 30812,
    "start_time": "2024-06-25T17:51:53.707Z"
   },
   {
    "duration": 2877,
    "start_time": "2024-06-25T17:52:24.522Z"
   },
   {
    "duration": 5,
    "start_time": "2024-06-25T17:52:27.401Z"
   },
   {
    "duration": 179,
    "start_time": "2024-06-25T17:52:27.410Z"
   },
   {
    "duration": 78,
    "start_time": "2024-06-25T17:52:27.591Z"
   },
   {
    "duration": 43,
    "start_time": "2024-06-25T17:52:27.671Z"
   },
   {
    "duration": 45,
    "start_time": "2024-06-25T17:52:27.716Z"
   },
   {
    "duration": 17,
    "start_time": "2024-06-25T17:52:27.763Z"
   },
   {
    "duration": 416,
    "start_time": "2024-06-25T17:52:27.782Z"
   },
   {
    "duration": 1144,
    "start_time": "2024-06-25T17:52:28.202Z"
   },
   {
    "duration": 66,
    "start_time": "2024-06-25T17:52:29.348Z"
   },
   {
    "duration": 838,
    "start_time": "2024-06-25T17:52:29.416Z"
   },
   {
    "duration": 107,
    "start_time": "2024-06-25T17:52:30.261Z"
   },
   {
    "duration": 153,
    "start_time": "2024-06-25T17:52:30.371Z"
   },
   {
    "duration": 17973,
    "start_time": "2024-06-25T17:52:30.526Z"
   },
   {
    "duration": 2449,
    "start_time": "2024-06-25T17:52:48.501Z"
   },
   {
    "duration": 1874,
    "start_time": "2024-06-25T17:52:50.952Z"
   },
   {
    "duration": 79238,
    "start_time": "2024-06-25T17:52:52.828Z"
   },
   {
    "duration": 554,
    "start_time": "2024-06-25T17:54:12.069Z"
   },
   {
    "duration": 3,
    "start_time": "2024-06-25T17:54:12.625Z"
   },
   {
    "duration": 1307,
    "start_time": "2024-06-25T17:54:12.631Z"
   },
   {
    "duration": 908,
    "start_time": "2024-06-25T17:54:13.940Z"
   },
   {
    "duration": 1342,
    "start_time": "2024-06-25T17:54:14.850Z"
   },
   {
    "duration": 143,
    "start_time": "2024-06-25T17:54:16.194Z"
   },
   {
    "duration": 2799,
    "start_time": "2024-06-25T17:54:16.339Z"
   },
   {
    "duration": 122,
    "start_time": "2024-06-25T17:54:19.140Z"
   },
   {
    "duration": 78,
    "start_time": "2024-06-25T18:12:03.345Z"
   },
   {
    "duration": 345,
    "start_time": "2024-06-25T18:12:29.352Z"
   },
   {
    "duration": 341,
    "start_time": "2024-06-25T18:15:59.308Z"
   },
   {
    "duration": 2320,
    "start_time": "2024-06-25T18:17:42.556Z"
   },
   {
    "duration": 4,
    "start_time": "2024-06-25T18:19:51.207Z"
   },
   {
    "duration": 322,
    "start_time": "2024-06-25T18:41:44.769Z"
   },
   {
    "duration": 4,
    "start_time": "2024-06-25T18:44:26.281Z"
   },
   {
    "duration": 683,
    "start_time": "2024-06-25T18:44:28.809Z"
   },
   {
    "duration": 560,
    "start_time": "2024-06-25T18:44:39.337Z"
   },
   {
    "duration": 980,
    "start_time": "2024-06-25T18:46:11.187Z"
   },
   {
    "duration": 2162,
    "start_time": "2024-06-25T18:47:45.020Z"
   },
   {
    "duration": 663,
    "start_time": "2024-06-25T19:06:53.784Z"
   },
   {
    "duration": 686,
    "start_time": "2024-06-25T19:12:45.717Z"
   },
   {
    "duration": 81663,
    "start_time": "2024-06-26T06:48:14.824Z"
   },
   {
    "duration": 2425,
    "start_time": "2024-06-26T06:49:36.490Z"
   },
   {
    "duration": 4,
    "start_time": "2024-06-26T06:49:38.916Z"
   },
   {
    "duration": 333,
    "start_time": "2024-06-26T06:49:38.922Z"
   },
   {
    "duration": 50,
    "start_time": "2024-06-26T06:49:39.256Z"
   },
   {
    "duration": 30,
    "start_time": "2024-06-26T06:49:39.307Z"
   },
   {
    "duration": 12,
    "start_time": "2024-06-26T06:49:39.338Z"
   },
   {
    "duration": 30,
    "start_time": "2024-06-26T06:49:39.351Z"
   },
   {
    "duration": 282,
    "start_time": "2024-06-26T06:49:39.383Z"
   },
   {
    "duration": 703,
    "start_time": "2024-06-26T06:49:39.668Z"
   },
   {
    "duration": 52,
    "start_time": "2024-06-26T06:49:40.373Z"
   },
   {
    "duration": 621,
    "start_time": "2024-06-26T06:49:40.426Z"
   },
   {
    "duration": 73,
    "start_time": "2024-06-26T06:49:41.048Z"
   },
   {
    "duration": 88,
    "start_time": "2024-06-26T06:49:41.122Z"
   },
   {
    "duration": 11590,
    "start_time": "2024-06-26T06:49:41.212Z"
   },
   {
    "duration": 0,
    "start_time": "2024-06-26T06:49:52.803Z"
   },
   {
    "duration": 0,
    "start_time": "2024-06-26T06:49:52.804Z"
   },
   {
    "duration": 0,
    "start_time": "2024-06-26T06:49:52.805Z"
   },
   {
    "duration": 0,
    "start_time": "2024-06-26T06:49:52.806Z"
   },
   {
    "duration": 0,
    "start_time": "2024-06-26T06:49:52.807Z"
   },
   {
    "duration": 0,
    "start_time": "2024-06-26T06:49:52.808Z"
   },
   {
    "duration": 0,
    "start_time": "2024-06-26T06:49:52.808Z"
   },
   {
    "duration": 0,
    "start_time": "2024-06-26T06:49:52.809Z"
   },
   {
    "duration": 0,
    "start_time": "2024-06-26T06:49:52.810Z"
   },
   {
    "duration": 65,
    "start_time": "2024-06-26T06:52:05.483Z"
   },
   {
    "duration": 11551,
    "start_time": "2024-06-26T06:52:13.498Z"
   },
   {
    "duration": 25,
    "start_time": "2024-06-26T06:52:43.035Z"
   },
   {
    "duration": 100,
    "start_time": "2024-06-26T06:55:56.655Z"
   },
   {
    "duration": 20,
    "start_time": "2024-06-26T06:56:40.783Z"
   },
   {
    "duration": 20,
    "start_time": "2024-06-26T07:01:56.547Z"
   },
   {
    "duration": 19,
    "start_time": "2024-06-26T07:03:14.085Z"
   },
   {
    "duration": 28,
    "start_time": "2024-06-26T07:05:39.263Z"
   },
   {
    "duration": 20,
    "start_time": "2024-06-26T07:07:15.161Z"
   },
   {
    "duration": 2855,
    "start_time": "2024-06-26T07:07:51.065Z"
   },
   {
    "duration": 21,
    "start_time": "2024-06-26T07:08:46.242Z"
   },
   {
    "duration": 25,
    "start_time": "2024-06-26T07:56:48.237Z"
   },
   {
    "duration": 24,
    "start_time": "2024-06-26T08:01:16.784Z"
   },
   {
    "duration": 2824,
    "start_time": "2024-06-26T08:05:15.339Z"
   },
   {
    "duration": 2775,
    "start_time": "2024-06-26T08:05:54.244Z"
   },
   {
    "duration": 11,
    "start_time": "2024-06-26T08:15:47.315Z"
   },
   {
    "duration": 13,
    "start_time": "2024-06-26T08:16:21.061Z"
   },
   {
    "duration": 12,
    "start_time": "2024-06-26T08:16:54.421Z"
   },
   {
    "duration": 13,
    "start_time": "2024-06-26T08:18:04.150Z"
   },
   {
    "duration": 89,
    "start_time": "2024-06-26T08:18:57.894Z"
   },
   {
    "duration": 6870,
    "start_time": "2024-06-26T08:20:00.079Z"
   },
   {
    "duration": 24,
    "start_time": "2024-06-26T08:23:57.930Z"
   },
   {
    "duration": 82,
    "start_time": "2024-06-26T08:28:38.590Z"
   },
   {
    "duration": 65,
    "start_time": "2024-06-26T08:29:26.224Z"
   },
   {
    "duration": 4,
    "start_time": "2024-06-26T08:30:14.192Z"
   },
   {
    "duration": 12,
    "start_time": "2024-06-26T08:30:43.161Z"
   },
   {
    "duration": 11,
    "start_time": "2024-06-26T08:31:01.336Z"
   },
   {
    "duration": 297606,
    "start_time": "2024-06-26T08:32:01.466Z"
   },
   {
    "duration": 72,
    "start_time": "2024-06-26T08:39:21.040Z"
   },
   {
    "duration": 312455,
    "start_time": "2024-06-26T08:39:35.304Z"
   },
   {
    "duration": 179,
    "start_time": "2024-06-26T11:15:42.366Z"
   },
   {
    "duration": 1385,
    "start_time": "2024-06-26T11:17:46.809Z"
   },
   {
    "duration": 941,
    "start_time": "2024-06-26T11:19:59.380Z"
   },
   {
    "duration": 1241,
    "start_time": "2024-06-26T11:21:01.188Z"
   },
   {
    "duration": 11,
    "start_time": "2024-06-26T11:22:06.381Z"
   },
   {
    "duration": 192,
    "start_time": "2024-06-26T11:22:17.581Z"
   },
   {
    "duration": 200,
    "start_time": "2024-06-26T11:22:51.350Z"
   },
   {
    "duration": 162,
    "start_time": "2024-06-26T11:37:08.626Z"
   },
   {
    "duration": 14,
    "start_time": "2024-06-26T11:39:58.517Z"
   },
   {
    "duration": 183,
    "start_time": "2024-06-26T11:40:59.326Z"
   },
   {
    "duration": 876,
    "start_time": "2024-06-26T11:43:54.609Z"
   },
   {
    "duration": 193,
    "start_time": "2024-06-26T11:44:07.725Z"
   },
   {
    "duration": 77772,
    "start_time": "2024-06-26T11:45:21.947Z"
   },
   {
    "duration": 397,
    "start_time": "2024-06-26T11:46:39.720Z"
   },
   {
    "duration": 0,
    "start_time": "2024-06-26T11:46:40.118Z"
   },
   {
    "duration": 146,
    "start_time": "2024-06-26T11:48:51.989Z"
   },
   {
    "duration": 138,
    "start_time": "2024-06-26T11:54:05.443Z"
   },
   {
    "duration": 217,
    "start_time": "2024-06-26T11:54:23.603Z"
   },
   {
    "duration": 217,
    "start_time": "2024-06-26T11:54:46.796Z"
   },
   {
    "duration": 742,
    "start_time": "2024-06-26T11:55:09.484Z"
   },
   {
    "duration": 146,
    "start_time": "2024-06-26T12:44:40.916Z"
   },
   {
    "duration": 16,
    "start_time": "2024-06-26T12:45:29.076Z"
   },
   {
    "duration": 816,
    "start_time": "2024-06-26T12:47:16.214Z"
   },
   {
    "duration": 176,
    "start_time": "2024-06-26T12:49:16.096Z"
   },
   {
    "duration": 738,
    "start_time": "2024-06-26T12:49:31.966Z"
   },
   {
    "duration": 212,
    "start_time": "2024-06-26T12:50:32.113Z"
   },
   {
    "duration": 1390,
    "start_time": "2024-06-26T12:50:59.496Z"
   },
   {
    "duration": 1016,
    "start_time": "2024-06-26T12:53:42.160Z"
   },
   {
    "duration": 228,
    "start_time": "2024-06-26T12:59:10.891Z"
   },
   {
    "duration": 211,
    "start_time": "2024-06-26T13:00:43.376Z"
   },
   {
    "duration": 230,
    "start_time": "2024-06-26T13:02:31.099Z"
   },
   {
    "duration": 186,
    "start_time": "2024-06-26T13:09:39.582Z"
   },
   {
    "duration": 179,
    "start_time": "2024-06-26T13:10:16.151Z"
   },
   {
    "duration": 149,
    "start_time": "2024-06-26T13:12:30.129Z"
   },
   {
    "duration": 154,
    "start_time": "2024-06-26T13:13:02.105Z"
   },
   {
    "duration": 199,
    "start_time": "2024-06-26T13:13:30.370Z"
   },
   {
    "duration": 157,
    "start_time": "2024-06-26T13:13:39.683Z"
   },
   {
    "duration": 198,
    "start_time": "2024-06-26T13:14:25.483Z"
   },
   {
    "duration": 187,
    "start_time": "2024-06-26T13:14:55.220Z"
   },
   {
    "duration": 173,
    "start_time": "2024-06-26T13:21:29.731Z"
   },
   {
    "duration": 199,
    "start_time": "2024-06-26T13:21:47.402Z"
   },
   {
    "duration": 213,
    "start_time": "2024-06-26T13:23:57.053Z"
   },
   {
    "duration": 239,
    "start_time": "2024-06-26T13:24:33.837Z"
   },
   {
    "duration": 1047,
    "start_time": "2024-06-26T13:34:22.075Z"
   },
   {
    "duration": 1561,
    "start_time": "2024-06-26T13:35:01.604Z"
   },
   {
    "duration": 386,
    "start_time": "2024-06-26T13:35:55.748Z"
   },
   {
    "duration": 101,
    "start_time": "2024-06-26T13:37:51.083Z"
   },
   {
    "duration": 90,
    "start_time": "2024-06-26T13:38:09.870Z"
   },
   {
    "duration": 287,
    "start_time": "2024-06-26T13:38:22.118Z"
   },
   {
    "duration": 688,
    "start_time": "2024-06-26T13:38:43.024Z"
   },
   {
    "duration": 965,
    "start_time": "2024-06-26T13:41:54.492Z"
   },
   {
    "duration": 783,
    "start_time": "2024-06-26T13:47:36.471Z"
   },
   {
    "duration": 2218,
    "start_time": "2024-06-26T13:54:55.319Z"
   },
   {
    "duration": 3,
    "start_time": "2024-06-26T13:54:57.539Z"
   },
   {
    "duration": 144,
    "start_time": "2024-06-26T13:54:57.544Z"
   },
   {
    "duration": 30,
    "start_time": "2024-06-26T13:54:57.691Z"
   },
   {
    "duration": 33,
    "start_time": "2024-06-26T13:54:57.723Z"
   },
   {
    "duration": 48,
    "start_time": "2024-06-26T13:54:57.757Z"
   },
   {
    "duration": 27,
    "start_time": "2024-06-26T13:54:57.807Z"
   },
   {
    "duration": 285,
    "start_time": "2024-06-26T13:54:57.835Z"
   },
   {
    "duration": 390,
    "start_time": "2024-06-26T13:54:58.121Z"
   },
   {
    "duration": 758,
    "start_time": "2024-06-26T13:54:58.514Z"
   },
   {
    "duration": 1037,
    "start_time": "2024-06-26T13:54:59.273Z"
   },
   {
    "duration": 494,
    "start_time": "2024-06-26T13:55:00.312Z"
   },
   {
    "duration": 761,
    "start_time": "2024-06-26T13:55:00.807Z"
   },
   {
    "duration": 84,
    "start_time": "2024-06-26T13:55:01.570Z"
   },
   {
    "duration": 10854,
    "start_time": "2024-06-26T13:55:01.656Z"
   },
   {
    "duration": 3003,
    "start_time": "2024-06-26T13:55:12.512Z"
   },
   {
    "duration": 2635,
    "start_time": "2024-06-26T13:55:15.517Z"
   },
   {
    "duration": 4436,
    "start_time": "2024-06-26T13:55:18.154Z"
   },
   {
    "duration": 14930,
    "start_time": "2024-06-26T13:55:22.592Z"
   },
   {
    "duration": 229,
    "start_time": "2024-06-26T13:55:37.523Z"
   },
   {
    "duration": 167,
    "start_time": "2024-06-26T13:55:37.754Z"
   },
   {
    "duration": 0,
    "start_time": "2024-06-26T13:55:37.922Z"
   },
   {
    "duration": 0,
    "start_time": "2024-06-26T13:55:37.923Z"
   },
   {
    "duration": 0,
    "start_time": "2024-06-26T13:55:37.924Z"
   },
   {
    "duration": 0,
    "start_time": "2024-06-26T13:55:37.925Z"
   },
   {
    "duration": 24,
    "start_time": "2024-06-26T13:59:20.334Z"
   },
   {
    "duration": 29,
    "start_time": "2024-06-26T14:01:48.785Z"
   },
   {
    "duration": 231,
    "start_time": "2024-06-26T14:02:05.481Z"
   },
   {
    "duration": 691,
    "start_time": "2024-06-26T14:03:45.360Z"
   },
   {
    "duration": 411,
    "start_time": "2024-06-26T14:04:57.665Z"
   },
   {
    "duration": 824,
    "start_time": "2024-06-26T14:05:01.264Z"
   },
   {
    "duration": 2298,
    "start_time": "2024-06-26T14:05:23.416Z"
   },
   {
    "duration": 4,
    "start_time": "2024-06-26T14:05:25.716Z"
   },
   {
    "duration": 140,
    "start_time": "2024-06-26T14:05:25.722Z"
   },
   {
    "duration": 48,
    "start_time": "2024-06-26T14:05:25.864Z"
   },
   {
    "duration": 34,
    "start_time": "2024-06-26T14:05:25.914Z"
   },
   {
    "duration": 13,
    "start_time": "2024-06-26T14:05:25.950Z"
   },
   {
    "duration": 40,
    "start_time": "2024-06-26T14:05:25.965Z"
   },
   {
    "duration": 319,
    "start_time": "2024-06-26T14:05:26.007Z"
   },
   {
    "duration": 392,
    "start_time": "2024-06-26T14:05:26.327Z"
   },
   {
    "duration": 833,
    "start_time": "2024-06-26T14:05:26.723Z"
   },
   {
    "duration": 1029,
    "start_time": "2024-06-26T14:05:27.559Z"
   },
   {
    "duration": 457,
    "start_time": "2024-06-26T14:05:28.590Z"
   },
   {
    "duration": 755,
    "start_time": "2024-06-26T14:05:29.049Z"
   },
   {
    "duration": 75,
    "start_time": "2024-06-26T14:05:29.805Z"
   },
   {
    "duration": 12233,
    "start_time": "2024-06-26T14:05:29.881Z"
   },
   {
    "duration": 2986,
    "start_time": "2024-06-26T14:05:42.117Z"
   },
   {
    "duration": 2881,
    "start_time": "2024-06-26T14:05:45.105Z"
   },
   {
    "duration": 3179,
    "start_time": "2024-06-26T14:05:48.002Z"
   },
   {
    "duration": 3961,
    "start_time": "2024-06-26T14:05:51.182Z"
   },
   {
    "duration": 0,
    "start_time": "2024-06-26T14:05:55.145Z"
   },
   {
    "duration": 0,
    "start_time": "2024-06-26T14:05:55.146Z"
   },
   {
    "duration": 0,
    "start_time": "2024-06-26T14:05:55.147Z"
   },
   {
    "duration": 0,
    "start_time": "2024-06-26T14:05:55.149Z"
   },
   {
    "duration": 0,
    "start_time": "2024-06-26T14:05:55.150Z"
   },
   {
    "duration": 0,
    "start_time": "2024-06-26T14:05:55.151Z"
   },
   {
    "duration": 110951,
    "start_time": "2024-06-26T14:09:07.863Z"
   },
   {
    "duration": 2223,
    "start_time": "2024-06-26T14:11:32.537Z"
   },
   {
    "duration": 4,
    "start_time": "2024-06-26T14:11:34.762Z"
   },
   {
    "duration": 165,
    "start_time": "2024-06-26T14:11:34.767Z"
   },
   {
    "duration": 74,
    "start_time": "2024-06-26T14:11:34.934Z"
   },
   {
    "duration": 33,
    "start_time": "2024-06-26T14:11:35.010Z"
   },
   {
    "duration": 23,
    "start_time": "2024-06-26T14:11:35.045Z"
   },
   {
    "duration": 20,
    "start_time": "2024-06-26T14:11:35.070Z"
   },
   {
    "duration": 304,
    "start_time": "2024-06-26T14:11:35.091Z"
   },
   {
    "duration": 376,
    "start_time": "2024-06-26T14:11:35.397Z"
   },
   {
    "duration": 810,
    "start_time": "2024-06-26T14:11:35.776Z"
   },
   {
    "duration": 1010,
    "start_time": "2024-06-26T14:11:36.588Z"
   },
   {
    "duration": 464,
    "start_time": "2024-06-26T14:11:37.601Z"
   },
   {
    "duration": 740,
    "start_time": "2024-06-26T14:11:38.068Z"
   },
   {
    "duration": 92,
    "start_time": "2024-06-26T14:11:38.809Z"
   },
   {
    "duration": 11012,
    "start_time": "2024-06-26T14:11:38.903Z"
   },
   {
    "duration": 2942,
    "start_time": "2024-06-26T14:11:49.917Z"
   },
   {
    "duration": 2805,
    "start_time": "2024-06-26T14:11:52.861Z"
   },
   {
    "duration": 7650,
    "start_time": "2024-06-26T14:11:55.668Z"
   },
   {
    "duration": 233121,
    "start_time": "2024-06-26T14:12:03.320Z"
   },
   {
    "duration": 237,
    "start_time": "2024-06-26T14:15:56.444Z"
   },
   {
    "duration": 649,
    "start_time": "2024-06-26T14:15:56.683Z"
   },
   {
    "duration": 391,
    "start_time": "2024-06-26T14:15:57.334Z"
   },
   {
    "duration": 832,
    "start_time": "2024-06-26T14:15:57.726Z"
   },
   {
    "duration": 232,
    "start_time": "2024-06-26T14:15:58.559Z"
   },
   {
    "duration": 1315,
    "start_time": "2024-06-26T14:15:58.801Z"
   },
   {
    "duration": 432,
    "start_time": "2024-06-27T03:20:05.891Z"
   },
   {
    "duration": 0,
    "start_time": "2024-06-27T03:20:06.325Z"
   },
   {
    "duration": 0,
    "start_time": "2024-06-27T03:20:06.326Z"
   },
   {
    "duration": 0,
    "start_time": "2024-06-27T03:20:06.327Z"
   },
   {
    "duration": 0,
    "start_time": "2024-06-27T03:20:06.328Z"
   },
   {
    "duration": 0,
    "start_time": "2024-06-27T03:20:06.329Z"
   },
   {
    "duration": 0,
    "start_time": "2024-06-27T03:20:06.331Z"
   },
   {
    "duration": 0,
    "start_time": "2024-06-27T03:20:06.332Z"
   },
   {
    "duration": 0,
    "start_time": "2024-06-27T03:20:06.333Z"
   },
   {
    "duration": 0,
    "start_time": "2024-06-27T03:20:06.334Z"
   },
   {
    "duration": 0,
    "start_time": "2024-06-27T03:20:06.336Z"
   },
   {
    "duration": 0,
    "start_time": "2024-06-27T03:20:06.337Z"
   },
   {
    "duration": 0,
    "start_time": "2024-06-27T03:20:06.338Z"
   },
   {
    "duration": 10,
    "start_time": "2024-06-27T03:20:25.150Z"
   },
   {
    "duration": 17,
    "start_time": "2024-06-27T03:20:32.695Z"
   },
   {
    "duration": 2818,
    "start_time": "2024-06-27T03:20:39.038Z"
   },
   {
    "duration": 0,
    "start_time": "2024-06-27T03:20:41.857Z"
   },
   {
    "duration": 339,
    "start_time": "2024-06-27T03:20:42.038Z"
   },
   {
    "duration": 44,
    "start_time": "2024-06-27T03:20:43.301Z"
   },
   {
    "duration": 50,
    "start_time": "2024-06-27T03:20:44.101Z"
   },
   {
    "duration": 8,
    "start_time": "2024-06-27T03:20:44.278Z"
   },
   {
    "duration": 10,
    "start_time": "2024-06-27T03:20:44.629Z"
   },
   {
    "duration": 96,
    "start_time": "2024-06-27T03:21:09.791Z"
   },
   {
    "duration": 11,
    "start_time": "2024-06-27T03:21:16.494Z"
   },
   {
    "duration": 10,
    "start_time": "2024-06-27T03:21:35.712Z"
   },
   {
    "duration": 5,
    "start_time": "2024-06-27T03:21:39.342Z"
   },
   {
    "duration": 3,
    "start_time": "2024-06-27T03:21:40.870Z"
   },
   {
    "duration": 135,
    "start_time": "2024-06-27T03:21:42.886Z"
   },
   {
    "duration": 29,
    "start_time": "2024-06-27T03:21:44.526Z"
   },
   {
    "duration": 41,
    "start_time": "2024-06-27T03:21:46.042Z"
   },
   {
    "duration": 22,
    "start_time": "2024-06-27T03:21:46.350Z"
   },
   {
    "duration": 18,
    "start_time": "2024-06-27T03:21:47.198Z"
   },
   {
    "duration": 87092,
    "start_time": "2024-06-27T03:22:23.764Z"
   },
   {
    "duration": 676,
    "start_time": "2024-06-27T03:23:50.859Z"
   },
   {
    "duration": 0,
    "start_time": "2024-06-27T03:23:51.537Z"
   },
   {
    "duration": 0,
    "start_time": "2024-06-27T03:23:51.538Z"
   },
   {
    "duration": 0,
    "start_time": "2024-06-27T03:23:51.538Z"
   },
   {
    "duration": 0,
    "start_time": "2024-06-27T03:23:51.539Z"
   },
   {
    "duration": 0,
    "start_time": "2024-06-27T03:23:51.540Z"
   },
   {
    "duration": 0,
    "start_time": "2024-06-27T03:23:51.541Z"
   },
   {
    "duration": 0,
    "start_time": "2024-06-27T03:23:51.542Z"
   },
   {
    "duration": 0,
    "start_time": "2024-06-27T03:23:51.542Z"
   },
   {
    "duration": 0,
    "start_time": "2024-06-27T03:23:51.543Z"
   },
   {
    "duration": 0,
    "start_time": "2024-06-27T03:23:51.544Z"
   },
   {
    "duration": 0,
    "start_time": "2024-06-27T03:23:51.545Z"
   },
   {
    "duration": 0,
    "start_time": "2024-06-27T03:23:51.546Z"
   },
   {
    "duration": 28151,
    "start_time": "2024-06-27T03:25:15.928Z"
   },
   {
    "duration": 2295,
    "start_time": "2024-06-27T03:25:44.085Z"
   },
   {
    "duration": 3,
    "start_time": "2024-06-27T03:25:46.382Z"
   },
   {
    "duration": 163,
    "start_time": "2024-06-27T03:25:46.388Z"
   },
   {
    "duration": 63,
    "start_time": "2024-06-27T03:25:46.553Z"
   },
   {
    "duration": 31,
    "start_time": "2024-06-27T03:25:46.618Z"
   },
   {
    "duration": 12,
    "start_time": "2024-06-27T03:25:46.651Z"
   },
   {
    "duration": 48,
    "start_time": "2024-06-27T03:25:46.664Z"
   },
   {
    "duration": 305,
    "start_time": "2024-06-27T03:25:46.714Z"
   },
   {
    "duration": 450,
    "start_time": "2024-06-27T03:25:47.022Z"
   },
   {
    "duration": 874,
    "start_time": "2024-06-27T03:25:47.474Z"
   },
   {
    "duration": 1058,
    "start_time": "2024-06-27T03:25:48.349Z"
   },
   {
    "duration": 441,
    "start_time": "2024-06-27T03:25:49.408Z"
   },
   {
    "duration": 796,
    "start_time": "2024-06-27T03:25:49.851Z"
   },
   {
    "duration": 87,
    "start_time": "2024-06-27T03:25:50.649Z"
   },
   {
    "duration": 11314,
    "start_time": "2024-06-27T03:25:50.738Z"
   },
   {
    "duration": 2768,
    "start_time": "2024-06-27T03:26:02.054Z"
   },
   {
    "duration": 2587,
    "start_time": "2024-06-27T03:26:04.825Z"
   },
   {
    "duration": 12822,
    "start_time": "2024-06-27T03:26:07.414Z"
   },
   {
    "duration": 235556,
    "start_time": "2024-06-27T03:26:20.238Z"
   },
   {
    "duration": 247,
    "start_time": "2024-06-27T03:30:15.796Z"
   },
   {
    "duration": 628,
    "start_time": "2024-06-27T03:30:16.044Z"
   },
   {
    "duration": 409,
    "start_time": "2024-06-27T03:30:16.673Z"
   },
   {
    "duration": 832,
    "start_time": "2024-06-27T03:30:17.083Z"
   },
   {
    "duration": 224,
    "start_time": "2024-06-27T03:30:17.917Z"
   },
   {
    "duration": 1351,
    "start_time": "2024-06-27T03:30:18.143Z"
   },
   {
    "duration": 5,
    "start_time": "2024-06-27T03:52:01.981Z"
   },
   {
    "duration": 166,
    "start_time": "2024-06-27T03:52:17.804Z"
   },
   {
    "duration": 3,
    "start_time": "2024-06-27T03:53:51.533Z"
   },
   {
    "duration": 5,
    "start_time": "2024-06-27T03:54:11.029Z"
   },
   {
    "duration": 397,
    "start_time": "2024-06-27T03:55:52.300Z"
   },
   {
    "duration": 10,
    "start_time": "2024-06-27T03:56:37.612Z"
   },
   {
    "duration": 47,
    "start_time": "2024-06-27T05:07:55.697Z"
   },
   {
    "duration": 18736,
    "start_time": "2024-06-27T07:41:55.821Z"
   },
   {
    "duration": 0,
    "start_time": "2024-06-27T07:42:14.560Z"
   },
   {
    "duration": 0,
    "start_time": "2024-06-27T07:42:14.561Z"
   },
   {
    "duration": 0,
    "start_time": "2024-06-27T07:42:14.563Z"
   },
   {
    "duration": 0,
    "start_time": "2024-06-27T07:42:14.564Z"
   },
   {
    "duration": 0,
    "start_time": "2024-06-27T07:42:14.565Z"
   },
   {
    "duration": 0,
    "start_time": "2024-06-27T07:42:14.566Z"
   },
   {
    "duration": 0,
    "start_time": "2024-06-27T07:42:14.568Z"
   },
   {
    "duration": 0,
    "start_time": "2024-06-27T07:42:14.569Z"
   },
   {
    "duration": 0,
    "start_time": "2024-06-27T07:42:14.571Z"
   },
   {
    "duration": 0,
    "start_time": "2024-06-27T07:42:14.584Z"
   },
   {
    "duration": 0,
    "start_time": "2024-06-27T07:42:14.585Z"
   },
   {
    "duration": 0,
    "start_time": "2024-06-27T07:42:14.586Z"
   },
   {
    "duration": 0,
    "start_time": "2024-06-27T07:42:14.587Z"
   },
   {
    "duration": 0,
    "start_time": "2024-06-27T07:42:14.588Z"
   },
   {
    "duration": 1,
    "start_time": "2024-06-27T07:42:14.589Z"
   },
   {
    "duration": 0,
    "start_time": "2024-06-27T07:42:14.591Z"
   },
   {
    "duration": 0,
    "start_time": "2024-06-27T07:42:14.592Z"
   },
   {
    "duration": 0,
    "start_time": "2024-06-27T07:42:14.593Z"
   },
   {
    "duration": 0,
    "start_time": "2024-06-27T07:42:14.594Z"
   },
   {
    "duration": 0,
    "start_time": "2024-06-27T07:42:14.595Z"
   },
   {
    "duration": 0,
    "start_time": "2024-06-27T07:42:14.596Z"
   },
   {
    "duration": 0,
    "start_time": "2024-06-27T07:42:14.597Z"
   },
   {
    "duration": 0,
    "start_time": "2024-06-27T07:42:14.599Z"
   },
   {
    "duration": 0,
    "start_time": "2024-06-27T07:42:14.600Z"
   },
   {
    "duration": 0,
    "start_time": "2024-06-27T07:42:14.605Z"
   },
   {
    "duration": 0,
    "start_time": "2024-06-27T07:42:14.608Z"
   },
   {
    "duration": 12097,
    "start_time": "2024-06-27T07:44:59.594Z"
   },
   {
    "duration": 2135,
    "start_time": "2024-06-27T07:45:11.693Z"
   },
   {
    "duration": 4,
    "start_time": "2024-06-27T07:45:13.830Z"
   },
   {
    "duration": 342,
    "start_time": "2024-06-27T07:45:13.837Z"
   },
   {
    "duration": 87,
    "start_time": "2024-06-27T07:45:14.181Z"
   },
   {
    "duration": 65,
    "start_time": "2024-06-27T07:45:14.270Z"
   },
   {
    "duration": 43,
    "start_time": "2024-06-27T07:45:14.337Z"
   },
   {
    "duration": 152,
    "start_time": "2024-06-27T07:45:14.382Z"
   },
   {
    "duration": 0,
    "start_time": "2024-06-27T07:45:14.536Z"
   },
   {
    "duration": 0,
    "start_time": "2024-06-27T07:45:14.537Z"
   },
   {
    "duration": 0,
    "start_time": "2024-06-27T07:45:14.538Z"
   },
   {
    "duration": 0,
    "start_time": "2024-06-27T07:45:14.539Z"
   },
   {
    "duration": 0,
    "start_time": "2024-06-27T07:45:14.540Z"
   },
   {
    "duration": 0,
    "start_time": "2024-06-27T07:45:14.541Z"
   },
   {
    "duration": 0,
    "start_time": "2024-06-27T07:45:14.542Z"
   },
   {
    "duration": 0,
    "start_time": "2024-06-27T07:45:14.543Z"
   },
   {
    "duration": 0,
    "start_time": "2024-06-27T07:45:14.544Z"
   },
   {
    "duration": 0,
    "start_time": "2024-06-27T07:45:14.545Z"
   },
   {
    "duration": 0,
    "start_time": "2024-06-27T07:45:14.546Z"
   },
   {
    "duration": 0,
    "start_time": "2024-06-27T07:45:14.565Z"
   },
   {
    "duration": 0,
    "start_time": "2024-06-27T07:45:14.566Z"
   },
   {
    "duration": 0,
    "start_time": "2024-06-27T07:45:14.567Z"
   },
   {
    "duration": 0,
    "start_time": "2024-06-27T07:45:14.569Z"
   },
   {
    "duration": 0,
    "start_time": "2024-06-27T07:45:14.570Z"
   },
   {
    "duration": 0,
    "start_time": "2024-06-27T07:45:14.571Z"
   },
   {
    "duration": 0,
    "start_time": "2024-06-27T07:45:14.572Z"
   },
   {
    "duration": 0,
    "start_time": "2024-06-27T07:45:14.573Z"
   },
   {
    "duration": 15,
    "start_time": "2024-06-27T07:47:17.823Z"
   },
   {
    "duration": 14,
    "start_time": "2024-06-27T07:47:25.905Z"
   },
   {
    "duration": 14,
    "start_time": "2024-06-27T07:49:38.297Z"
   },
   {
    "duration": 15,
    "start_time": "2024-06-27T07:52:45.981Z"
   },
   {
    "duration": 14,
    "start_time": "2024-06-27T07:54:43.774Z"
   },
   {
    "duration": 13982,
    "start_time": "2024-06-27T08:01:30.196Z"
   },
   {
    "duration": 7,
    "start_time": "2024-06-27T08:02:11.268Z"
   },
   {
    "duration": 6,
    "start_time": "2024-06-27T08:02:15.108Z"
   },
   {
    "duration": 3,
    "start_time": "2024-06-27T08:02:16.707Z"
   },
   {
    "duration": 156,
    "start_time": "2024-06-27T08:02:30.180Z"
   },
   {
    "duration": 40,
    "start_time": "2024-06-27T08:02:37.843Z"
   },
   {
    "duration": 53,
    "start_time": "2024-06-27T08:02:52.053Z"
   },
   {
    "duration": 33,
    "start_time": "2024-06-27T08:02:58.197Z"
   },
   {
    "duration": 22,
    "start_time": "2024-06-27T08:03:08.261Z"
   },
   {
    "duration": 13,
    "start_time": "2024-06-27T08:04:23.438Z"
   },
   {
    "duration": 389,
    "start_time": "2024-06-27T08:04:29.422Z"
   },
   {
    "duration": 620,
    "start_time": "2024-06-27T08:04:33.239Z"
   },
   {
    "duration": 910,
    "start_time": "2024-06-27T08:04:37.526Z"
   },
   {
    "duration": 1094,
    "start_time": "2024-06-27T08:06:10.311Z"
   },
   {
    "duration": 1157,
    "start_time": "2024-06-27T08:07:14.636Z"
   },
   {
    "duration": 1102,
    "start_time": "2024-06-27T08:09:16.379Z"
   },
   {
    "duration": 1185,
    "start_time": "2024-06-27T08:09:41.798Z"
   },
   {
    "duration": 1036,
    "start_time": "2024-06-27T08:11:38.886Z"
   },
   {
    "duration": 619,
    "start_time": "2024-06-27T08:11:55.823Z"
   },
   {
    "duration": 1122,
    "start_time": "2024-06-27T08:12:28.169Z"
   },
   {
    "duration": 1071,
    "start_time": "2024-06-27T08:13:38.522Z"
   },
   {
    "duration": 640,
    "start_time": "2024-06-27T08:14:30.259Z"
   },
   {
    "duration": 146,
    "start_time": "2024-06-27T08:16:04.643Z"
   },
   {
    "duration": 1059,
    "start_time": "2024-06-27T08:19:12.980Z"
   },
   {
    "duration": 76,
    "start_time": "2024-06-27T08:23:14.960Z"
   },
   {
    "duration": 1123,
    "start_time": "2024-06-27T08:23:23.336Z"
   },
   {
    "duration": 1093,
    "start_time": "2024-06-27T08:25:25.164Z"
   },
   {
    "duration": 28,
    "start_time": "2024-06-27T08:26:21.829Z"
   },
   {
    "duration": 19,
    "start_time": "2024-06-27T08:27:28.283Z"
   },
   {
    "duration": 21,
    "start_time": "2024-06-27T08:31:19.910Z"
   },
   {
    "duration": 1060,
    "start_time": "2024-06-27T08:32:11.967Z"
   },
   {
    "duration": 629,
    "start_time": "2024-06-27T08:32:43.496Z"
   },
   {
    "duration": 871,
    "start_time": "2024-06-27T08:32:51.239Z"
   },
   {
    "duration": 183,
    "start_time": "2024-06-27T08:33:37.656Z"
   },
   {
    "duration": 108,
    "start_time": "2024-06-27T08:34:11.730Z"
   },
   {
    "duration": 10244,
    "start_time": "2024-06-27T08:35:16.746Z"
   },
   {
    "duration": 2156,
    "start_time": "2024-06-27T09:14:19.487Z"
   },
   {
    "duration": 43,
    "start_time": "2024-06-27T10:09:59.680Z"
   },
   {
    "duration": 320,
    "start_time": "2024-06-27T10:10:35.710Z"
   },
   {
    "duration": 22,
    "start_time": "2024-06-27T10:11:32.111Z"
   },
   {
    "duration": 21,
    "start_time": "2024-06-27T10:33:46.555Z"
   },
   {
    "duration": 25,
    "start_time": "2024-06-27T10:34:43.019Z"
   },
   {
    "duration": 21,
    "start_time": "2024-06-27T10:39:18.727Z"
   },
   {
    "duration": 19,
    "start_time": "2024-06-27T10:40:33.681Z"
   },
   {
    "duration": 1154,
    "start_time": "2024-06-27T10:42:31.162Z"
   },
   {
    "duration": 2546,
    "start_time": "2024-06-27T10:42:58.161Z"
   },
   {
    "duration": 68,
    "start_time": "2024-06-27T10:45:49.413Z"
   },
   {
    "duration": 10795,
    "start_time": "2024-06-27T10:46:13.685Z"
   },
   {
    "duration": 4499,
    "start_time": "2024-06-27T10:47:30.774Z"
   },
   {
    "duration": 4502,
    "start_time": "2024-06-27T10:49:11.273Z"
   },
   {
    "duration": 7,
    "start_time": "2024-06-27T10:53:44.004Z"
   },
   {
    "duration": 30,
    "start_time": "2024-06-27T10:54:15.604Z"
   },
   {
    "duration": 81,
    "start_time": "2024-06-27T10:57:27.984Z"
   },
   {
    "duration": 79664,
    "start_time": "2024-06-27T10:57:46.342Z"
   },
   {
    "duration": 8,
    "start_time": "2024-06-27T10:59:06.009Z"
   },
   {
    "duration": 54,
    "start_time": "2024-06-27T10:59:06.018Z"
   },
   {
    "duration": 9,
    "start_time": "2024-06-27T10:59:49.800Z"
   },
   {
    "duration": 3,
    "start_time": "2024-06-27T10:59:54.776Z"
   },
   {
    "duration": 37,
    "start_time": "2024-06-27T11:00:06.984Z"
   },
   {
    "duration": 12,
    "start_time": "2024-06-27T11:00:22.122Z"
   },
   {
    "duration": 14,
    "start_time": "2024-06-27T11:00:35.266Z"
   },
   {
    "duration": 13,
    "start_time": "2024-06-27T11:00:38.082Z"
   },
   {
    "duration": 371,
    "start_time": "2024-06-27T11:02:37.068Z"
   },
   {
    "duration": 14,
    "start_time": "2024-06-27T11:35:50.834Z"
   },
   {
    "duration": 260,
    "start_time": "2024-06-27T11:36:36.299Z"
   },
   {
    "duration": 19,
    "start_time": "2024-06-27T11:38:52.996Z"
   },
   {
    "duration": 189,
    "start_time": "2024-06-27T11:42:11.687Z"
   },
   {
    "duration": 169,
    "start_time": "2024-06-27T11:42:56.530Z"
   },
   {
    "duration": 152,
    "start_time": "2024-06-27T11:43:40.075Z"
   },
   {
    "duration": 300,
    "start_time": "2024-06-27T11:43:49.640Z"
   },
   {
    "duration": 266,
    "start_time": "2024-06-27T11:44:52.584Z"
   },
   {
    "duration": 26548,
    "start_time": "2024-06-27T12:56:33.679Z"
   },
   {
    "duration": 2124,
    "start_time": "2024-06-27T12:57:00.230Z"
   },
   {
    "duration": 4,
    "start_time": "2024-06-27T12:57:02.356Z"
   },
   {
    "duration": 143,
    "start_time": "2024-06-27T12:57:02.365Z"
   },
   {
    "duration": 67,
    "start_time": "2024-06-27T12:57:02.510Z"
   },
   {
    "duration": 112,
    "start_time": "2024-06-27T12:57:02.578Z"
   },
   {
    "duration": 14,
    "start_time": "2024-06-27T12:57:02.692Z"
   },
   {
    "duration": 34,
    "start_time": "2024-06-27T12:57:02.708Z"
   },
   {
    "duration": 465,
    "start_time": "2024-06-27T12:57:02.744Z"
   },
   {
    "duration": 480,
    "start_time": "2024-06-27T12:57:03.213Z"
   },
   {
    "duration": 830,
    "start_time": "2024-06-27T12:57:03.694Z"
   },
   {
    "duration": 1224,
    "start_time": "2024-06-27T12:57:04.526Z"
   },
   {
    "duration": 540,
    "start_time": "2024-06-27T12:57:05.751Z"
   },
   {
    "duration": 1053,
    "start_time": "2024-06-27T12:57:06.294Z"
   },
   {
    "duration": 90,
    "start_time": "2024-06-27T12:57:07.349Z"
   },
   {
    "duration": 7971,
    "start_time": "2024-06-27T12:57:07.441Z"
   },
   {
    "duration": 0,
    "start_time": "2024-06-27T12:57:15.414Z"
   },
   {
    "duration": 0,
    "start_time": "2024-06-27T12:57:15.416Z"
   },
   {
    "duration": 0,
    "start_time": "2024-06-27T12:57:15.417Z"
   },
   {
    "duration": 0,
    "start_time": "2024-06-27T12:57:15.419Z"
   },
   {
    "duration": 0,
    "start_time": "2024-06-27T12:57:15.420Z"
   },
   {
    "duration": 0,
    "start_time": "2024-06-27T12:57:15.421Z"
   },
   {
    "duration": 0,
    "start_time": "2024-06-27T12:57:15.423Z"
   },
   {
    "duration": 0,
    "start_time": "2024-06-27T12:57:15.424Z"
   },
   {
    "duration": 0,
    "start_time": "2024-06-27T12:57:15.425Z"
   },
   {
    "duration": 0,
    "start_time": "2024-06-27T12:57:15.427Z"
   },
   {
    "duration": 0,
    "start_time": "2024-06-27T12:57:15.427Z"
   },
   {
    "duration": 0,
    "start_time": "2024-06-27T12:57:15.429Z"
   },
   {
    "duration": 0,
    "start_time": "2024-06-27T12:57:15.430Z"
   },
   {
    "duration": 71,
    "start_time": "2024-06-27T13:00:57.706Z"
   },
   {
    "duration": 7470,
    "start_time": "2024-06-27T13:01:12.903Z"
   },
   {
    "duration": 3813,
    "start_time": "2024-06-27T13:05:54.366Z"
   },
   {
    "duration": 6049,
    "start_time": "2024-06-27T13:07:34.566Z"
   },
   {
    "duration": 5838,
    "start_time": "2024-06-27T13:07:51.888Z"
   },
   {
    "duration": 6047,
    "start_time": "2024-06-27T13:08:53.740Z"
   },
   {
    "duration": 36,
    "start_time": "2024-06-27T13:12:12.306Z"
   },
   {
    "duration": 32,
    "start_time": "2024-06-27T13:12:50.147Z"
   },
   {
    "duration": 32,
    "start_time": "2024-06-27T13:13:26.611Z"
   },
   {
    "duration": 128,
    "start_time": "2024-06-27T13:14:46.084Z"
   },
   {
    "duration": 43,
    "start_time": "2024-06-27T13:14:53.892Z"
   },
   {
    "duration": 38,
    "start_time": "2024-06-27T13:14:58.276Z"
   },
   {
    "duration": 19,
    "start_time": "2024-06-27T13:15:02.459Z"
   },
   {
    "duration": 519,
    "start_time": "2024-06-27T13:15:36.902Z"
   },
   {
    "duration": 226,
    "start_time": "2024-06-27T13:15:48.317Z"
   },
   {
    "duration": 31,
    "start_time": "2024-06-27T13:16:03.741Z"
   },
   {
    "duration": 33,
    "start_time": "2024-06-27T13:16:51.678Z"
   },
   {
    "duration": 15,
    "start_time": "2024-06-27T13:18:25.335Z"
   },
   {
    "duration": 24,
    "start_time": "2024-06-27T13:18:49.008Z"
   },
   {
    "duration": 26,
    "start_time": "2024-06-27T13:19:01.103Z"
   },
   {
    "duration": 17,
    "start_time": "2024-06-27T13:19:12.240Z"
   },
   {
    "duration": 17,
    "start_time": "2024-06-27T13:19:44.584Z"
   },
   {
    "duration": 1476,
    "start_time": "2024-06-27T13:19:50.199Z"
   },
   {
    "duration": 78,
    "start_time": "2024-06-27T13:21:49.786Z"
   },
   {
    "duration": 75,
    "start_time": "2024-06-27T13:22:05.122Z"
   },
   {
    "duration": 117,
    "start_time": "2024-06-27T13:22:46.482Z"
   },
   {
    "duration": 2064,
    "start_time": "2024-06-27T13:23:36.307Z"
   },
   {
    "duration": 85,
    "start_time": "2024-06-27T13:25:38.509Z"
   },
   {
    "duration": 5073,
    "start_time": "2024-06-27T13:25:46.276Z"
   },
   {
    "duration": 37905,
    "start_time": "2024-06-27T13:27:47.208Z"
   },
   {
    "duration": 7308,
    "start_time": "2024-06-27T13:36:30.750Z"
   },
   {
    "duration": 5036,
    "start_time": "2024-06-27T13:37:54.424Z"
   },
   {
    "duration": 4591,
    "start_time": "2024-06-27T13:47:50.857Z"
   },
   {
    "duration": 22,
    "start_time": "2024-06-27T13:48:36.312Z"
   },
   {
    "duration": 22,
    "start_time": "2024-06-27T13:48:52.809Z"
   },
   {
    "duration": 46,
    "start_time": "2024-06-27T14:02:01.158Z"
   },
   {
    "duration": 19,
    "start_time": "2024-06-27T14:25:57.827Z"
   },
   {
    "duration": 18,
    "start_time": "2024-06-27T14:31:33.680Z"
   },
   {
    "duration": 97762,
    "start_time": "2024-06-28T14:53:35.160Z"
   },
   {
    "duration": 1981,
    "start_time": "2024-06-28T14:55:12.923Z"
   },
   {
    "duration": 3,
    "start_time": "2024-06-28T14:55:14.905Z"
   },
   {
    "duration": 361,
    "start_time": "2024-06-28T14:55:14.910Z"
   },
   {
    "duration": 31,
    "start_time": "2024-06-28T14:55:15.272Z"
   },
   {
    "duration": 35,
    "start_time": "2024-06-28T14:55:15.305Z"
   },
   {
    "duration": 17,
    "start_time": "2024-06-28T14:55:15.341Z"
   },
   {
    "duration": 26,
    "start_time": "2024-06-28T14:55:15.359Z"
   },
   {
    "duration": 321,
    "start_time": "2024-06-28T14:55:15.386Z"
   },
   {
    "duration": 507,
    "start_time": "2024-06-28T14:55:15.709Z"
   },
   {
    "duration": 692,
    "start_time": "2024-06-28T14:55:16.218Z"
   },
   {
    "duration": 987,
    "start_time": "2024-06-28T14:55:16.912Z"
   },
   {
    "duration": 442,
    "start_time": "2024-06-28T14:55:17.902Z"
   },
   {
    "duration": 833,
    "start_time": "2024-06-28T14:55:18.345Z"
   },
   {
    "duration": 77,
    "start_time": "2024-06-28T14:55:19.179Z"
   },
   {
    "duration": 6628,
    "start_time": "2024-06-28T14:55:19.257Z"
   },
   {
    "duration": 147,
    "start_time": "2024-06-28T14:55:25.886Z"
   },
   {
    "duration": 0,
    "start_time": "2024-06-28T14:55:26.034Z"
   },
   {
    "duration": 0,
    "start_time": "2024-06-28T14:55:26.035Z"
   },
   {
    "duration": 0,
    "start_time": "2024-06-28T14:55:26.036Z"
   },
   {
    "duration": 0,
    "start_time": "2024-06-28T14:55:26.037Z"
   },
   {
    "duration": 0,
    "start_time": "2024-06-28T14:55:26.038Z"
   },
   {
    "duration": 0,
    "start_time": "2024-06-28T14:55:26.039Z"
   },
   {
    "duration": 0,
    "start_time": "2024-06-28T14:55:26.040Z"
   },
   {
    "duration": 0,
    "start_time": "2024-06-28T14:55:26.040Z"
   },
   {
    "duration": 0,
    "start_time": "2024-06-28T14:55:26.041Z"
   },
   {
    "duration": 0,
    "start_time": "2024-06-28T14:55:26.042Z"
   },
   {
    "duration": 0,
    "start_time": "2024-06-28T14:55:26.043Z"
   },
   {
    "duration": 0,
    "start_time": "2024-06-28T14:55:26.044Z"
   },
   {
    "duration": 14,
    "start_time": "2024-06-28T14:56:29.927Z"
   },
   {
    "duration": 1233,
    "start_time": "2024-06-28T14:56:40.543Z"
   },
   {
    "duration": 1973,
    "start_time": "2024-06-28T14:58:22.551Z"
   },
   {
    "duration": 10177,
    "start_time": "2024-06-28T14:58:52.985Z"
   },
   {
    "duration": 91,
    "start_time": "2024-06-28T15:00:19.202Z"
   },
   {
    "duration": 5627,
    "start_time": "2024-06-28T15:00:48.424Z"
   },
   {
    "duration": 108952,
    "start_time": "2024-06-28T15:01:20.714Z"
   },
   {
    "duration": 15,
    "start_time": "2024-06-28T15:03:09.668Z"
   },
   {
    "duration": 0,
    "start_time": "2024-06-28T15:03:09.685Z"
   },
   {
    "duration": 0,
    "start_time": "2024-06-28T15:03:09.686Z"
   },
   {
    "duration": 0,
    "start_time": "2024-06-28T15:03:09.701Z"
   },
   {
    "duration": 0,
    "start_time": "2024-06-28T15:03:09.702Z"
   },
   {
    "duration": 213,
    "start_time": "2024-06-28T15:04:47.613Z"
   },
   {
    "duration": 108,
    "start_time": "2024-06-28T15:05:23.710Z"
   },
   {
    "duration": 20,
    "start_time": "2024-06-28T16:16:21.737Z"
   },
   {
    "duration": 15,
    "start_time": "2024-06-28T16:18:05.043Z"
   },
   {
    "duration": 18,
    "start_time": "2024-06-28T16:18:25.971Z"
   },
   {
    "duration": 21,
    "start_time": "2024-06-28T16:31:30.812Z"
   },
   {
    "duration": 20,
    "start_time": "2024-06-28T16:33:13.142Z"
   },
   {
    "duration": 23,
    "start_time": "2024-06-28T16:34:30.959Z"
   },
   {
    "duration": 21,
    "start_time": "2024-06-28T16:40:04.035Z"
   },
   {
    "duration": 21,
    "start_time": "2024-06-28T16:42:19.188Z"
   },
   {
    "duration": 22,
    "start_time": "2024-06-28T16:43:41.141Z"
   },
   {
    "duration": 26,
    "start_time": "2024-06-28T16:44:06.726Z"
   },
   {
    "duration": 22,
    "start_time": "2024-06-28T16:45:18.471Z"
   },
   {
    "duration": 23,
    "start_time": "2024-06-28T16:48:13.080Z"
   },
   {
    "duration": 18,
    "start_time": "2024-06-28T16:50:18.786Z"
   },
   {
    "duration": 17,
    "start_time": "2024-06-28T16:50:32.114Z"
   },
   {
    "duration": 22,
    "start_time": "2024-06-28T16:50:52.018Z"
   },
   {
    "duration": 22,
    "start_time": "2024-06-28T16:52:02.804Z"
   },
   {
    "duration": 29,
    "start_time": "2024-06-28T16:55:35.118Z"
   },
   {
    "duration": 27,
    "start_time": "2024-06-28T17:07:46.033Z"
   },
   {
    "duration": 25,
    "start_time": "2024-06-28T17:08:19.512Z"
   },
   {
    "duration": 38,
    "start_time": "2024-06-28T17:10:00.297Z"
   },
   {
    "duration": 23,
    "start_time": "2024-06-28T17:10:27.570Z"
   },
   {
    "duration": 24,
    "start_time": "2024-06-28T17:11:06.043Z"
   },
   {
    "duration": 25,
    "start_time": "2024-06-28T17:11:26.539Z"
   },
   {
    "duration": 23,
    "start_time": "2024-06-28T17:12:27.371Z"
   },
   {
    "duration": 30,
    "start_time": "2024-06-28T17:15:42.599Z"
   },
   {
    "duration": 309,
    "start_time": "2024-06-28T17:16:23.494Z"
   },
   {
    "duration": 1010,
    "start_time": "2024-06-28T17:20:24.515Z"
   },
   {
    "duration": 2310,
    "start_time": "2024-06-28T17:26:34.695Z"
   },
   {
    "duration": 64,
    "start_time": "2024-06-28T17:27:49.072Z"
   },
   {
    "duration": 27218,
    "start_time": "2024-06-28T17:30:15.339Z"
   },
   {
    "duration": 4483,
    "start_time": "2024-06-28T17:30:42.559Z"
   },
   {
    "duration": 4,
    "start_time": "2024-06-28T17:30:47.044Z"
   },
   {
    "duration": 376,
    "start_time": "2024-06-28T17:30:47.051Z"
   },
   {
    "duration": 73,
    "start_time": "2024-06-28T17:30:47.429Z"
   },
   {
    "duration": 46,
    "start_time": "2024-06-28T17:30:47.504Z"
   },
   {
    "duration": 75,
    "start_time": "2024-06-28T17:30:47.554Z"
   },
   {
    "duration": 13,
    "start_time": "2024-06-28T17:30:47.631Z"
   },
   {
    "duration": 388,
    "start_time": "2024-06-28T17:30:47.645Z"
   },
   {
    "duration": 393,
    "start_time": "2024-06-28T17:30:48.036Z"
   },
   {
    "duration": 694,
    "start_time": "2024-06-28T17:30:48.431Z"
   },
   {
    "duration": 991,
    "start_time": "2024-06-28T17:30:49.127Z"
   },
   {
    "duration": 441,
    "start_time": "2024-06-28T17:30:50.120Z"
   },
   {
    "duration": 846,
    "start_time": "2024-06-28T17:30:50.563Z"
   },
   {
    "duration": 59,
    "start_time": "2024-06-28T17:30:51.410Z"
   },
   {
    "duration": 5070,
    "start_time": "2024-06-28T17:30:51.471Z"
   },
   {
    "duration": 13,
    "start_time": "2024-06-28T17:30:56.543Z"
   },
   {
    "duration": 1767,
    "start_time": "2024-06-28T17:30:56.558Z"
   },
   {
    "duration": 2202,
    "start_time": "2024-06-28T17:30:58.327Z"
   },
   {
    "duration": 8882,
    "start_time": "2024-06-28T17:31:00.531Z"
   },
   {
    "duration": 207988,
    "start_time": "2024-06-28T17:31:09.415Z"
   },
   {
    "duration": 215,
    "start_time": "2024-06-28T17:34:37.405Z"
   },
   {
    "duration": 324,
    "start_time": "2024-06-28T17:34:37.622Z"
   },
   {
    "duration": 202,
    "start_time": "2024-06-28T17:34:37.948Z"
   },
   {
    "duration": 0,
    "start_time": "2024-06-28T17:34:38.152Z"
   },
   {
    "duration": 0,
    "start_time": "2024-06-28T17:34:38.153Z"
   },
   {
    "duration": 0,
    "start_time": "2024-06-28T17:34:38.155Z"
   },
   {
    "duration": 0,
    "start_time": "2024-06-28T17:34:38.157Z"
   },
   {
    "duration": 0,
    "start_time": "2024-06-28T17:34:38.158Z"
   },
   {
    "duration": 0,
    "start_time": "2024-06-28T17:34:38.160Z"
   },
   {
    "duration": 1033,
    "start_time": "2024-06-28T17:36:38.967Z"
   },
   {
    "duration": 17,
    "start_time": "2024-06-28T17:38:07.106Z"
   },
   {
    "duration": 18,
    "start_time": "2024-06-28T17:38:33.395Z"
   },
   {
    "duration": 19,
    "start_time": "2024-06-28T17:39:28.137Z"
   },
   {
    "duration": 15,
    "start_time": "2024-06-28T17:39:50.290Z"
   },
   {
    "duration": 333,
    "start_time": "2024-06-28T17:39:58.762Z"
   },
   {
    "duration": 884,
    "start_time": "2024-06-28T17:40:25.107Z"
   },
   {
    "duration": 20,
    "start_time": "2024-06-28T17:43:18.548Z"
   },
   {
    "duration": 234,
    "start_time": "2024-06-28T17:43:27.624Z"
   },
   {
    "duration": 31,
    "start_time": "2024-06-28T17:43:41.555Z"
   },
   {
    "duration": 19,
    "start_time": "2024-06-28T17:44:40.694Z"
   },
   {
    "duration": 242,
    "start_time": "2024-06-28T17:44:47.672Z"
   },
   {
    "duration": 325,
    "start_time": "2024-06-28T17:44:58.827Z"
   },
   {
    "duration": 69,
    "start_time": "2024-06-28T17:45:36.911Z"
   },
   {
    "duration": 27,
    "start_time": "2024-06-28T17:48:48.602Z"
   },
   {
    "duration": 15,
    "start_time": "2024-06-28T17:54:23.766Z"
   },
   {
    "duration": 240,
    "start_time": "2024-06-28T17:54:31.785Z"
   },
   {
    "duration": 28,
    "start_time": "2024-06-28T17:55:37.383Z"
   },
   {
    "duration": 25,
    "start_time": "2024-06-28T17:57:10.097Z"
   },
   {
    "duration": 913,
    "start_time": "2024-06-28T17:58:18.978Z"
   },
   {
    "duration": 882,
    "start_time": "2024-06-28T19:04:50.803Z"
   },
   {
    "duration": 812,
    "start_time": "2024-06-28T19:08:43.573Z"
   },
   {
    "duration": 900,
    "start_time": "2024-06-28T19:11:03.909Z"
   },
   {
    "duration": 848,
    "start_time": "2024-06-28T19:13:36.584Z"
   },
   {
    "duration": 911,
    "start_time": "2024-06-28T19:18:41.052Z"
   },
   {
    "duration": 53,
    "start_time": "2024-06-28T19:23:10.639Z"
   },
   {
    "duration": 69,
    "start_time": "2024-06-28T19:23:47.408Z"
   },
   {
    "duration": 61,
    "start_time": "2024-06-28T19:24:35.696Z"
   },
   {
    "duration": 244,
    "start_time": "2024-06-28T19:25:05.388Z"
   },
   {
    "duration": 281,
    "start_time": "2024-06-28T19:25:12.338Z"
   },
   {
    "duration": 249,
    "start_time": "2024-06-28T19:26:39.173Z"
   },
   {
    "duration": 162,
    "start_time": "2024-06-28T19:26:51.829Z"
   },
   {
    "duration": 208,
    "start_time": "2024-06-28T19:27:17.620Z"
   },
   {
    "duration": 254,
    "start_time": "2024-06-28T19:27:29.590Z"
   },
   {
    "duration": 207,
    "start_time": "2024-06-28T19:27:35.215Z"
   },
   {
    "duration": 487,
    "start_time": "2024-06-28T19:28:19.021Z"
   },
   {
    "duration": 21,
    "start_time": "2024-06-28T19:32:35.258Z"
   },
   {
    "duration": 246,
    "start_time": "2024-06-28T19:32:43.882Z"
   },
   {
    "duration": 17,
    "start_time": "2024-06-28T19:32:53.192Z"
   },
   {
    "duration": 11,
    "start_time": "2024-06-28T19:34:23.837Z"
   },
   {
    "duration": 10,
    "start_time": "2024-06-28T19:36:25.595Z"
   },
   {
    "duration": 12,
    "start_time": "2024-06-28T19:37:02.162Z"
   },
   {
    "duration": 1339,
    "start_time": "2024-06-28T19:37:51.387Z"
   },
   {
    "duration": 242,
    "start_time": "2024-06-28T19:38:34.260Z"
   },
   {
    "duration": 292,
    "start_time": "2024-06-28T19:38:41.945Z"
   },
   {
    "duration": 17,
    "start_time": "2024-06-28T19:38:58.693Z"
   },
   {
    "duration": 468,
    "start_time": "2024-06-28T19:39:16.509Z"
   },
   {
    "duration": 229,
    "start_time": "2024-06-28T19:40:36.818Z"
   },
   {
    "duration": 28,
    "start_time": "2024-06-28T19:40:42.937Z"
   },
   {
    "duration": 365,
    "start_time": "2024-06-28T19:41:37.938Z"
   },
   {
    "duration": 480,
    "start_time": "2024-06-28T19:41:43.671Z"
   },
   {
    "duration": 98,
    "start_time": "2024-06-28T19:54:52.863Z"
   },
   {
    "duration": 30,
    "start_time": "2024-06-28T19:58:48.862Z"
   },
   {
    "duration": 507,
    "start_time": "2024-06-28T19:59:45.623Z"
   },
   {
    "duration": 509,
    "start_time": "2024-06-28T20:01:23.595Z"
   },
   {
    "duration": 470,
    "start_time": "2024-06-28T20:08:12.260Z"
   },
   {
    "duration": 9,
    "start_time": "2024-06-28T20:08:56.368Z"
   },
   {
    "duration": 852,
    "start_time": "2024-06-28T20:09:20.935Z"
   },
   {
    "duration": 652,
    "start_time": "2024-06-28T20:12:11.818Z"
   },
   {
    "duration": 616,
    "start_time": "2024-06-28T20:12:56.293Z"
   },
   {
    "duration": 1089,
    "start_time": "2024-06-28T20:13:40.247Z"
   },
   {
    "duration": 20,
    "start_time": "2024-06-28T20:15:16.097Z"
   },
   {
    "duration": 745,
    "start_time": "2024-06-28T20:15:57.838Z"
   },
   {
    "duration": 86,
    "start_time": "2024-06-28T20:16:18.962Z"
   },
   {
    "duration": 610,
    "start_time": "2024-06-28T20:16:26.326Z"
   },
   {
    "duration": 1024,
    "start_time": "2024-06-28T20:16:37.332Z"
   },
   {
    "duration": 1235,
    "start_time": "2024-06-28T20:17:19.997Z"
   },
   {
    "duration": 627,
    "start_time": "2024-06-28T20:17:46.795Z"
   },
   {
    "duration": 1803,
    "start_time": "2024-06-28T20:28:27.523Z"
   },
   {
    "duration": 4,
    "start_time": "2024-06-28T20:28:29.328Z"
   },
   {
    "duration": 172,
    "start_time": "2024-06-28T20:28:29.333Z"
   },
   {
    "duration": 32,
    "start_time": "2024-06-28T20:28:29.507Z"
   },
   {
    "duration": 79,
    "start_time": "2024-06-28T20:28:29.541Z"
   },
   {
    "duration": 14,
    "start_time": "2024-06-28T20:28:29.621Z"
   },
   {
    "duration": 40,
    "start_time": "2024-06-28T20:28:29.637Z"
   },
   {
    "duration": 402,
    "start_time": "2024-06-28T20:28:29.679Z"
   },
   {
    "duration": 419,
    "start_time": "2024-06-28T20:28:30.083Z"
   },
   {
    "duration": 697,
    "start_time": "2024-06-28T20:28:30.505Z"
   },
   {
    "duration": 988,
    "start_time": "2024-06-28T20:28:31.204Z"
   },
   {
    "duration": 438,
    "start_time": "2024-06-28T20:28:32.193Z"
   },
   {
    "duration": 872,
    "start_time": "2024-06-28T20:28:32.633Z"
   },
   {
    "duration": 58,
    "start_time": "2024-06-28T20:28:33.507Z"
   },
   {
    "duration": 5124,
    "start_time": "2024-06-28T20:28:33.566Z"
   },
   {
    "duration": 19,
    "start_time": "2024-06-28T20:28:38.692Z"
   },
   {
    "duration": 1309,
    "start_time": "2024-06-28T20:28:38.713Z"
   },
   {
    "duration": 2308,
    "start_time": "2024-06-28T20:28:40.024Z"
   },
   {
    "duration": 2675,
    "start_time": "2024-06-28T20:28:42.334Z"
   },
   {
    "duration": 3004,
    "start_time": "2024-06-28T20:28:45.011Z"
   },
   {
    "duration": 214,
    "start_time": "2024-06-28T20:28:48.017Z"
   },
   {
    "duration": 291,
    "start_time": "2024-06-28T20:28:48.233Z"
   },
   {
    "duration": 800,
    "start_time": "2024-06-28T20:28:48.525Z"
   },
   {
    "duration": 3,
    "start_time": "2024-06-28T20:28:49.326Z"
   },
   {
    "duration": 642,
    "start_time": "2024-06-28T20:28:49.331Z"
   },
   {
    "duration": 1150,
    "start_time": "2024-06-28T20:28:49.975Z"
   },
   {
    "duration": 154,
    "start_time": "2024-06-28T20:28:51.127Z"
   },
   {
    "duration": 0,
    "start_time": "2024-06-28T20:28:51.283Z"
   },
   {
    "duration": 155,
    "start_time": "2024-06-28T22:23:44.478Z"
   },
   {
    "duration": 162,
    "start_time": "2024-06-28T22:23:55.727Z"
   },
   {
    "duration": 159,
    "start_time": "2024-06-28T22:24:19.256Z"
   },
   {
    "duration": 350,
    "start_time": "2024-06-28T22:24:32.319Z"
   },
   {
    "duration": 1761,
    "start_time": "2024-07-05T08:27:25.998Z"
   },
   {
    "duration": 3,
    "start_time": "2024-07-05T08:27:27.761Z"
   },
   {
    "duration": 407,
    "start_time": "2024-07-05T08:27:27.765Z"
   },
   {
    "duration": 48,
    "start_time": "2024-07-05T08:27:28.174Z"
   },
   {
    "duration": 88,
    "start_time": "2024-07-05T08:27:28.224Z"
   },
   {
    "duration": 30,
    "start_time": "2024-07-05T08:27:28.314Z"
   },
   {
    "duration": 15,
    "start_time": "2024-07-05T08:27:28.345Z"
   },
   {
    "duration": 359,
    "start_time": "2024-07-05T08:27:28.361Z"
   },
   {
    "duration": 528,
    "start_time": "2024-07-05T08:27:28.722Z"
   },
   {
    "duration": 816,
    "start_time": "2024-07-05T08:27:29.252Z"
   },
   {
    "duration": 1153,
    "start_time": "2024-07-05T08:27:30.070Z"
   },
   {
    "duration": 544,
    "start_time": "2024-07-05T08:27:31.224Z"
   },
   {
    "duration": 1105,
    "start_time": "2024-07-05T08:27:31.770Z"
   },
   {
    "duration": 90,
    "start_time": "2024-07-05T08:27:32.877Z"
   },
   {
    "duration": 6079,
    "start_time": "2024-07-05T08:27:32.968Z"
   },
   {
    "duration": 11,
    "start_time": "2024-07-05T08:27:39.049Z"
   },
   {
    "duration": 1580,
    "start_time": "2024-07-05T08:27:39.062Z"
   },
   {
    "duration": 3148,
    "start_time": "2024-07-05T08:27:40.643Z"
   },
   {
    "duration": 4442,
    "start_time": "2024-07-05T08:27:43.793Z"
   },
   {
    "duration": 15410,
    "start_time": "2024-07-05T08:27:48.237Z"
   },
   {
    "duration": 266,
    "start_time": "2024-07-05T08:28:03.649Z"
   },
   {
    "duration": 354,
    "start_time": "2024-07-05T08:28:03.916Z"
   },
   {
    "duration": 950,
    "start_time": "2024-07-05T08:28:04.272Z"
   },
   {
    "duration": 2,
    "start_time": "2024-07-05T08:28:05.224Z"
   },
   {
    "duration": 839,
    "start_time": "2024-07-05T08:28:05.227Z"
   },
   {
    "duration": 1323,
    "start_time": "2024-07-05T08:28:06.067Z"
   },
   {
    "duration": 385,
    "start_time": "2024-07-05T08:28:07.392Z"
   },
   {
    "duration": 1543,
    "start_time": "2024-07-05T08:28:07.780Z"
   }
  ],
  "celltoolbar": "Raw Cell Format",
  "colab": {
   "provenance": []
  },
  "kernelspec": {
   "display_name": "Python 3 (ipykernel)",
   "language": "python",
   "name": "python3"
  },
  "language_info": {
   "codemirror_mode": {
    "name": "ipython",
    "version": 3
   },
   "file_extension": ".py",
   "mimetype": "text/x-python",
   "name": "python",
   "nbconvert_exporter": "python",
   "pygments_lexer": "ipython3",
   "version": "3.9.5"
  },
  "toc": {
   "base_numbering": 1,
   "nav_menu": {},
   "number_sections": true,
   "sideBar": true,
   "skip_h1_title": true,
   "title_cell": "Table of Contents",
   "title_sidebar": "Contents",
   "toc_cell": false,
   "toc_position": {
    "height": "calc(100% - 180px)",
    "left": "10px",
    "top": "150px",
    "width": "349.047px"
   },
   "toc_section_display": true,
   "toc_window_display": true
  }
 },
 "nbformat": 4,
 "nbformat_minor": 4
}
